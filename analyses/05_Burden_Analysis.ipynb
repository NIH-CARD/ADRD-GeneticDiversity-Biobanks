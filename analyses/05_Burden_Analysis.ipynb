{
 "cells": [
  {
   "cell_type": "markdown",
   "id": "1745f95f",
   "metadata": {},
   "source": [
    "# Burden Analysis\n",
    "\n",
    "* **Project:** ADRD Genetic Diversity in Biobanks\n",
    "* **Version:** Python/3.9 and 3.10\n",
    "* **Last Updated:** 20-FEB-2025\n",
    "\n",
    "## Notebook Overview\n",
    "Burden analysis"
   ]
  },
  {
   "cell_type": "markdown",
   "id": "85420add",
   "metadata": {},
   "source": [
    "# Query ADSP to do Burden analysis"
   ]
  },
  {
   "cell_type": "code",
   "execution_count": null,
   "id": "a7be8f6d",
   "metadata": {},
   "outputs": [],
   "source": [
    "import numpy as np\n",
    "import pandas as pd\n",
    "import sys\n",
    "from functools import reduce\n",
    "import argparse"
   ]
  },
  {
   "cell_type": "code",
   "execution_count": null,
   "id": "771c5f8d-e40b-4b23-8b93-f7f4f2925c43",
   "metadata": {},
   "outputs": [],
   "source": [
    "%%bash\n",
    "module load plink/2.0\n",
    "plink2 --bfile ${WORK_DIR}/filtered_UNQC_Files --max-maf 0.01 --make-bed --out UnQC_EUR_maf"
   ]
  },
  {
   "cell_type": "code",
   "execution_count": null,
   "id": "b41cc71e-60f5-47ff-ac02-93bc394cfe2c",
   "metadata": {},
   "outputs": [],
   "source": [
    "%%writefile var_rang.txt\n",
    "chr1 155234452 155244627\n",
    "chr1 226870616 226903668 \n",
    "chr4 89724099 89838304\n",
    "chr6 41158508 41163116 \n",
    "chr14 73136417 73223691\n",
    "chr17 44345302 44353106\n",
    "chr17 45894554 46028334\n",
    "chr19 44905796 44909393\n",
    "chr21 25880550 26171128\n",
    "chr12 64452120 64502114\n",
    "chr1 11012654 11025492"
   ]
  },
  {
   "cell_type": "code",
   "execution_count": null,
   "id": "1ebd9f4c-d69e-4a4f-b536-3a4310ebcc20",
   "metadata": {},
   "outputs": [],
   "source": [
    "%%bash\n",
    "module load plink/2.0\n",
    "plink2 --bfile UnQC_EUR_maf --extract range var_rang.txt --make-bed --out UnQC_EUR_maf_range "
   ]
  },
  {
   "cell_type": "code",
   "execution_count": null,
   "id": "67bab030-150c-4dbd-abd2-e0889ff293f9",
   "metadata": {},
   "outputs": [],
   "source": [
    "%%bash\n",
    "module load plink/2.0\n",
    "plink2 --bfile UnQC_EUR_maf_range --recode vcf-iid --out UnQC_EUR_maf_range_recode"
   ]
  },
  {
   "cell_type": "code",
   "execution_count": null,
   "id": "8f8cb211-1883-4b14-8d44-819936ae6ae0",
   "metadata": {},
   "outputs": [],
   "source": [
    "! module load annovar "
   ]
  },
  {
   "cell_type": "markdown",
   "id": "281f498e-09a5-4b6b-a318-af3335792ada",
   "metadata": {},
   "source": [
    "## Annotation"
   ]
  },
  {
   "cell_type": "code",
   "execution_count": null,
   "id": "35c53f4e-39ea-4d14-adb8-26b1b7f3e64a",
   "metadata": {},
   "outputs": [],
   "source": [
    "%%bash\n",
    "\n",
    "table_annovar.pl UnQC_EUR_maf_range_recode.vcf $ANNOVAR_DATA/hg38 -buildver hg38 \\\n",
    "--thread 8 \\\n",
    "--out UnQC_EUR_maf_range_recode.annovar \\\n",
    "-remove -protocol refGene,avsnp151,clinvar_20240917,dbnsfp47a,dbnsfp47a_interpro,gnomad41_genome \\\n",
    "-operation g,f,f,f,f,f  \\\n",
    "--nopolish \\\n",
    "-nastring . \\\n",
    "-vcfinput"
   ]
  },
  {
   "cell_type": "code",
   "execution_count": 17,
   "id": "799c049e-3b42-4a3c-a6ce-7d64a4ea2071",
   "metadata": {},
   "outputs": [],
   "source": [
    "! grep -v contig UnQC_EUR_maf_range_recode.annovar.hg38_multianno.vcf | grep chr| grep -v intergenic | grep -v intronic | grep -v UTR | grep -v downstream| grep -v ncRNA_exonic | grep -v upstream > UnQC_All_variants"
   ]
  },
  {
   "cell_type": "code",
   "execution_count": null,
   "id": "ae65fdb9-5fec-4c3e-9452-dc78aca1a5f0",
   "metadata": {},
   "outputs": [],
   "source": [
    "import pandas as pd\n",
    "import re\n",
    "from collections import Counter\n",
    "\n",
    "filename = \"UnQC_All_variants\" \n",
    "\n",
    "with open(filename, \"r\") as f:\n",
    "    lines = f.readlines()\n",
    "\n",
    "exonic_func_list = []\n",
    "\n",
    "for line in lines:\n",
    "    match = re.search(r'ExonicFunc\\.refGene=([^;\\n]+)', line)  \n",
    "    if match:\n",
    "        exonic_func_list.append(match.group(1))  \n",
    "\n",
    "\n",
    "exonic_func_counts = Counter(exonic_func_list)\n",
    "\n",
    "\n",
    "summary_df = pd.DataFrame(exonic_func_counts.items(), columns=[\"Exonic Function\", \"Count\"])\n",
    "\n",
    "\n",
    "print(summary_df)\n",
    "\n",
    "\n",
    "summary_df.to_csv(\"ExonicFunc_Summary.csv\", index=False)\n",
    "print(\"Summary saved as 'ExonicFunc_Summary.csv'\")\n"
   ]
  },
  {
   "cell_type": "code",
   "execution_count": null,
   "id": "e69dbbd7-3565-41c1-aaad-f7f7d90aba11",
   "metadata": {},
   "outputs": [],
   "source": [
    "import pandas as pd\n",
    "import re\n",
    "\n",
    "\n",
    "filename = \"UnQC_All_variants\"  \n",
    "\n",
    "\n",
    "synonymous_variants = []\n",
    "other_variants = []\n",
    "\n",
    "\n",
    "with open(filename, \"r\") as f:\n",
    "    for line in f:\n",
    "        match = re.search(r'ExonicFunc\\.refGene=([^;\\n]+)', line)  \n",
    "        if match:\n",
    "            exonic_func = match.group(1)  \n",
    "            if exonic_func == \"synonymous_SNV\":\n",
    "                synonymous_variants.append(line)  \n",
    "            else:\n",
    "                other_variants.append(line)  \n",
    "\n",
    "\n",
    "synonymous_filename = \"synonymous_SNV_variants.txt\"\n",
    "other_variants_filename = \"Allminus_synonymous_variants.txt\"\n",
    "\n",
    "with open(synonymous_filename, \"w\") as f:\n",
    "    f.writelines(synonymous_variants)\n",
    "\n",
    "with open(other_variants_filename, \"w\") as f:\n",
    "    f.writelines(other_variants)\n",
    "\n",
    "print(f\"Synonymous SNV variants saved to: {synonymous_filename}\")\n",
    "print(f\"Other variants saved to: {other_variants_filename}\")\n"
   ]
  },
  {
   "cell_type": "code",
   "execution_count": null,
   "id": "ecdc5d4f-fc72-42aa-8733-a0cb8a34bef9",
   "metadata": {},
   "outputs": [],
   "source": [
    "\n",
    "input_files = [\"synonymous_SNV_variants.txt\", \"Allminus_synonymous_variants.txt\"]\n",
    "output_files = [\"synonymous_SNV_column3.txt\", \"Allminus_synonymous_variants_column3.txt\"]\n",
    "\n",
    "for i in range(2):\n",
    "    input_filename = input_files[i]\n",
    "    output_filename = output_files[i]\n",
    "\n",
    "    \n",
    "    with open(input_filename, \"r\") as infile, open(output_filename, \"w\") as outfile:\n",
    "        for line in infile:\n",
    "            columns = line.strip().split(\"\\t\")  \n",
    "            if len(columns) >= 3:\n",
    "                outfile.write(columns[2] + \"\\n\")  \n",
    "\n",
    "    print(f\"Extracted third column saved to: {output_filename}\")\n"
   ]
  },
  {
   "cell_type": "code",
   "execution_count": null,
   "id": "90f6be86-ea0d-47dd-a6d9-8defce886513",
   "metadata": {},
   "outputs": [],
   "source": [
    "%%writefile var_remove2.txt\n",
    "chr21:25891796:C:T\n",
    "chr14:73170945:C:T\n",
    "chr17:46024061:C:T\n",
    "chr17:44350757:G:A\n",
    "chr1:11022268:G:A\n",
    "chr14:73198067:G:A\n",
    "chr1:11022268:G:A\n",
    "chr1:155237446:G:T\n",
    "chr1:155238206:A:C\n",
    "chr1:155238228:A:G\n",
    "chr1:155238302:G:A\n",
    "chr14:73170945:C:T\n",
    "chr14:73192832:C:A\n",
    "chr14:73198061:C:T\n",
    "chr14:73198067:G:A\n",
    "chr17:44350449:G:GCTGTGAAGACAGGGTGCACTGCTGT\n",
    "chr17:44350801:G:A\n",
    "chr17:44351438:G:A\n",
    "chr17:44352087:C:T\n",
    "chr17:44352404:C:T\n",
    "chr17:46024061:C:T\n",
    "chr21:25891784:C:T\n",
    "chr21:25891856:C:G\n",
    "chr12:64497215:G:C\n",
    "chr12:64455934:A:C\n",
    "chr12:64474372:G:A\n",
    "chr12:64488572:GA:G"
   ]
  },
  {
   "cell_type": "code",
   "execution_count": null,
   "id": "56d1b6e8-2221-455a-9784-72471d45f606",
   "metadata": {},
   "outputs": [],
   "source": [
    "%%bash\n",
    "module load plink/2.0\n",
    "plink2 --vcf UnQC_EUR_maf_range_recode.annovar.hg38_multianno.vcf  --extract synonymous_SNV_column3.txt --recode vcf --out  UnQC_EUR_maf_range_recode.annovar.hg38_multianno_syn.vcf"
   ]
  },
  {
   "cell_type": "code",
   "execution_count": null,
   "id": "78b5868b-1b15-477c-b9af-737774b8afe9",
   "metadata": {},
   "outputs": [],
   "source": [
    "%%bash\n",
    "module load plink/2.0\n",
    "plink2 --vcf UnQC_EUR_maf_range_recode.annovar.hg38_multianno.vcf  --extract Allminus_synonymous_variants_column3.txt --exclude var_remove2.txt --recode vcf --out UnQC_EUR_maf_range_recode.annovar.hg38_multianno_allminussyn.vcf"
   ]
  },
  {
   "cell_type": "markdown",
   "id": "c1334b60-f7ce-4247-864f-9c73375f0594",
   "metadata": {},
   "source": [
    "## Burden analysis"
   ]
  },
  {
   "cell_type": "code",
   "execution_count": null,
   "id": "90fbd550-3f00-431e-b032-3b490528f148",
   "metadata": {},
   "outputs": [],
   "source": [
    "df_covar = pd.read_csv(\"${WORK_DIR}/covars_alldata_with999forAGRandRACE_PCA.txt\", sep=\"\\t\")\n",
    "df_covar"
   ]
  },
  {
   "cell_type": "code",
   "execution_count": null,
   "id": "dd8e2547-cc1e-404b-858d-8e5d0c45f04f",
   "metadata": {},
   "outputs": [],
   "source": [
    "df_pheno = pd.read_csv(f\"${WORK_DIR}/FID_IID_PHENO_EUR.fam\", sep=\" \")\n",
    "df_covar_ancestry = df_covar.merge(df_pheno, on=[\"FID\",\"IID\"], how=\"inner\")\n",
    "df_covar_ancestry.to_csv(f\"${WORK_DIR}/burden_covar_EUR.txt\", sep=\"\\t\", index=False)\n"
   ]
  },
  {
   "cell_type": "code",
   "execution_count": null,
   "id": "9506df76-2e77-469d-b63d-077dd815aa96",
   "metadata": {},
   "outputs": [],
   "source": [
    "%%bash\n",
    "module load rvtests/2.1.0"
   ]
  },
  {
   "cell_type": "code",
   "execution_count": null,
   "id": "4b91f172-2ec6-461c-b08f-7c2fe4e8d3c2",
   "metadata": {},
   "outputs": [],
   "source": [
    "%%bash\n",
    "rvtest "
   ]
  },
  {
   "cell_type": "markdown",
   "id": "92f39671-0bac-43af-a736-8ffcd9cb2969",
   "metadata": {},
   "source": [
    "## Synonymous variants"
   ]
  },
  {
   "cell_type": "code",
   "execution_count": 37,
   "id": "f3e4a7a7-a07c-46d1-921d-e9a459196f17",
   "metadata": {},
   "outputs": [],
   "source": [
    "! bgzip  UnQC_EUR_maf_range_recode.annovar.hg38_multianno_syn.vcf.vcf -k"
   ]
  },
  {
   "cell_type": "code",
   "execution_count": 38,
   "id": "84264d94-9ff3-4ebe-982a-65a2599ad120",
   "metadata": {},
   "outputs": [],
   "source": [
    "! tabix -f -p vcf UnQC_EUR_maf_range_recode.annovar.hg38_multianno_syn.vcf.vcf.gz"
   ]
  },
  {
   "cell_type": "code",
   "execution_count": null,
   "id": "c0ee7df3-5104-4c36-90ec-e14c9f74d6f9",
   "metadata": {},
   "outputs": [],
   "source": [
    "%%bash\n",
    "rvtest \\\n",
    "--inVcf UnQC_EUR_maf_range_recode.annovar.hg38_multianno_syn.vcf.vcf.gz \\\n",
    "--out UnQC_Allgenes_syn.burden \\\n",
    "--numThread 10 \\\n",
    "--noweb \\\n",
    "--hide-covar \\\n",
    "--kernel skat,skato \\\n",
    "--pheno \"${WORK_DIR}/burden_covar_EUR.txt\" \\\n",
    "--pheno-name PHENO \\\n",
    "--geneFile refFlat.txt \\\n",
    "--covar \"${WORK_DIR}/burden_covar_EUR.txt\" \\\n",
    "--covar-name SEX,AGE,PC1,PC2,PC3,PC4,PC5,PC6,PC7,PC8,PC9,PC10 \\\n",
    "--multipleAllele \\\n",
    "--gene APP,PSEN1,PSEN2,TREM2,SNCA,APOE,GRN,MAPT,TARDBP,TBK1,GBA "
   ]
  },
  {
   "cell_type": "markdown",
   "id": "35a7db5b-1eba-4b4f-98d1-ba767997450f",
   "metadata": {},
   "source": [
    "## All variants excluding synonymous"
   ]
  },
  {
   "cell_type": "code",
   "execution_count": 41,
   "id": "9a58175e-d541-4897-8f33-be31c57e8e50",
   "metadata": {},
   "outputs": [],
   "source": [
    "! bgzip  UnQC_EUR_maf_range_recode.annovar.hg38_multianno_allminussyn.vcf.vcf -k"
   ]
  },
  {
   "cell_type": "code",
   "execution_count": 43,
   "id": "6cb455a7-effb-4faa-82a6-c04a198b3d0d",
   "metadata": {},
   "outputs": [],
   "source": [
    "! tabix -f -p vcf UnQC_EUR_maf_range_recode.annovar.hg38_multianno_allminussyn.vcf.vcf.gz"
   ]
  },
  {
   "cell_type": "code",
   "execution_count": null,
   "id": "7476555c-b655-40d8-95ff-9c22ab6e8e40",
   "metadata": {},
   "outputs": [],
   "source": [
    "%%bash\n",
    "rvtest \\\n",
    "--inVcf  UnQc_EUR_maf_range_recode.annovar.hg38_multianno_allminussyn.vcf.vcf.gz \\\n",
    "--out Allgenesminus_syn.burden \\\n",
    "--numThread 10 \\\n",
    "--noweb \\\n",
    "--hide-covar \\\n",
    "--kernel skat,skato \\\n",
    "--pheno \"${WORK_DIR}/burden_covar_EUR.txt\" \\\n",
    "--pheno-name PHENO \\\n",
    "--geneFile refFlat.txt \\\n",
    "--covar \"${WORK_DIR}/burden_covar_EUR.txt\" \\\n",
    "--covar-name SEX,AGE,PC1,PC2,PC3,PC4,PC5,PC6,PC7,PC8,PC9,PC10 \\\n",
    "--multipleAllele \\\n",
    "--gene APP,PSEN1,PSEN2,TREM2,SNCA,APOE,GRN,MAPT,TARDBP,TBK1,GBA "
   ]
  }
 ],
 "metadata": {
  "kernelspec": {
   "display_name": "python/3.10",
   "language": "python",
   "name": "py3.10"
  },
  "language_info": {
   "codemirror_mode": {
    "name": "ipython",
    "version": 3
   },
   "file_extension": ".py",
   "mimetype": "text/x-python",
   "name": "python",
   "nbconvert_exporter": "python",
   "pygments_lexer": "ipython3",
   "version": "3.10.8"
  }
 },
 "nbformat": 4,
 "nbformat_minor": 5
}
