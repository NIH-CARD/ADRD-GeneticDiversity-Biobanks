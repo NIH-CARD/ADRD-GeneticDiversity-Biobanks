{
 "cells": [
  {
   "cell_type": "markdown",
   "id": "d234c639",
   "metadata": {},
   "source": [
    "# UKBiobank\n",
    "\n",
    "* **Project:** ADRD Genetic Diversity in Biobanks\n",
    "* **Version:** Python/3.9\n",
    "* **Last Updated:** 22-August-2024\n",
    "\n",
    "## Notebook Overview\n",
    "Fetch cohorts, ancestry info, remove related individuals, filter non-WGS, combine pVCFs, normalize VCFs, annotate, allele freqs, APOE genotyping, phenotype data, resilience/protective variants"
   ]
  },
  {
   "cell_type": "markdown",
   "id": "9b69a02d",
   "metadata": {
    "jp-MarkdownHeadingCollapsed": true
   },
   "source": [
    "# Initialize Notebook"
   ]
  },
  {
   "cell_type": "markdown",
   "id": "b11a388c-5ca1-4097-91a5-29e8dc6bd559",
   "metadata": {
    "jp-MarkdownHeadingCollapsed": true,
    "tags": []
   },
   "source": [
    "## Import packages"
   ]
  },
  {
   "cell_type": "code",
   "execution_count": null,
   "id": "cd14b439-3a34-4910-96d6-fc7afaede06f",
   "metadata": {
    "tags": []
   },
   "outputs": [],
   "source": [
    "import pyspark\n",
    "import dxdata\n",
    "import dxpy\n",
    "import pandas as pd\n",
    "from datetime import date, datetime\n",
    "import os \n",
    "import numpy as np\n",
    "import random\n",
    "import shutil\n",
    "import glob\n",
    "import requests\n",
    "from functools import reduce\n",
    "\n",
    "sc = pyspark.SparkContext()\n",
    "spark = pyspark.sql.SparkSession(sc)\n"
   ]
  },
  {
   "cell_type": "markdown",
   "id": "a579174a-8b5a-488d-af45-aa9ed13205d2",
   "metadata": {
    "jp-MarkdownHeadingCollapsed": true,
    "tags": []
   },
   "source": [
    "## Initialize variables"
   ]
  },
  {
   "cell_type": "code",
   "execution_count": null,
   "id": "adff6de3-eef6-4029-ae05-b3905bf83d43",
   "metadata": {
    "tags": []
   },
   "outputs": [],
   "source": [
    "gene_names = [\n",
    "    \"APOE\",\n",
    "    \"APP\",\n",
    "    \"GBA1\",\n",
    "    \"GBA1LP\",\n",
    "    \"GRN\",\n",
    "    \"MAPT\",\n",
    "    \"PSEN1\",\n",
    "    \"PSEN2\",\n",
    "    \"SNCA\",\n",
    "    \"TREM2\",\n",
    "]\n"
   ]
  },
  {
   "cell_type": "markdown",
   "id": "2efc43ef-80dd-4450-9c64-98735c8a2216",
   "metadata": {
    "jp-MarkdownHeadingCollapsed": true,
    "tags": []
   },
   "source": [
    "## Initialize helper functions"
   ]
  },
  {
   "cell_type": "code",
   "execution_count": null,
   "id": "3c7822be-2a15-455a-ab3f-28a8211ab69b",
   "metadata": {
    "tags": []
   },
   "outputs": [],
   "source": [
    "def fetch_gene_info_ensembl(gene_names, species='human', genome_version='GRCh38'):\n",
    "    gene_info_dict = {}\n",
    "    server = \"https://rest.ensembl.org\"\n",
    "    \n",
    "    for gene_name in gene_names:\n",
    "        endpoint = f\"/lookup/symbol/{species}/{gene_name}\"\n",
    "        headers = {\"Content-Type\": \"application/json\"}\n",
    "\n",
    "        response = requests.get(server + endpoint, headers=headers, params={\"expand\": \"1\"})\n",
    "        if not response.ok:\n",
    "            print(f\"Fetching failed for {gene_name}\")\n",
    "            continue\n",
    "\n",
    "        data = response.json()\n",
    "        gene_info = {\n",
    "            \"gene_name\": data.get(\"display_name\", gene_name),\n",
    "            \"chromosome\": f\"chr{data['seq_region_name']}\",\n",
    "            \"start\": int(data[\"start\"]),\n",
    "            \"end\": int(data[\"end\"]),\n",
    "            \"genome_version\": genome_version\n",
    "        }\n",
    "\n",
    "        gene_info_dict[gene_name] = gene_info\n",
    "\n",
    "    return gene_info_dict\n"
   ]
  },
  {
   "cell_type": "markdown",
   "id": "6db4eb5c-7b62-4cca-9413-3f60389debfa",
   "metadata": {
    "jp-MarkdownHeadingCollapsed": true,
    "tags": []
   },
   "source": [
    "# Fetch cohorts"
   ]
  },
  {
   "cell_type": "markdown",
   "id": "4759399f-16f7-4135-b76d-309603968270",
   "metadata": {
    "jp-MarkdownHeadingCollapsed": true,
    "tags": []
   },
   "source": [
    "## Grab the dataset containing participant information"
   ]
  },
  {
   "cell_type": "code",
   "execution_count": null,
   "id": "cbfbf832-1d99-434a-9390-ede2b7245c42",
   "metadata": {
    "tags": []
   },
   "outputs": [],
   "source": [
    "dispensed_dataset_id = dxpy.find_one_data_object(typename=\"Dataset\", name=\"app*.dataset\", folder=\"/\", name_mode=\"glob\")[\"id\"]\n",
    "dataset = dxdata.load_dataset(id=dispensed_dataset_id)\n",
    "participant = dataset[\"participant\"]\n"
   ]
  },
  {
   "cell_type": "markdown",
   "id": "9ea3457f-503d-4b56-9aed-43ca4255495d",
   "metadata": {
    "jp-MarkdownHeadingCollapsed": true,
    "tags": []
   },
   "source": [
    "## Retrieve Cases"
   ]
  },
  {
   "cell_type": "markdown",
   "id": "afaebbea-2258-4d46-b4f0-1c7eda2e1a25",
   "metadata": {
    "jp-MarkdownHeadingCollapsed": true,
    "tags": []
   },
   "source": [
    "### AD + Non-AD Dementia Cohorts"
   ]
  },
  {
   "cell_type": "markdown",
   "id": "b85518c4-29ea-41cf-88d5-aee787f51bda",
   "metadata": {
    "jp-MarkdownHeadingCollapsed": true,
    "tags": []
   },
   "source": [
    "#### Pull down the fields we need \n",
    "https://docs.google.com/document/d/1AebkQ-Nxrk63jhsDzZpn5QD-7EK4unsykHVj-saEm3U/edit?usp=sharing"
   ]
  },
  {
   "cell_type": "code",
   "execution_count": null,
   "id": "f917dc60-cc2c-4991-9732-5b632c39258f",
   "metadata": {
    "tags": []
   },
   "outputs": [],
   "source": [
    "field_names = [\n",
    "    \"eid\", \n",
    "    \"p31\", \n",
    "    \"p34\", \n",
    "    \"p22189\", \n",
    "    \"p22006\", \n",
    "    \"p21022\", \n",
    "    \"p42020\", \n",
    "    \"p42018\", \n",
    "    \"p22009_a1\", \n",
    "    \"p22009_a2\", \n",
    "    \"p22009_a3\", \n",
    "    \"p22009_a4\", \n",
    "    \"p22009_a5\", \n",
    "    \"p40000_i0\",\n",
    "    \"p120042\",\n",
    "    \"p26302_i2\",\n",
    "    \"p26302_i3\",\n",
    "    \"p21625_i2\",\n",
    "    \"p21625_i3\",\n",
    "    \"p62_i0\",\n",
    "    \"p62_i1\",\n",
    "    \"p62_i2\",\n",
    "    #\"p32104\",\n",
    "    #\"p32105\",\n",
    "    #\"p32106\",\n",
    "    #\"p32107\",\n",
    "    #\"p32108\",\n",
    "    #\"p32109\",\n",
    "]\n",
    "cases_df = participant.retrieve_fields(names=field_names, coding_values=\"replace\", engine=dxdata.connect())\n",
    "cases_df = cases_df.toPandas()\n"
   ]
  },
  {
   "cell_type": "markdown",
   "id": "04b0abf1-b83d-49ae-8513-d95afee0e91a",
   "metadata": {
    "jp-MarkdownHeadingCollapsed": true,
    "tags": []
   },
   "source": [
    "#### Rename columns to be human-readable"
   ]
  },
  {
   "cell_type": "code",
   "execution_count": null,
   "id": "f6709363-3dd9-4265-a3c0-324eab83c72f",
   "metadata": {
    "tags": []
   },
   "outputs": [],
   "source": [
    "cases_df = cases_df.rename(columns={\n",
    "    'eid':'ID',\n",
    "    'p31':'GENETIC_SEX', \n",
    "    'p34':'BIRTH_YEAR', \n",
    "    'p22189':'TOWNSEND', \n",
    "    'p22006':'ETHNICITY', \n",
    "    'p21022':'AGE_OF_RECRUIT',\n",
    "    'p42020':'AD_DATE',\n",
    "    'p42018':'DEM_DATE',\n",
    "    'p22009_a1':'PC1',\n",
    "    'p22009_a2':'PC2',\n",
    "    'p22009_a3':'PC3',\n",
    "    'p22009_a4':'PC4',\n",
    "    'p22009_a5':'PC5',\n",
    "    'p40000_i0':'DATE_OF_DEATH',\n",
    "    \"p120042\":\"COGNITIVE_SYMPTOMS_SEVERITY_PAST_WEEK\",\n",
    "    \"p26302_i2\":\"SPECIFIC_COGNITIVE_ABILITY_2014\",\n",
    "    \"p26302_i3\":\"SPECIFIC_COGNITIVE_ABILITY_2019\",\n",
    "    \"p21625_i2\":\"TOUCHSCREEN_COGNITIVE_DURATION_2014\",\n",
    "    \"p21625_i3\":\"TOUCHSCREEN_COGNITIVE_DURATION_2019\",\n",
    "    \"p62_i0\":\"COGNITIVE_TEST_WILLINGNESS\",\n",
    "    \"p62_i1\":\"COGNITIVE_TEST_WILLINGNESS\",\n",
    "    \"p62_i2\":\"COGNITIVE_TEST_WILLINGNESS\",\n",
    "    #\"p32104\":\"FORGETFULNESS_PAST_WEEK\",\n",
    "    #\"p32105\":\"POOR_CONCENTRATION_PAST_WEEK\",\n",
    "    #\"p32106\":\"TROUBLE_EXPRESSING_THOUGHTS_PAST_WEEK\",\n",
    "    #\"p32107\":\"TROUBLE_FINDING_RIGHT_WORD_PAST_WEEK\",\n",
    "    #\"p32108\":\"SLOW_THINKING_SPEED_PAST_WEEK\",\n",
    "    #\"p32109\":\"TROUBLE_SOLVING_PROBLEMS_PAST_WEEK\",\n",
    "})\n"
   ]
  },
  {
   "cell_type": "markdown",
   "id": "70b05066-05f2-460d-9566-22f8c2d06f01",
   "metadata": {
    "jp-MarkdownHeadingCollapsed": true,
    "tags": []
   },
   "source": [
    "#### Find participants with AD and RD"
   ]
  },
  {
   "cell_type": "code",
   "execution_count": null,
   "id": "4fe6d7fc-01b8-401f-a7f4-584ca57cdeef",
   "metadata": {
    "tags": []
   },
   "outputs": [],
   "source": [
    "# AD:\n",
    "ad_df = cases_df[~cases_df[f'AD_DATE'].isna()]\n",
    "ad_df = ad_df[[\n",
    "    'ID', 'GENETIC_SEX', 'BIRTH_YEAR', 'TOWNSEND', 'ETHNICITY', 'AGE_OF_RECRUIT', \n",
    "    f'AD_DATE', 'PC1', 'PC2', 'PC3', 'PC4', 'PC5', 'DATE_OF_DEATH', \n",
    "    \"COGNITIVE_SYMPTOMS_SEVERITY_PAST_WEEK\", \"SPECIFIC_COGNITIVE_ABILITY_2014\",\n",
    "    \"SPECIFIC_COGNITIVE_ABILITY_2019\", \"TOUCHSCREEN_COGNITIVE_DURATION_2014\",\n",
    "    \"TOUCHSCREEN_COGNITIVE_DURATION_2019\", \"COGNITIVE_TEST_WILLINGNESS\",\n",
    "    \"COGNITIVE_TEST_WILLINGNESS\", \"COGNITIVE_TEST_WILLINGNESS\",\n",
    "]]\n",
    "ad_df[\"ID\"] = pd.to_numeric(ad_df[\"ID\"])\n",
    "    \n",
    "# RD:\n",
    "rd_df = cases_df[cases_df['AD_DATE'].isna() & ~cases_df['DEM_DATE'].isna()]\n",
    "rd_df = rd_df[[\n",
    "    'ID', 'GENETIC_SEX', 'BIRTH_YEAR', 'TOWNSEND', 'ETHNICITY', 'AGE_OF_RECRUIT', \n",
    "    'DEM_DATE', 'PC1', 'PC2', 'PC3', 'PC4', 'PC5', 'DATE_OF_DEATH', \n",
    "    \"COGNITIVE_SYMPTOMS_SEVERITY_PAST_WEEK\", \"SPECIFIC_COGNITIVE_ABILITY_2014\",\n",
    "    \"SPECIFIC_COGNITIVE_ABILITY_2019\", \"TOUCHSCREEN_COGNITIVE_DURATION_2014\",\n",
    "    \"TOUCHSCREEN_COGNITIVE_DURATION_2019\", \"COGNITIVE_TEST_WILLINGNESS\",\n",
    "    \"COGNITIVE_TEST_WILLINGNESS\", \"COGNITIVE_TEST_WILLINGNESS\",\n",
    "]]\n",
    "rd_df[\"ID\"] = pd.to_numeric(rd_df[\"ID\"])\n"
   ]
  },
  {
   "cell_type": "markdown",
   "id": "eba6b23a-ece6-40c2-9ec1-71b88e992e48",
   "metadata": {
    "jp-MarkdownHeadingCollapsed": true,
    "tags": []
   },
   "source": [
    "## Retrieve Controls"
   ]
  },
  {
   "cell_type": "markdown",
   "id": "96fb1da9-2893-45de-b9f2-93f45f7cc63c",
   "metadata": {
    "jp-MarkdownHeadingCollapsed": true,
    "tags": []
   },
   "source": [
    "### Age 65+, no NDD, no parents with AD or PD"
   ]
  },
  {
   "cell_type": "markdown",
   "id": "8c8baa9a-cdf5-4aae-bfa3-c2123f2d9f26",
   "metadata": {
    "jp-MarkdownHeadingCollapsed": true,
    "tags": []
   },
   "source": [
    "#### Retrieve field names of interest for each participant"
   ]
  },
  {
   "cell_type": "code",
   "execution_count": null,
   "id": "e8bfdd82-c980-45fb-9051-8fb3106f1f39",
   "metadata": {
    "tags": []
   },
   "outputs": [],
   "source": [
    "# Date G10 first reported (huntington's disease),\n",
    "# Date D11 first reported (hereditary ataxia), \n",
    "# Date G12 first reported (spinal muscular atrophy and related syndromes), \n",
    "# Date G13 first reported (systemic atrophies primarily affecting central nervous system in diseases classified elswhere), \n",
    "# Date G14 first reported (postpolio syndrome), \n",
    "# Date G20 first reported (parkinson's disease), \n",
    "# Date G21 first reported (secondary parkinsonism), \n",
    "# Date G22 first reported (parkinsonism in diseases classified elsewhere), \n",
    "# Date G23 first reported (other degenerative diseases of basal ganglia), \n",
    "# Date G24 first reported (dystonia), \n",
    "# Date G25 first reported (other extrapyramidal and movement disorders), \n",
    "# Date G30 first reported (alzheimer's disease), \n",
    "# Date G31 first reported (other degenerative diseases of nervous system, not elsewhere classified), \n",
    "# Date G32 first reported (other degenerative disorders of nervous system in diseases classified elsewhere), \n",
    "# Date G35 first reported (multiple sclerosis), \n",
    "# Date G36 first reported (other acute disseminated demyelination), \n",
    "# Date G37 first reported (other demyelinating diseases of central nervous system), \n",
    "# Date G45 first reported (transient cerebral ischaemic attacks and related syndromes), \n",
    "# Date G46 first reported (vascular syndromes of brain in cerebrovascular diseases), \n",
    "# Date G50 first reported (disorders of trigeminal nerve), \n",
    "# Date G52 first reported (disorders of other cranial nerves), \n",
    "# Date G53 first reported (cranial nerve disorders in diseases classified elsewhere), \n",
    "# Date G54 first reported (nerve root and plexus disorders), \n",
    "# Date G55 first reported (nerve root and plexus compressions in diseases classified elsewhere), \n",
    "# Date G56 first reported (mononeuropathies of upper limb), \n",
    "# Date G57 first reported (mononeuropathies of lower limb), \n",
    "# Date G58 first reported (other mononeuropathies), \n",
    "# Date G59 first reported (mononeuropathy in diseases classified elsewhere), \n",
    "# Date G60 first reported (hereditary and idiopathic neuropathy), \n",
    "# Date G61 first reported (inflammatory polyneuropathy), \n",
    "# Date G62 first reported (other polyneuropathies), \n",
    "# Date G63 first reported (polyneuropathy in diseases classified elsewhere), \n",
    "# Date G64 first reported (other disorders of peripheral nervous system), \n",
    "# Date G70 first reported (myasthenia gravis and other myoneural disorders), \n",
    "# Date G71 first reported (primary disorders of muscles), \n",
    "# Date G72 first reported (other myopathies), \n",
    "# Date G73 first reported (disorders of myoneural junction and muscle in diseases classified elsewhere), \n",
    "# Date G80 first reported (infantile cerebral palsy), \n",
    "# Date G81 first reported (hemiplegia), \n",
    "# Date G82 first reported (paraplegia and tetraplegia), \n",
    "# Date G83 first reported (other paralytic syndromes), \n",
    "# Date G90 first reported (disorders of autonomic nervous system),\n",
    "# Date G91 first reported (hydrocephalus), \n",
    "# Date G92 first reported (toxic encephalopathy), \n",
    "# Date G93 first reported (other disorders of brain), \n",
    "# Date G94 first reported (other disorders of brain in diseases classified elsewhere), \n",
    "# Date G96 first reported (other disorders of central nervous system), \n",
    "# Date G97 first reported (postprocedural disorders of nervous system, not elsewhere classified),  \n",
    "# Date G98 first reported (other disorders of nervous system, not elsewhere classified), \n",
    "# Date G99 first reported (other disorders of nervous system in diseases classified elsewhere), \n",
    "# Date of all cause dementia report, \n",
    "# Date of alzheimer's disease report, \n",
    "# Date of vascular dementia report, \n",
    "# Date of frontotemporal dementia report, \n",
    "# Date of motor neurone disease report, \n",
    "# Date of all cause parkinsonism report, \n",
    "# Date of parkinson's disease report, \n",
    "# Date of progressive supranuclear palsy report, \n",
    "# Date of multiple system atrophy report, \n",
    "# Genetic ethnic grouping, \n",
    "# Age at recruitment, \n",
    "# Townsend deprivation index at recruitment, \n",
    "# Sex, \n",
    "# Genetic Principal components | Array 1, \n",
    "# Genetic Principal components | Array 2, \n",
    "# Genetic Principal components | Array 3, \n",
    "# Genetic Principal components | Array 4, \n",
    "# Genetic Principal components | Array 5\n",
    "\n",
    "field_names = ['eid', 'p131012', 'p131016', 'p131018', 'p131020', 'p131022', 'p131024', 'p131026', 'p131028', 'p131030', 'p131036', 'p131038', 'p131040', 'p131042',\n",
    "               'p131046', 'p131056', 'p131058', 'p131062', 'p131066', 'p131068', 'p131070', 'p131074', 'p131076', 'p131078', 'p131080', 'p131082', 'p131084', 'p131086', \n",
    "               'p131088', 'p131090', 'p131092', 'p131094', 'p131096', 'p131098', 'p131100', 'p131102', 'p131104', 'p131106', 'p131108', 'p131110', 'p131112', 'p131114', \n",
    "               'p131116', 'p131120', 'p131122', 'p131124', 'p131126',  'p42018', 'p42020', 'p42022', 'p42024', 'p42028', 'p42030', 'p42032', 'p42034', 'p42036', 'p22006', \n",
    "               'p21022', 'p22189', 'p31', 'p22009_a1', 'p22009_a2', 'p22009_a3', 'p22009_a4', 'p22009_a5', 'p34', 'p40000_i0', 'p20110_i0', 'p20110_i1', 'p20110_i2', \n",
    "               'p20110_i3', 'p20107_i0', 'p20107_i1', 'p20107_i2', 'p20107_i3']\n",
    "control_df = participant.retrieve_fields(names=field_names, coding_values=\"replace\", engine=dxdata.connect())\n",
    "control_df = control_df.toPandas()\n"
   ]
  },
  {
   "cell_type": "markdown",
   "id": "236a6214-b21d-4b93-a9b4-a6e09aa60699",
   "metadata": {
    "jp-MarkdownHeadingCollapsed": true,
    "tags": []
   },
   "source": [
    "#### Remove participants with any of the listed conditions"
   ]
  },
  {
   "cell_type": "code",
   "execution_count": null,
   "id": "88d075bb-f716-4006-a411-2d8559db092a",
   "metadata": {
    "tags": []
   },
   "outputs": [],
   "source": [
    "control_df = control_df[control_df['p131012'].isnull() & control_df['p131016'].isnull() & control_df['p131018'].isnull() & control_df['p131020'].isnull() \n",
    "                        & control_df['p131022'].isnull() & control_df['p131024'].isnull() & control_df['p131026'].isnull() & control_df['p131028'].isnull() \n",
    "                        & control_df['p131030'].isnull() & control_df['p131036'].isnull() & control_df['p131038'].isnull() & control_df['p131040'].isnull() \n",
    "                        & control_df['p131042'].isnull() & control_df['p131046'].isnull() & control_df['p131056'].isnull() & control_df['p131058'].isnull() \n",
    "                        & control_df['p131062'].isnull() & control_df['p131066'].isnull() & control_df['p131068'].isnull() & control_df['p131070'].isnull() \n",
    "                        & control_df['p131074'].isnull() & control_df['p131076'].isnull() & control_df['p131078'].isnull() & control_df['p131080'].isnull() \n",
    "                        & control_df['p131082'].isnull() & control_df['p131084'].isnull() & control_df['p131086'].isnull() & control_df['p131088'].isnull() \n",
    "                        & control_df['p131090'].isnull() & control_df['p131092'].isnull() & control_df['p131094'].isnull() & control_df['p131096'].isnull() \n",
    "                        & control_df['p131098'].isnull() & control_df['p131100'].isnull() & control_df['p131102'].isnull() & control_df['p131104'].isnull() \n",
    "                        & control_df['p131106'].isnull() & control_df['p131108'].isnull() & control_df['p131110'].isnull() & control_df['p131112'].isnull() \n",
    "                        & control_df['p131114'].isnull() & control_df['p131116'].isnull() & control_df['p131120'].isnull() & control_df['p131122'].isnull() \n",
    "                        & control_df['p131124'].isnull() & control_df['p131126'].isnull() & control_df['p42018'].isnull() & control_df['p42020'].isnull() \n",
    "                        & control_df['p42022'].isnull() & control_df['p42024'].isnull() & control_df['p42028'].isnull() & control_df['p42030'].isnull() \n",
    "                        & control_df['p42032'].isnull() & control_df['p42034'].isnull() & control_df['p42036'].isnull()]\n"
   ]
  },
  {
   "cell_type": "markdown",
   "id": "ee348fde-73f0-42cf-b700-a4d21cf96144",
   "metadata": {
    "jp-MarkdownHeadingCollapsed": true,
    "tags": []
   },
   "source": [
    "#### Remove participants whose parents have AD or PD"
   ]
  },
  {
   "cell_type": "code",
   "execution_count": null,
   "id": "940fc55e-e654-48f2-8b05-5e51c9fc64f2",
   "metadata": {
    "tags": []
   },
   "outputs": [],
   "source": [
    "# Columns defining all instances of parent illness\n",
    "parent_illness_cols = ['p20110_i0', 'p20110_i1', 'p20110_i2', 'p20110_i3', 'p20107_i0', 'p20107_i1', 'p20107_i2', 'p20107_i3']\n",
    "\n",
    "# Convert None values to empty lists\n",
    "for illness_col in parent_illness_cols:\n",
    "    control_df[illness_col] = control_df[illness_col].apply(lambda l: l if isinstance(l, list) else [])\n",
    "\n",
    "# Define a condition as anybody who has never reported a parent as having AD or PD\n",
    "condition = lambda participant: all((\"Alzheimer's disease/dementia\" not in illnesses and \"Parkinson's disease\" not in illnesses) for illnesses in participant[parent_illness_cols])\n",
    "\n",
    "# Apply the condition to give all participants who have a parent who has/had AD or PD\n",
    "control_df = control_df[control_df.apply(condition, axis=1)]\n"
   ]
  },
  {
   "cell_type": "markdown",
   "id": "5568a2f0-906d-458a-bdc1-1f2b2912ee11",
   "metadata": {
    "jp-MarkdownHeadingCollapsed": true,
    "tags": []
   },
   "source": [
    "#### Remove participants below the defined age threshold"
   ]
  },
  {
   "cell_type": "code",
   "execution_count": null,
   "id": "22cc264e-fb68-4847-ac74-6bc16445d431",
   "metadata": {
    "tags": []
   },
   "outputs": [],
   "source": [
    "control_df = control_df[control_df['p21022'] >= 65]\n"
   ]
  },
  {
   "cell_type": "markdown",
   "id": "01cc3aa6-86af-46d2-b865-0631e97dfe1f",
   "metadata": {
    "jp-MarkdownHeadingCollapsed": true,
    "tags": []
   },
   "source": [
    "#### Rename columns"
   ]
  },
  {
   "cell_type": "code",
   "execution_count": null,
   "id": "c4fabba8-2442-4fc0-8bb3-ff9acf870d4d",
   "metadata": {
    "tags": []
   },
   "outputs": [],
   "source": [
    "control_df = control_df[['eid', 'p21022', 'p22189', 'p31', 'p22009_a1', 'p22009_a2', 'p22009_a3', 'p22009_a4', 'p22009_a5', 'p34', 'p22006', 'p40000_i0']]\n",
    "control_df.rename(columns={\n",
    "    'eid':'ID',\n",
    "    'p21022':'AGE_OF_RECRUIT', \n",
    "    'p22189':'TOWNSEND', \n",
    "    'p31':'GENETIC_SEX', \n",
    "    'p22009_a1':'PC1', \n",
    "    'p22009_a2':'PC2', \n",
    "    'p22009_a3':'PC3', \n",
    "    'p22009_a4':'PC4', \n",
    "    'p22009_a5':'PC5', \n",
    "    'p34':'BIRTH_YEAR', \n",
    "    'p22006':'ETHNICITY', \n",
    "    'p40000_i0':'DATE_OF_DEATH',\n",
    "}, inplace=True)\n",
    "control_df[\"ID\"] = pd.to_numeric(control_df[\"ID\"])\n",
    "control_df.info()\n"
   ]
  },
  {
   "cell_type": "markdown",
   "id": "38a4b6e3-b820-458f-b265-b7796c53dc54",
   "metadata": {
    "jp-MarkdownHeadingCollapsed": true,
    "tags": []
   },
   "source": [
    "# Find ancestry information about each cohort"
   ]
  },
  {
   "cell_type": "markdown",
   "id": "f1a34052-9000-4728-ad7a-3a560e4e8682",
   "metadata": {
    "jp-MarkdownHeadingCollapsed": true,
    "tags": []
   },
   "source": [
    "#### Read ancestry label mappings"
   ]
  },
  {
   "cell_type": "code",
   "execution_count": null,
   "id": "5d9e8a36-4ef8-4371-afba-988a32d30643",
   "metadata": {
    "tags": []
   },
   "outputs": [],
   "source": [
    "ancestries = pd.read_csv(\"../../mnt/project/wgs_analysis/data/ukbb_imputed_genotypes_umap_linearsvc_predicted_labels.txt\", sep=\"\\t\")\n"
   ]
  },
  {
   "cell_type": "markdown",
   "id": "2b44441e-e349-42bf-afb5-6d0fd800b1f3",
   "metadata": {
    "jp-MarkdownHeadingCollapsed": true,
    "tags": []
   },
   "source": [
    "#### Add labels to cohort dataframes"
   ]
  },
  {
   "cell_type": "code",
   "execution_count": null,
   "id": "6e7aec1a-40d1-443b-895a-ea55fbfd382b",
   "metadata": {
    "tags": []
   },
   "outputs": [],
   "source": [
    "control_df = control_df.merge(ancestries[[\"IID\",\"label\"]], left_on=\"ID\", right_on=\"IID\").drop(\"IID\", axis=1)\n",
    "ad_df = ad_df.merge(ancestries[[\"IID\",\"label\"]], left_on=\"ID\", right_on=\"IID\").drop(\"IID\", axis=1)\n",
    "rd_df = rd_df.merge(ancestries[[\"IID\",\"label\"]], left_on=\"ID\", right_on=\"IID\").drop(\"IID\", axis=1)\n"
   ]
  },
  {
   "cell_type": "markdown",
   "id": "db80f25b-5e95-4d9b-8130-9cf553cc7c16",
   "metadata": {
    "jp-MarkdownHeadingCollapsed": true,
    "tags": []
   },
   "source": [
    "#### Get list of IDs for each cohort"
   ]
  },
  {
   "cell_type": "code",
   "execution_count": null,
   "id": "da0af415-fda1-441e-a24e-a2b997c9fe87",
   "metadata": {
    "tags": []
   },
   "outputs": [],
   "source": [
    "ad_ids = ad_df[\"ID\"].tolist()\n",
    "rd_ids = rd_df[\"ID\"].tolist()\n",
    "control_ids = control_df[\"ID\"].tolist()\n"
   ]
  },
  {
   "cell_type": "markdown",
   "id": "e703dfb9-c45f-4f4e-b7c1-5371fcd1f38e",
   "metadata": {
    "jp-MarkdownHeadingCollapsed": true,
    "tags": []
   },
   "source": [
    "# Remove related individuals"
   ]
  },
  {
   "cell_type": "markdown",
   "id": "e75c2575-7728-4f0c-a8a2-c16e4909ed29",
   "metadata": {
    "jp-MarkdownHeadingCollapsed": true,
    "tags": []
   },
   "source": [
    "#### Fetch relatedness data"
   ]
  },
  {
   "cell_type": "code",
   "execution_count": null,
   "id": "3d9514f1-6ea1-498a-9442-75b43e5b302c",
   "metadata": {
    "tags": []
   },
   "outputs": [],
   "source": [
    "full_related_df = pd.read_csv('../../mnt/project/Bulk/Genotype Results/Genotype calls/ukb_rel.dat', sep = ' ')\n",
    "full_related_df = full_related_df[full_related_df['Kinship'] > 0.0884]\n"
   ]
  },
  {
   "cell_type": "markdown",
   "id": "068ab431-8251-4f3e-9eb7-0d928ec69183",
   "metadata": {
    "jp-MarkdownHeadingCollapsed": true,
    "tags": []
   },
   "source": [
    "#### Define cohorts to maximize cases included"
   ]
  },
  {
   "cell_type": "code",
   "execution_count": null,
   "id": "0883dbb0-e079-434a-8937-e10d6390514e",
   "metadata": {
    "tags": []
   },
   "outputs": [],
   "source": [
    "full_cohort_ids = ad_ids + rd_ids + control_ids\n",
    "case_ids = ad_ids + rd_ids\n"
   ]
  },
  {
   "cell_type": "markdown",
   "id": "75f9c846-5b7d-4c2e-aa22-cf56fd9f106b",
   "metadata": {
    "jp-MarkdownHeadingCollapsed": true,
    "tags": []
   },
   "source": [
    "#### Keep only rows with both participants in cohorts of interest"
   ]
  },
  {
   "cell_type": "code",
   "execution_count": null,
   "id": "858045e4-fe3e-48e0-9181-f8239ae098b6",
   "metadata": {
    "tags": []
   },
   "outputs": [],
   "source": [
    "related_cohort_df = full_related_df.loc[full_related_df['ID1'].isin(full_cohort_ids) & full_related_df['ID2'].isin(full_cohort_ids)]\n",
    "related_cohort_df = related_cohort_df.reset_index(drop=True)\n"
   ]
  },
  {
   "cell_type": "markdown",
   "id": "3ac59ac1-0f14-4fef-8b81-407a598870c7",
   "metadata": {
    "jp-MarkdownHeadingCollapsed": true,
    "tags": []
   },
   "source": [
    "#### Maximize the number of cases included"
   ]
  },
  {
   "cell_type": "code",
   "execution_count": null,
   "id": "d728ac8d-d930-421c-a8e5-f15a91bb2a08",
   "metadata": {
    "tags": []
   },
   "outputs": [],
   "source": [
    "flipped_df = related_cohort_df[related_cohort_df[\"ID1\"].isin(control_ids) & related_cohort_df[\"ID2\"].isin(case_ids)].copy()\n",
    "related_cohort_df = related_cohort_df[~(related_cohort_df[\"ID1\"].isin(control_ids) & related_cohort_df[\"ID2\"].isin(case_ids))]\n",
    "flipped_df.rename(columns={\"ID1\":\"ID2\", \"ID2\":\"ID1\"}, inplace=True)\n",
    "related_cohort_df = pd.concat([related_cohort_df, flipped_df])\n"
   ]
  },
  {
   "cell_type": "markdown",
   "id": "758e07fe-ec1c-457d-b8ab-d0b678f41017",
   "metadata": {
    "jp-MarkdownHeadingCollapsed": true,
    "tags": []
   },
   "source": [
    "#### Get set of participants to remove"
   ]
  },
  {
   "cell_type": "code",
   "execution_count": null,
   "id": "b5dbe38d-6111-47a7-b8cd-04fcd5261643",
   "metadata": {
    "tags": []
   },
   "outputs": [],
   "source": [
    "ids_to_remove = set(related_cohort_df[\"ID2\"])\n",
    "print(f\"Removing {len(ids_to_remove)} participants\")\n"
   ]
  },
  {
   "cell_type": "markdown",
   "id": "98554e3c-a3b2-42ca-9a3e-07a3ebbfce22",
   "metadata": {
    "jp-MarkdownHeadingCollapsed": true,
    "tags": []
   },
   "source": [
    "#### Filter ID lists accordingly"
   ]
  },
  {
   "cell_type": "code",
   "execution_count": null,
   "id": "0963afa9-d662-446d-98ca-d4b62d258a9f",
   "metadata": {
    "tags": []
   },
   "outputs": [],
   "source": [
    "ad_ids = [iid for iid in ad_ids if iid not in ids_to_remove]\n",
    "rd_ids = [iid for iid in rd_ids if iid not in ids_to_remove]\n",
    "control_ids = [iid for iid in control_ids if iid not in ids_to_remove]\n",
    "total_ids = ad_ids + rd_ids + control_ids\n"
   ]
  },
  {
   "cell_type": "markdown",
   "id": "4384b677-27ec-47f6-813b-2280a0b7205e",
   "metadata": {
    "jp-MarkdownHeadingCollapsed": true,
    "tags": []
   },
   "source": [
    "#### Save the IDs of each participant to a txt file"
   ]
  },
  {
   "cell_type": "code",
   "execution_count": null,
   "id": "ebac2b16-bb6d-4efe-a1e7-1341037867b6",
   "metadata": {
    "tags": []
   },
   "outputs": [],
   "source": [
    "with open('ad_ids_pre_VCF.txt', 'w') as file:\n",
    "    for iid in ad_ids:\n",
    "        file.write(f\"{iid}\\n\")\n",
    "        "
   ]
  },
  {
   "cell_type": "code",
   "execution_count": null,
   "id": "c00fb845-0668-4961-ba0a-623eac074715",
   "metadata": {
    "tags": []
   },
   "outputs": [],
   "source": [
    "with open('rd_ids_pre_VCF.txt', 'w') as file:\n",
    "    for iid in rd_ids:\n",
    "        file.write(f\"{iid}\\n\")\n"
   ]
  },
  {
   "cell_type": "code",
   "execution_count": null,
   "id": "6a0997d6-3bb3-4106-9e76-49bb4da0fae0",
   "metadata": {
    "tags": []
   },
   "outputs": [],
   "source": [
    "with open('control_ids_pre_VCF.txt', 'w') as file:\n",
    "    for iid in control_ids:\n",
    "        file.write(f\"{iid}\\n\")\n"
   ]
  },
  {
   "cell_type": "code",
   "execution_count": null,
   "id": "f581ecc9-00d1-4ee5-ad23-ea0c8eb2105e",
   "metadata": {
    "tags": []
   },
   "outputs": [],
   "source": [
    "with open('ids_pre_VCF.txt', 'w') as file:\n",
    "    for iid in total_ids:\n",
    "        file.write(f\"{iid}\\n\")\n"
   ]
  },
  {
   "cell_type": "markdown",
   "id": "0873ee2d-bfa5-4cc1-9deb-9eaafde85999",
   "metadata": {
    "jp-MarkdownHeadingCollapsed": true,
    "tags": []
   },
   "source": [
    "# Filter out participants without WGS data"
   ]
  },
  {
   "cell_type": "code",
   "execution_count": null,
   "id": "f6119e27-701e-4e7d-9ef3-c6c626643bd6",
   "metadata": {
    "tags": []
   },
   "outputs": [],
   "source": [
    "%%bash\n",
    "\n",
    "dx run swiss-army-knife \\\n",
    "-iin=\"/Bulk/DRAGEN\\ WGS/DRAGEN\\ population\\ level\\ WGS\\ variants,\\ pVCF\\ format\\ [500k\\ release]/chr1/ukb24310_c1_b7761_v1.vcf.gz\" \\\n",
    "-iin=\"/Bulk/DRAGEN\\ WGS/DRAGEN\\ population\\ level\\ WGS\\ variants,\\ pVCF\\ format\\ [500k\\ release]/chr1/ukb24310_c1_b7761_v1.vcf.gz.tbi\" \\\n",
    "-icmd=\"bcftools query -l ukb24310_c1_b7761_v1.vcf.gz > pvcf_full_ids.txt\" \\\n",
    "--instance-type mem1_hdd1_v2_x16 \\\n",
    "--destination \"${projectid}:/wgs_analysis/results\"\n"
   ]
  },
  {
   "cell_type": "code",
   "execution_count": null,
   "id": "0ea2e900-da98-454e-ab67-95feb6fb8ae6",
   "metadata": {},
   "outputs": [],
   "source": [
    "\"\"\"\n",
    "------------------------------------------------------------------------------------------------------\n",
    "------------------------------------------------------------------------------------------------------\n",
    "------------------------------------------------------------------------------------------------------\n",
    "------------------------------ PAUSE HERE UNTIL PREVIOUS STEP COMPLETES ------------------------------\n",
    "------------------------------------------------------------------------------------------------------\n",
    "------------------------------------------------------------------------------------------------------\n",
    "------------------------------------------------------------------------------------------------------\n",
    "\"\"\""
   ]
  },
  {
   "cell_type": "code",
   "execution_count": null,
   "id": "0d7f0a68-4066-404c-91b1-648c96b8fbc6",
   "metadata": {
    "tags": []
   },
   "outputs": [],
   "source": [
    "!dx download /wgs_analysis/results/pvcf_full_ids.txt\n",
    "!grep -Fwf pvcf_full_ids.txt ids_pre_VCF.txt > filtered_sample_ids.txt\n",
    "!grep -Fwf pvcf_full_ids.txt ad_ids_pre_VCF.txt > filtered_ad_ids.txt\n",
    "!grep -Fwf pvcf_full_ids.txt rd_ids_pre_VCF.txt > filtered_rd_ids.txt\n",
    "!grep -Fwf pvcf_full_ids.txt control_ids_pre_VCF.txt > filtered_control_ids.txt\n"
   ]
  },
  {
   "cell_type": "code",
   "execution_count": null,
   "id": "618075de-394b-4149-80f3-f0834b7d3a3a",
   "metadata": {
    "tags": []
   },
   "outputs": [],
   "source": [
    "with open('filtered_ad_ids.txt', 'r') as file:\n",
    "    ad_ids = [int(line.strip()) for line in file]\n",
    "with open('filtered_rd_ids.txt', 'r') as file:\n",
    "    rd_ids = [int(line.strip()) for line in file]\n",
    "with open('filtered_control_ids.txt', 'r') as file:\n",
    "    control_ids = [int(line.strip()) for line in file]\n"
   ]
  },
  {
   "cell_type": "markdown",
   "id": "1f84405d-6953-402f-8e1b-9af96e3fa536",
   "metadata": {
    "jp-MarkdownHeadingCollapsed": true,
    "tags": []
   },
   "source": [
    "#### Get list of IDs for each cohort"
   ]
  },
  {
   "cell_type": "code",
   "execution_count": null,
   "id": "71fe61ad-b1dd-4816-b625-310e0382201a",
   "metadata": {
    "tags": []
   },
   "outputs": [],
   "source": [
    "ad_df = ad_df[ad_df[\"ID\"].isin(ad_ids)]\n",
    "rd_df = rd_df[rd_df[\"ID\"].isin(rd_ids)]\n",
    "control_df = control_df[control_df[\"ID\"].isin(control_ids)]\n"
   ]
  },
  {
   "cell_type": "code",
   "execution_count": null,
   "id": "9626b5ed-6274-439d-8a93-33ad761fa874",
   "metadata": {
    "tags": []
   },
   "outputs": [],
   "source": [
    "print(f\"Number of AD participants:       {len(ad_ids)}\")\n",
    "print(f\"Number of RD participants:       {len(rd_ids)}\")\n",
    "print(f\"Number of Control participants:  {len(control_ids)}\")\n"
   ]
  },
  {
   "cell_type": "code",
   "execution_count": null,
   "id": "f4fa38b3-d52e-400b-b7a1-e6d9acdd3213",
   "metadata": {
    "tags": []
   },
   "outputs": [],
   "source": [
    "!dx upload filtered_sample_ids.txt --path /wgs_analysis/results/sample_ids.txt\n",
    "!dx upload filtered_ad_ids.txt --path /wgs_analysis/results/ad_ids.txt\n",
    "!dx upload filtered_rd_ids.txt --path /wgs_analysis/results/rd_ids.txt\n",
    "!dx upload filtered_control_ids.txt --path /wgs_analysis/results/control_ids.txt\n"
   ]
  },
  {
   "cell_type": "markdown",
   "id": "c96a78b8-db32-4e8f-937f-407092475a68",
   "metadata": {
    "jp-MarkdownHeadingCollapsed": true,
    "tags": []
   },
   "source": [
    "# Save and print cohort statistics"
   ]
  },
  {
   "cell_type": "code",
   "execution_count": null,
   "id": "13af93db-5aa4-4da2-8255-fa07c5e48b75",
   "metadata": {
    "tags": []
   },
   "outputs": [],
   "source": [
    "control_df.to_csv(\"Controls.csv\", header=True, index=False)\n",
    "ad_df.to_csv(f'AD_cases.csv', header=True, index=False)\n",
    "rd_df.to_csv(f'RD_cases.csv', header=True, index=False)\n"
   ]
  },
  {
   "cell_type": "code",
   "execution_count": null,
   "id": "2eaf30ad-fb5b-4f58-8463-53da85f58a4c",
   "metadata": {
    "tags": []
   },
   "outputs": [],
   "source": [
    "! dx upload Controls.csv --path /wgs_analysis/results/Controls.csv\n",
    "! dx upload AD_cases.csv --path /wgs_analysis/results/AD_cases.csv\n",
    "! dx upload RD_cases.csv --path /wgs_analysis/results/RD_cases.csv\n"
   ]
  },
  {
   "cell_type": "code",
   "execution_count": null,
   "id": "0ae940a7-abb4-43b2-93b4-b6d07760838a",
   "metadata": {
    "tags": []
   },
   "outputs": [],
   "source": [
    "print(control_df[\"label\"].value_counts())\n",
    "print(ad_df[\"label\"].value_counts())\n",
    "print(rd_df[\"label\"].value_counts())\n",
    "print(\"\\n\")\n",
    "\n",
    "print(control_df[\"GENETIC_SEX\"].value_counts())\n",
    "print(ad_df[\"GENETIC_SEX\"].value_counts())\n",
    "print(rd_df[\"GENETIC_SEX\"].value_counts())\n",
    "print(\"\\n\")\n",
    "\n",
    "print(f'{control_df[control_df[\"GENETIC_SEX\"] == \"Male\"][\"AGE_OF_RECRUIT\"].mean()} +/- {control_df[control_df[\"GENETIC_SEX\"] == \"Male\"][\"AGE_OF_RECRUIT\"].std()}')\n",
    "print(f'{ad_df[ad_df[\"GENETIC_SEX\"] == \"Male\"][\"AGE_OF_RECRUIT\"].mean()} +/- {ad_df[ad_df[\"GENETIC_SEX\"] == \"Male\"][\"AGE_OF_RECRUIT\"].std()}')\n",
    "print(f'{rd_df[rd_df[\"GENETIC_SEX\"] == \"Male\"][\"AGE_OF_RECRUIT\"].mean()} +/- {rd_df[rd_df[\"GENETIC_SEX\"] == \"Male\"][\"AGE_OF_RECRUIT\"].std()}')\n",
    "print(f'{control_df[control_df[\"GENETIC_SEX\"] == \"Female\"][\"AGE_OF_RECRUIT\"].mean()} +/- {control_df[control_df[\"GENETIC_SEX\"] == \"Female\"][\"AGE_OF_RECRUIT\"].std()}')\n",
    "print(f'{ad_df[ad_df[\"GENETIC_SEX\"] == \"Female\"][\"AGE_OF_RECRUIT\"].mean()} +/- {ad_df[ad_df[\"GENETIC_SEX\"] == \"Female\"][\"AGE_OF_RECRUIT\"].std()}')\n",
    "print(f'{rd_df[rd_df[\"GENETIC_SEX\"] == \"Female\"][\"AGE_OF_RECRUIT\"].mean()} +/- {rd_df[rd_df[\"GENETIC_SEX\"] == \"Female\"][\"AGE_OF_RECRUIT\"].std()}')\n",
    "print(\"\\n\")\n"
   ]
  },
  {
   "cell_type": "markdown",
   "id": "cfc4bc7c-09fd-412d-88b2-9435b141e066",
   "metadata": {
    "jp-MarkdownHeadingCollapsed": true,
    "tags": []
   },
   "source": [
    "# Fetch pVCF chunks for each gene of interest"
   ]
  },
  {
   "cell_type": "markdown",
   "id": "13c0d910-d47b-4ef0-95e0-523fff791b46",
   "metadata": {
    "jp-MarkdownHeadingCollapsed": true,
    "tags": []
   },
   "source": [
    "## GBA (chr1: 155,225,002 - 155,254,507) (b: 7761 - 7763)"
   ]
  },
  {
   "cell_type": "code",
   "execution_count": null,
   "id": "5106ceff-1566-4d98-b5ee-302e89494c10",
   "metadata": {
    "tags": []
   },
   "outputs": [],
   "source": [
    "%%bash\n",
    "for b_val in {7761..7763};\n",
    "do\n",
    "    dx run swiss-army-knife \\\n",
    "    -iin=\"/Bulk/DRAGEN\\ WGS/DRAGEN\\ population\\ level\\ WGS\\ variants,\\ pVCF\\ format\\ [500k\\ release]/chr1/ukb24310_c1_b${b_val}_v1.vcf.gz\" \\\n",
    "    -iin=\"/Bulk/DRAGEN\\ WGS/DRAGEN\\ population\\ level\\ WGS\\ variants,\\ pVCF\\ format\\ [500k\\ release]/chr1/ukb24310_c1_b${b_val}_v1.vcf.gz.tbi\" \\\n",
    "    -iin=\"/wgs_analysis/results/sample_ids.txt\" \\\n",
    "    -icmd=\"bcftools view -O z -S sample_ids.txt ukb24310_c1_b${b_val}_v1.vcf.gz -o GBA_b${b_val}.vcf.gz\" \\\n",
    "    --instance-type mem2_ssd1_v2_x32 \\\n",
    "    --destination \"${projectid}:/wgs_analysis/results/1_pvcf_chunks\"\n",
    "done"
   ]
  },
  {
   "cell_type": "markdown",
   "id": "2f5119ab-b11a-49c3-bcf8-cc73f55dbeb4",
   "metadata": {
    "jp-MarkdownHeadingCollapsed": true,
    "tags": []
   },
   "source": [
    "## PSEN2 (chr1: 226,860,648 - 226,905,565) (b: 11343 - 11346)"
   ]
  },
  {
   "cell_type": "code",
   "execution_count": null,
   "id": "4f551298-6d71-4a17-9e39-89080bfcdcc2",
   "metadata": {
    "tags": []
   },
   "outputs": [],
   "source": [
    "%%bash\n",
    "for b_val in {11343..11346};\n",
    "do\n",
    "    dx run swiss-army-knife \\\n",
    "    -iin=\"/Bulk/DRAGEN\\ WGS/DRAGEN\\ population\\ level\\ WGS\\ variants,\\ pVCF\\ format\\ [500k\\ release]/chr1/ukb24310_c1_b${b_val}_v1.vcf.gz\" \\\n",
    "    -iin=\"/Bulk/DRAGEN\\ WGS/DRAGEN\\ population\\ level\\ WGS\\ variants,\\ pVCF\\ format\\ [500k\\ release]/chr1/ukb24310_c1_b${b_val}_v1.vcf.gz.tbi\" \\\n",
    "    -iin=\"/wgs_analysis/results/sample_ids.txt\" \\\n",
    "    -icmd=\"bcftools view -O z -S sample_ids.txt ukb24310_c1_b${b_val}_v1.vcf.gz -o PSEN2_b${b_val}.vcf.gz\" \\\n",
    "    --instance-type mem2_ssd1_v2_x32 \\\n",
    "    --destination \"${projectid}:/wgs_analysis/results/1_pvcf_chunks\"\n",
    "done\n"
   ]
  },
  {
   "cell_type": "markdown",
   "id": "e4f9748d-c4ae-4fd7-87c3-0384a677c10a",
   "metadata": {
    "jp-MarkdownHeadingCollapsed": true,
    "tags": []
   },
   "source": [
    "## SNCA (chr4: 89,716,632 - 89,848,254) (b: 4485 - 4493)"
   ]
  },
  {
   "cell_type": "code",
   "execution_count": null,
   "id": "bf544205-edb1-493c-9cfa-0c0b0251a30d",
   "metadata": {
    "tags": []
   },
   "outputs": [],
   "source": [
    "%%bash\n",
    "for b_val in {4485..4493};\n",
    "do\n",
    "    dx run swiss-army-knife \\\n",
    "    -iin=\"/Bulk/DRAGEN\\ WGS/DRAGEN\\ population\\ level\\ WGS\\ variants,\\ pVCF\\ format\\ [500k\\ release]/chr4/ukb24310_c4_b${b_val}_v1.vcf.gz\" \\\n",
    "    -iin=\"/Bulk/DRAGEN\\ WGS/DRAGEN\\ population\\ level\\ WGS\\ variants,\\ pVCF\\ format\\ [500k\\ release]/chr4/ukb24310_c4_b${b_val}_v1.vcf.gz.tbi\" \\\n",
    "    -iin=\"/wgs_analysis/results/sample_ids.txt\" \\\n",
    "    -icmd=\"bcftools view -O z -S sample_ids.txt ukb24310_c4_b${b_val}_v1.vcf.gz -o SNCA_b${b_val}.vcf.gz\" \\\n",
    "    --instance-type mem2_ssd1_v2_x32 \\\n",
    "    --destination \"${projectid}:/wgs_analysis/results/1_pvcf_chunks\"\n",
    "done\n"
   ]
  },
  {
   "cell_type": "markdown",
   "id": "5769055c-34e0-43d1-a4f7-452635529085",
   "metadata": {
    "jp-MarkdownHeadingCollapsed": true,
    "tags": []
   },
   "source": [
    "## TREM2 (chr6: 41,148,607 - 41,173,076) (b: 2057 - 2059)"
   ]
  },
  {
   "cell_type": "code",
   "execution_count": null,
   "id": "b2c41e93-9d78-4733-8581-30415b2de455",
   "metadata": {
    "tags": []
   },
   "outputs": [],
   "source": [
    "%%bash\n",
    "for b_val in {2057..2059};\n",
    "do\n",
    "    dx run swiss-army-knife \\\n",
    "    -iin=\"/Bulk/DRAGEN\\ WGS/DRAGEN\\ population\\ level\\ WGS\\ variants,\\ pVCF\\ format\\ [500k\\ release]/chr6/ukb24310_c6_b${b_val}_v1.vcf.gz\" \\\n",
    "    -iin=\"/Bulk/DRAGEN\\ WGS/DRAGEN\\ population\\ level\\ WGS\\ variants,\\ pVCF\\ format\\ [500k\\ release]/chr6/ukb24310_c6_b${b_val}_v1.vcf.gz.tbi\" \\\n",
    "    -iin=\"/wgs_analysis/results/sample_ids.txt\" \\\n",
    "    -icmd=\"bcftools view -O z -S sample_ids.txt ukb24310_c6_b${b_val}_v1.vcf.gz -o TREM2_b${b_val}.vcf.gz\" \\\n",
    "    --instance-type mem2_ssd1_v2_x32 \\\n",
    "    --destination \"${projectid}:/wgs_analysis/results/1_pvcf_chunks\"\n",
    "done\n"
   ]
  },
  {
   "cell_type": "markdown",
   "id": "dd049084-fd8f-47b1-90bb-59c90e06e7ba",
   "metadata": {
    "jp-MarkdownHeadingCollapsed": true,
    "tags": []
   },
   "source": [
    "## PSEN1 (chr14: 73,126,590 - 73,229,275) (b: 3656 - 3662)"
   ]
  },
  {
   "cell_type": "code",
   "execution_count": null,
   "id": "c28d5a51-3335-4db6-a5a3-8aa3b1f62592",
   "metadata": {
    "tags": []
   },
   "outputs": [],
   "source": [
    "%%bash\n",
    "for b_val in {3656..3662};\n",
    "do\n",
    "    dx run swiss-army-knife \\\n",
    "    -iin=\"/Bulk/DRAGEN\\ WGS/DRAGEN\\ population\\ level\\ WGS\\ variants,\\ pVCF\\ format\\ [500k\\ release]/chr14/ukb24310_c14_b${b_val}_v1.vcf.gz\" \\\n",
    "    -iin=\"/Bulk/DRAGEN\\ WGS/DRAGEN\\ population\\ level\\ WGS\\ variants,\\ pVCF\\ format\\ [500k\\ release]/chr14/ukb24310_c14_b${b_val}_v1.vcf.gz.tbi\" \\\n",
    "    -iin=\"/wgs_analysis/results/sample_ids.txt\" \\\n",
    "    -icmd=\"bcftools view -O z -S sample_ids.txt ukb24310_c14_b${b_val}_v1.vcf.gz -o PSEN1_b${b_val}.vcf.gz\" \\\n",
    "    --instance-type mem2_ssd1_v2_x32 \\\n",
    "    --destination \"${projectid}:/wgs_analysis/results/1_pvcf_chunks\"\n",
    "done\n"
   ]
  },
  {
   "cell_type": "markdown",
   "id": "8e20081d-226d-4457-a168-e8790c65fdec",
   "metadata": {
    "jp-MarkdownHeadingCollapsed": true,
    "tags": []
   },
   "source": [
    "## GRN (chr17: 44,335,332 - 44,362,797) (b: 2216 - 2219)"
   ]
  },
  {
   "cell_type": "code",
   "execution_count": null,
   "id": "f842fea0-fd3a-4537-b6a6-52bbc1796649",
   "metadata": {
    "tags": []
   },
   "outputs": [],
   "source": [
    "%%bash\n",
    "for b_val in {2216..2219};\n",
    "do\n",
    "    dx run swiss-army-knife \\\n",
    "    -iin=\"/Bulk/DRAGEN\\ WGS/DRAGEN\\ population\\ level\\ WGS\\ variants,\\ pVCF\\ format\\ [500k\\ release]/chr17/ukb24310_c17_b${b_val}_v1.vcf.gz\" \\\n",
    "    -iin=\"/Bulk/DRAGEN\\ WGS/DRAGEN\\ population\\ level\\ WGS\\ variants,\\ pVCF\\ format\\ [500k\\ release]/chr17/ukb24310_c17_b${b_val}_v1.vcf.gz.tbi\" \\\n",
    "    -iin=\"/wgs_analysis/results/sample_ids.txt\" \\\n",
    "    -icmd=\"bcftools view -O z -S sample_ids.txt ukb24310_c17_b${b_val}_v1.vcf.gz -o GRN_b${b_val}.vcf.gz\" \\\n",
    "    --instance-type mem2_ssd1_v2_x32 \\\n",
    "    --destination \"${projectid}:/wgs_analysis/results/1_pvcf_chunks\"\n",
    "done\n"
   ]
  },
  {
   "cell_type": "markdown",
   "id": "faf74c91-2f56-4585-90d4-1ecd03438330",
   "metadata": {
    "jp-MarkdownHeadingCollapsed": true,
    "tags": []
   },
   "source": [
    "## MAPT (chr17: 45,884,685 - 46,035,185) (b: 2294 - 2302)"
   ]
  },
  {
   "cell_type": "code",
   "execution_count": null,
   "id": "00a7b5e7-5518-4b18-9b24-7ba86f4f05e1",
   "metadata": {
    "tags": []
   },
   "outputs": [],
   "source": [
    "%%bash\n",
    "for b_val in {2294..2302};\n",
    "do\n",
    "    dx run swiss-army-knife \\\n",
    "    -iin=\"/Bulk/DRAGEN\\ WGS/DRAGEN\\ population\\ level\\ WGS\\ variants,\\ pVCF\\ format\\ [500k\\ release]/chr17/ukb24310_c17_b${b_val}_v1.vcf.gz\" \\\n",
    "    -iin=\"/Bulk/DRAGEN\\ WGS/DRAGEN\\ population\\ level\\ WGS\\ variants,\\ pVCF\\ format\\ [500k\\ release]/chr17/ukb24310_c17_b${b_val}_v1.vcf.gz.tbi\" \\\n",
    "    -iin=\"/wgs_analysis/results/sample_ids.txt\" \\\n",
    "    -icmd=\"bcftools view -O z -S sample_ids.txt ukb24310_c17_b${b_val}_v1.vcf.gz -o MAPT_b${b_val}.vcf.gz\" \\\n",
    "    --instance-type mem2_ssd1_v2_x32 \\\n",
    "    --destination \"${projectid}:/wgs_analysis/results/1_pvcf_chunks\"\n",
    "done\n"
   ]
  },
  {
   "cell_type": "markdown",
   "id": "cc307a9f-b50d-447e-98b2-c10deaa086fe",
   "metadata": {
    "jp-MarkdownHeadingCollapsed": true,
    "tags": []
   },
   "source": [
    "## APOE (chr19: 44,895,840 - 44,919,238) (b: 2244 - 2246)"
   ]
  },
  {
   "cell_type": "code",
   "execution_count": null,
   "id": "59e5404d-6d53-48b1-aba9-907b9735aa4c",
   "metadata": {
    "tags": []
   },
   "outputs": [],
   "source": [
    "%%bash\n",
    "for b_val in {2244..2246};\n",
    "do\n",
    "    dx run swiss-army-knife \\\n",
    "    -iin=\"/Bulk/DRAGEN\\ WGS/DRAGEN\\ population\\ level\\ WGS\\ variants,\\ pVCF\\ format\\ [500k\\ release]/chr19/ukb24310_c19_b${b_val}_v1.vcf.gz\" \\\n",
    "    -iin=\"/Bulk/DRAGEN\\ WGS/DRAGEN\\ population\\ level\\ WGS\\ variants,\\ pVCF\\ format\\ [500k\\ release]/chr19/ukb24310_c19_b${b_val}_v1.vcf.gz.tbi\" \\\n",
    "    -iin=\"/wgs_analysis/results/sample_ids.txt\" \\\n",
    "    -icmd=\"bcftools view -O z -S sample_ids.txt ukb24310_c19_b${b_val}_v1.vcf.gz -o APOE_b${b_val}.vcf.gz\" \\\n",
    "    --instance-type mem2_ssd1_v2_x32 \\\n",
    "    --destination \"${projectid}:/wgs_analysis/results/1_pvcf_chunks\"\n",
    "done\n"
   ]
  },
  {
   "cell_type": "markdown",
   "id": "5f7c1af2-7586-4614-bb18-be3e7be45d3a",
   "metadata": {
    "jp-MarkdownHeadingCollapsed": true,
    "tags": []
   },
   "source": [
    "## APP (chr21: 25,871,670 - 26,180,987) (b: 1293 - 1310)"
   ]
  },
  {
   "cell_type": "code",
   "execution_count": null,
   "id": "77af7716-b3b9-4c25-83f4-46274e678f87",
   "metadata": {
    "tags": []
   },
   "outputs": [],
   "source": [
    "%%bash\n",
    "for b_val in {1293..1310};\n",
    "do\n",
    "    dx run swiss-army-knife \\\n",
    "    -iin=\"/Bulk/DRAGEN\\ WGS/DRAGEN\\ population\\ level\\ WGS\\ variants,\\ pVCF\\ format\\ [500k\\ release]/chr21/ukb24310_c21_b${b_val}_v1.vcf.gz\" \\\n",
    "    -iin=\"/Bulk/DRAGEN\\ WGS/DRAGEN\\ population\\ level\\ WGS\\ variants,\\ pVCF\\ format\\ [500k\\ release]/chr21/ukb24310_c21_b${b_val}_v1.vcf.gz.tbi\" \\\n",
    "    -iin=\"/wgs_analysis/results/sample_ids.txt\" \\\n",
    "    -icmd=\"bcftools view -O z -S sample_ids.txt ukb24310_c21_b${b_val}_v1.vcf.gz -o APP_b${b_val}.vcf.gz\" \\\n",
    "    --instance-type mem2_ssd1_v2_x32 \\\n",
    "    --destination \"${projectid}:/wgs_analysis/results/1_pvcf_chunks\"\n",
    "done\n"
   ]
  },
  {
   "cell_type": "markdown",
   "id": "5a97d311-e969-43c6-b2c8-eacff5b473d3",
   "metadata": {
    "jp-MarkdownHeadingCollapsed": true,
    "tags": []
   },
   "source": [
    "# Combine pVCF chunks into one file for each gene"
   ]
  },
  {
   "cell_type": "code",
   "execution_count": null,
   "id": "4ed1146d-aaee-4cd5-b100-3b31c40cb52b",
   "metadata": {},
   "outputs": [],
   "source": [
    "\"\"\"\n",
    "------------------------------------------------------------------------------------------------------\n",
    "------------------------------------------------------------------------------------------------------\n",
    "------------------------------------------------------------------------------------------------------\n",
    "------------------------------ PAUSE HERE UNTIL PREVIOUS STEP COMPLETES ------------------------------\n",
    "------------------------------------------------------------------------------------------------------\n",
    "------------------------------------------------------------------------------------------------------\n",
    "------------------------------------------------------------------------------------------------------\n",
    "\"\"\""
   ]
  },
  {
   "cell_type": "markdown",
   "id": "e7376d10-4dbc-4919-a5c3-5f8884c81f73",
   "metadata": {
    "collapsed": true,
    "jp-MarkdownHeadingCollapsed": true,
    "jupyter": {
     "outputs_hidden": true
    },
    "tags": []
   },
   "source": [
    "## GBA"
   ]
  },
  {
   "cell_type": "code",
   "execution_count": null,
   "id": "f99872b4-090e-4c15-8db4-706eb2a7144f",
   "metadata": {
    "tags": []
   },
   "outputs": [],
   "source": [
    "%%bash\n",
    "\n",
    "dx run swiss-army-knife \\\n",
    "-iin=\"/wgs_analysis/results/1_pvcf_chunks/GBA_b7761.vcf.gz\" \\\n",
    "-iin=\"/wgs_analysis/results/1_pvcf_chunks/GBA_b7762.vcf.gz\" \\\n",
    "-iin=\"/wgs_analysis/results/1_pvcf_chunks/GBA_b7763.vcf.gz\" \\\n",
    "-icmd=\"bcftools concat -O z GBA_b7761.vcf.gz GBA_b7762.vcf.gz GBA_b7763.vcf.gz -o GBA.vcf.gz\" \\\n",
    "--instance-type mem2_ssd1_v2_x32 \\\n",
    "--destination \"${projectid}:/wgs_analysis/results/2_pvcf_genes\"\n"
   ]
  },
  {
   "cell_type": "markdown",
   "id": "798e8e1e-63e2-4068-bf29-6c489116b2fb",
   "metadata": {
    "jp-MarkdownHeadingCollapsed": true,
    "tags": []
   },
   "source": [
    "## PSEN2"
   ]
  },
  {
   "cell_type": "code",
   "execution_count": null,
   "id": "fafe52e3-7115-4bc0-9a03-c38fdc7f5a74",
   "metadata": {
    "tags": []
   },
   "outputs": [],
   "source": [
    "%%bash\n",
    "\n",
    "dx run swiss-army-knife \\\n",
    "-iin=\"/wgs_analysis/results/1_pvcf_chunks/PSEN2_b11343.vcf.gz\" \\\n",
    "-iin=\"/wgs_analysis/results/1_pvcf_chunks/PSEN2_b11344.vcf.gz\" \\\n",
    "-iin=\"/wgs_analysis/results/1_pvcf_chunks/PSEN2_b11345.vcf.gz\" \\\n",
    "-iin=\"/wgs_analysis/results/1_pvcf_chunks/PSEN2_b11346.vcf.gz\" \\\n",
    "-icmd=\"bcftools concat -O z PSEN2_b11343.vcf.gz PSEN2_b11344.vcf.gz PSEN2_b11345.vcf.gz PSEN2_b11346.vcf.gz -o PSEN2.vcf.gz\" \\\n",
    "--instance-type mem2_ssd1_v2_x32 \\\n",
    "--destination \"${projectid}:/wgs_analysis/results/2_pvcf_genes\"\n"
   ]
  },
  {
   "cell_type": "markdown",
   "id": "1660a493-06da-4690-b5ad-0970ddb327e4",
   "metadata": {
    "jp-MarkdownHeadingCollapsed": true,
    "tags": []
   },
   "source": [
    "## SNCA"
   ]
  },
  {
   "cell_type": "code",
   "execution_count": null,
   "id": "f376de9d-f37c-43ec-a7da-47f202dbb92d",
   "metadata": {
    "tags": []
   },
   "outputs": [],
   "source": [
    "%%bash\n",
    "\n",
    "dx run swiss-army-knife \\\n",
    "-iin=\"/wgs_analysis/results/1_pvcf_chunks/SNCA_b4485.vcf.gz\" \\\n",
    "-iin=\"/wgs_analysis/results/1_pvcf_chunks/SNCA_b4486.vcf.gz\" \\\n",
    "-iin=\"/wgs_analysis/results/1_pvcf_chunks/SNCA_b4487.vcf.gz\" \\\n",
    "-iin=\"/wgs_analysis/results/1_pvcf_chunks/SNCA_b4488.vcf.gz\" \\\n",
    "-iin=\"/wgs_analysis/results/1_pvcf_chunks/SNCA_b4489.vcf.gz\" \\\n",
    "-iin=\"/wgs_analysis/results/1_pvcf_chunks/SNCA_b4490.vcf.gz\" \\\n",
    "-iin=\"/wgs_analysis/results/1_pvcf_chunks/SNCA_b4491.vcf.gz\" \\\n",
    "-iin=\"/wgs_analysis/results/1_pvcf_chunks/SNCA_b4492.vcf.gz\" \\\n",
    "-iin=\"/wgs_analysis/results/1_pvcf_chunks/SNCA_b4493.vcf.gz\" \\\n",
    "-icmd=\"bcftools concat -O z SNCA_b4485.vcf.gz SNCA_b4486.vcf.gz SNCA_b4487.vcf.gz SNCA_b4488.vcf.gz SNCA_b4489.vcf.gz SNCA_b4490.vcf.gz SNCA_b4491.vcf.gz SNCA_b4492.vcf.gz SNCA_b4493.vcf.gz -o SNCA.vcf.gz\" \\\n",
    "--instance-type mem2_ssd1_v2_x32 \\\n",
    "--destination \"${projectid}:/wgs_analysis/results/2_pvcf_genes\"\n"
   ]
  },
  {
   "cell_type": "markdown",
   "id": "e5ee1b41-3bdb-42ea-a4aa-da581924a543",
   "metadata": {
    "jp-MarkdownHeadingCollapsed": true,
    "tags": []
   },
   "source": [
    "## TREM2"
   ]
  },
  {
   "cell_type": "code",
   "execution_count": null,
   "id": "aad87835-6238-4582-adbd-b305f5c213c9",
   "metadata": {
    "tags": []
   },
   "outputs": [],
   "source": [
    "%%bash\n",
    "\n",
    "dx run swiss-army-knife \\\n",
    "-iin=\"/wgs_analysis/results/1_pvcf_chunks/TREM2_b2057.vcf.gz\" \\\n",
    "-iin=\"/wgs_analysis/results/1_pvcf_chunks/TREM2_b2058.vcf.gz\" \\\n",
    "-iin=\"/wgs_analysis/results/1_pvcf_chunks/TREM2_b2059.vcf.gz\" \\\n",
    "-icmd=\"bcftools concat -O z TREM2_b2057.vcf.gz TREM2_b2058.vcf.gz TREM2_b2059.vcf.gz -o TREM2.vcf.gz\" \\\n",
    "--instance-type mem2_ssd1_v2_x32 \\\n",
    "--destination \"${projectid}:/wgs_analysis/results/2_pvcf_genes\"\n"
   ]
  },
  {
   "cell_type": "markdown",
   "id": "2f00e800-d9db-41f1-8c8d-34989a00155a",
   "metadata": {
    "jp-MarkdownHeadingCollapsed": true,
    "tags": []
   },
   "source": [
    "## PSEN1"
   ]
  },
  {
   "cell_type": "code",
   "execution_count": null,
   "id": "11dae603-196b-4aea-b5f6-87383a5024e6",
   "metadata": {
    "tags": []
   },
   "outputs": [],
   "source": [
    "%%bash\n",
    "\n",
    "dx run swiss-army-knife \\\n",
    "-iin=\"/wgs_analysis/results/1_pvcf_chunks/PSEN1_b3656.vcf.gz\" \\\n",
    "-iin=\"/wgs_analysis/results/1_pvcf_chunks/PSEN1_b3657.vcf.gz\" \\\n",
    "-iin=\"/wgs_analysis/results/1_pvcf_chunks/PSEN1_b3658.vcf.gz\" \\\n",
    "-iin=\"/wgs_analysis/results/1_pvcf_chunks/PSEN1_b3659.vcf.gz\" \\\n",
    "-iin=\"/wgs_analysis/results/1_pvcf_chunks/PSEN1_b3660.vcf.gz\" \\\n",
    "-iin=\"/wgs_analysis/results/1_pvcf_chunks/PSEN1_b3661.vcf.gz\" \\\n",
    "-iin=\"/wgs_analysis/results/1_pvcf_chunks/PSEN1_b3662.vcf.gz\" \\\n",
    "-icmd=\"bcftools concat -O z PSEN1_b3656.vcf.gz PSEN1_b3657.vcf.gz PSEN1_b3658.vcf.gz PSEN1_b3659.vcf.gz PSEN1_b3660.vcf.gz PSEN1_b3661.vcf.gz PSEN1_b3662.vcf.gz -o PSEN1.vcf.gz\" \\\n",
    "--instance-type mem2_ssd1_v2_x32 \\\n",
    "--destination \"${projectid}:/wgs_analysis/results/2_pvcf_genes\"\n"
   ]
  },
  {
   "cell_type": "markdown",
   "id": "ce81cd0e-74fd-44e0-8ccd-17e59803be65",
   "metadata": {
    "jp-MarkdownHeadingCollapsed": true,
    "tags": []
   },
   "source": [
    "## GRN"
   ]
  },
  {
   "cell_type": "code",
   "execution_count": null,
   "id": "257db9b7-d7e5-494e-a005-336a0b5f16d7",
   "metadata": {
    "tags": []
   },
   "outputs": [],
   "source": [
    "%%bash\n",
    "\n",
    "dx run swiss-army-knife \\\n",
    "-iin=\"/wgs_analysis/results/1_pvcf_chunks/GRN_b2216.vcf.gz\" \\\n",
    "-iin=\"/wgs_analysis/results/1_pvcf_chunks/GRN_b2217.vcf.gz\" \\\n",
    "-iin=\"/wgs_analysis/results/1_pvcf_chunks/GRN_b2218.vcf.gz\" \\\n",
    "-iin=\"/wgs_analysis/results/1_pvcf_chunks/GRN_b2219.vcf.gz\" \\\n",
    "-icmd=\"bcftools concat -O z GRN_b2216.vcf.gz GRN_b2217.vcf.gz GRN_b2218.vcf.gz GRN_b2219.vcf.gz -o GRN.vcf.gz\" \\\n",
    "--instance-type mem2_ssd1_v2_x32 \\\n",
    "--destination \"${projectid}:/wgs_analysis/results/2_pvcf_genes\"\n"
   ]
  },
  {
   "cell_type": "markdown",
   "id": "c9f650cc-f149-438a-93e9-0c5e93f2b8c7",
   "metadata": {
    "jp-MarkdownHeadingCollapsed": true,
    "tags": []
   },
   "source": [
    "## MAPT"
   ]
  },
  {
   "cell_type": "code",
   "execution_count": null,
   "id": "2d822680-a9f7-4c3d-835f-6e7a5967a50f",
   "metadata": {
    "tags": []
   },
   "outputs": [],
   "source": [
    "%%bash\n",
    "\n",
    "dx run swiss-army-knife \\\n",
    "-iin=\"/wgs_analysis/results/1_pvcf_chunks/MAPT_b2294.vcf.gz\" \\\n",
    "-iin=\"/wgs_analysis/results/1_pvcf_chunks/MAPT_b2295.vcf.gz\" \\\n",
    "-iin=\"/wgs_analysis/results/1_pvcf_chunks/MAPT_b2296.vcf.gz\" \\\n",
    "-iin=\"/wgs_analysis/results/1_pvcf_chunks/MAPT_b2297.vcf.gz\" \\\n",
    "-iin=\"/wgs_analysis/results/1_pvcf_chunks/MAPT_b2298.vcf.gz\" \\\n",
    "-iin=\"/wgs_analysis/results/1_pvcf_chunks/MAPT_b2299.vcf.gz\" \\\n",
    "-iin=\"/wgs_analysis/results/1_pvcf_chunks/MAPT_b2300.vcf.gz\" \\\n",
    "-iin=\"/wgs_analysis/results/1_pvcf_chunks/MAPT_b2301.vcf.gz\" \\\n",
    "-iin=\"/wgs_analysis/results/1_pvcf_chunks/MAPT_b2302.vcf.gz\" \\\n",
    "-icmd=\"bcftools concat -O z MAPT_b2294.vcf.gz MAPT_b2295.vcf.gz MAPT_b2296.vcf.gz MAPT_b2297.vcf.gz MAPT_b2298.vcf.gz MAPT_b2299.vcf.gz MAPT_b2300.vcf.gz MAPT_b2301.vcf.gz MAPT_b2302.vcf.gz -o MAPT.vcf.gz\" \\\n",
    "--instance-type mem2_ssd1_v2_x32 \\\n",
    "--destination \"${projectid}:/wgs_analysis/results/2_pvcf_genes\"\n"
   ]
  },
  {
   "cell_type": "markdown",
   "id": "ae52306a-aaa0-4cf9-83c5-7a8b9138317b",
   "metadata": {
    "jp-MarkdownHeadingCollapsed": true,
    "tags": []
   },
   "source": [
    "## APOE"
   ]
  },
  {
   "cell_type": "code",
   "execution_count": null,
   "id": "c4e1c19f-40ba-4fc2-ac9a-83cfc55c8e55",
   "metadata": {
    "tags": []
   },
   "outputs": [],
   "source": [
    "%%bash\n",
    "\n",
    "dx run swiss-army-knife \\\n",
    "-iin=\"/wgs_analysis/results/1_pvcf_chunks/APOE_b2244.vcf.gz\" \\\n",
    "-iin=\"/wgs_analysis/results/1_pvcf_chunks/APOE_b2245.vcf.gz\" \\\n",
    "-iin=\"/wgs_analysis/results/1_pvcf_chunks/APOE_b2246.vcf.gz\" \\\n",
    "-icmd=\"bcftools concat -O z APOE_b2244.vcf.gz APOE_b2245.vcf.gz APOE_b2246.vcf.gz -o APOE.vcf.gz\" \\\n",
    "--instance-type mem2_ssd1_v2_x32 \\\n",
    "--destination \"${projectid}:/wgs_analysis/results/2_pvcf_genes\"\n"
   ]
  },
  {
   "cell_type": "markdown",
   "id": "b0b31a58-f219-4148-9600-3083691c9d14",
   "metadata": {
    "jp-MarkdownHeadingCollapsed": true,
    "tags": []
   },
   "source": [
    "## APP"
   ]
  },
  {
   "cell_type": "code",
   "execution_count": null,
   "id": "a9d8ba21-09ee-4c2c-b8d7-59275a7457cb",
   "metadata": {
    "tags": []
   },
   "outputs": [],
   "source": [
    "%%bash\n",
    "\n",
    "dx run swiss-army-knife \\\n",
    "-iin=\"/wgs_analysis/results/1_pvcf_chunks/APP_b1293.vcf.gz\" \\\n",
    "-iin=\"/wgs_analysis/results/1_pvcf_chunks/APP_b1294.vcf.gz\" \\\n",
    "-iin=\"/wgs_analysis/results/1_pvcf_chunks/APP_b1295.vcf.gz\" \\\n",
    "-iin=\"/wgs_analysis/results/1_pvcf_chunks/APP_b1296.vcf.gz\" \\\n",
    "-iin=\"/wgs_analysis/results/1_pvcf_chunks/APP_b1297.vcf.gz\" \\\n",
    "-iin=\"/wgs_analysis/results/1_pvcf_chunks/APP_b1298.vcf.gz\" \\\n",
    "-iin=\"/wgs_analysis/results/1_pvcf_chunks/APP_b1299.vcf.gz\" \\\n",
    "-iin=\"/wgs_analysis/results/1_pvcf_chunks/APP_b1300.vcf.gz\" \\\n",
    "-iin=\"/wgs_analysis/results/1_pvcf_chunks/APP_b1301.vcf.gz\" \\\n",
    "-iin=\"/wgs_analysis/results/1_pvcf_chunks/APP_b1302.vcf.gz\" \\\n",
    "-iin=\"/wgs_analysis/results/1_pvcf_chunks/APP_b1303.vcf.gz\" \\\n",
    "-iin=\"/wgs_analysis/results/1_pvcf_chunks/APP_b1304.vcf.gz\" \\\n",
    "-iin=\"/wgs_analysis/results/1_pvcf_chunks/APP_b1305.vcf.gz\" \\\n",
    "-iin=\"/wgs_analysis/results/1_pvcf_chunks/APP_b1306.vcf.gz\" \\\n",
    "-iin=\"/wgs_analysis/results/1_pvcf_chunks/APP_b1307.vcf.gz\" \\\n",
    "-iin=\"/wgs_analysis/results/1_pvcf_chunks/APP_b1308.vcf.gz\" \\\n",
    "-iin=\"/wgs_analysis/results/1_pvcf_chunks/APP_b1309.vcf.gz\" \\\n",
    "-iin=\"/wgs_analysis/results/1_pvcf_chunks/APP_b1310.vcf.gz\" \\\n",
    "-icmd=\"bcftools concat -O z APP_b1293.vcf.gz APP_b1294.vcf.gz APP_b1295.vcf.gz APP_b1296.vcf.gz APP_b1297.vcf.gz APP_b1298.vcf.gz APP_b1299.vcf.gz APP_b1300.vcf.gz APP_b1301.vcf.gz APP_b1302.vcf.gz APP_b1303.vcf.gz APP_b1304.vcf.gz APP_b1305.vcf.gz APP_b1306.vcf.gz APP_b1307.vcf.gz APP_b1308.vcf.gz APP_b1309.vcf.gz APP_b1310.vcf.gz -o APP.vcf.gz\" \\\n",
    "--instance-type mem2_ssd1_v2_x32 \\\n",
    "--destination \"${projectid}:/wgs_analysis/results/2_pvcf_genes\"\n"
   ]
  },
  {
   "cell_type": "markdown",
   "id": "36ed5836-2a94-44ec-9b79-29c0635cd0ab",
   "metadata": {
    "jp-MarkdownHeadingCollapsed": true,
    "tags": []
   },
   "source": [
    "# Concatenate genes together"
   ]
  },
  {
   "cell_type": "code",
   "execution_count": null,
   "id": "1a223967-179f-496e-b935-445c3c0c8344",
   "metadata": {
    "tags": []
   },
   "outputs": [],
   "source": [
    "%%bash\n",
    "\n",
    "dx run swiss-army-knife \\\n",
    "-iin=\"/wgs_analysis/results/2_pvcf_genes/GBA.vcf.gz\" \\\n",
    "-iin=\"/wgs_analysis/results/2_pvcf_genes/PSEN2.vcf.gz\" \\\n",
    "-iin=\"/wgs_analysis/results/2_pvcf_genes/SNCA.vcf.gz\" \\\n",
    "-iin=\"/wgs_analysis/results/2_pvcf_genes/TREM2.vcf.gz\" \\\n",
    "-iin=\"/wgs_analysis/results/2_pvcf_genes/PSEN1.vcf.gz\" \\\n",
    "-iin=\"/wgs_analysis/results/2_pvcf_genes/GRN.vcf.gz\" \\\n",
    "-iin=\"/wgs_analysis/results/2_pvcf_genes/MAPT.vcf.gz\" \\\n",
    "-iin=\"/wgs_analysis/results/2_pvcf_genes/APOE.vcf.gz\" \\\n",
    "-iin=\"/wgs_analysis/results/2_pvcf_genes/APP.vcf.gz\" \\\n",
    "-icmd=\"bcftools concat -O z GBA.vcf.gz PSEN2.vcf.gz SNCA.vcf.gz TREM2.vcf.gz PSEN1.vcf.gz GRN.vcf.gz MAPT.vcf.gz APOE.vcf.gz APP.vcf.gz -o combined.vcf.gz\" \\\n",
    "--instance-type mem2_ssd1_v2_x32 \\\n",
    "--destination \"${projectid}:/wgs_analysis/results/3_pvcf_combined\"\n"
   ]
  },
  {
   "cell_type": "markdown",
   "id": "434524be-1789-4c78-8e57-99f2e6de3b0e",
   "metadata": {
    "jp-MarkdownHeadingCollapsed": true,
    "tags": []
   },
   "source": [
    "# Normalize VCFs before annotation"
   ]
  },
  {
   "cell_type": "markdown",
   "id": "cb462409-8441-4154-b27f-af2f460fa2fc",
   "metadata": {
    "jp-MarkdownHeadingCollapsed": true,
    "tags": []
   },
   "source": [
    "#### Split multiallelic sites into biallelic records"
   ]
  },
  {
   "cell_type": "code",
   "execution_count": null,
   "id": "c0e635cb-8334-428d-800b-d535ab7c9641",
   "metadata": {},
   "outputs": [],
   "source": [
    "\"\"\"\n",
    "------------------------------------------------------------------------------------------------------\n",
    "------------------------------------------------------------------------------------------------------\n",
    "------------------------------------------------------------------------------------------------------\n",
    "------------------------------ PAUSE HERE UNTIL PREVIOUS STEP COMPLETES ------------------------------\n",
    "------------------------------------------------------------------------------------------------------\n",
    "------------------------------------------------------------------------------------------------------\n",
    "------------------------------------------------------------------------------------------------------\n",
    "\"\"\""
   ]
  },
  {
   "cell_type": "code",
   "execution_count": null,
   "id": "56415203-db4b-495b-a085-06ebcbf58349",
   "metadata": {
    "tags": []
   },
   "outputs": [],
   "source": [
    "%%bash\n",
    "\n",
    "dx run swiss-army-knife \\\n",
    "-iin=\"/wgs_analysis/results/3_pvcf_combined/combined.vcf.gz\" \\\n",
    "-icmd=\"bcftools norm -m-both -o biallelic.vcf combined.vcf.gz\" \\\n",
    "--instance-type mem2_ssd1_v2_x32 \\\n",
    "--destination \"${projectid}:/wgs_analysis/results/4_normalized\"\n"
   ]
  },
  {
   "cell_type": "markdown",
   "id": "2b8f43a9-7b0c-4622-8651-5329845ec66c",
   "metadata": {
    "jp-MarkdownHeadingCollapsed": true,
    "tags": []
   },
   "source": [
    "#### Left-align and normalize"
   ]
  },
  {
   "cell_type": "code",
   "execution_count": null,
   "id": "a960869a-67e1-464d-8ce8-b5b8cb666411",
   "metadata": {},
   "outputs": [],
   "source": [
    "\"\"\"\n",
    "------------------------------------------------------------------------------------------------------\n",
    "------------------------------------------------------------------------------------------------------\n",
    "------------------------------------------------------------------------------------------------------\n",
    "------------------------------ PAUSE HERE UNTIL PREVIOUS STEP COMPLETES ------------------------------\n",
    "------------------------------------------------------------------------------------------------------\n",
    "------------------------------------------------------------------------------------------------------\n",
    "------------------------------------------------------------------------------------------------------\n",
    "\"\"\""
   ]
  },
  {
   "cell_type": "code",
   "execution_count": null,
   "id": "cf1c6e99-309b-4ae0-9590-fa8191aef782",
   "metadata": {
    "tags": []
   },
   "outputs": [],
   "source": [
    "%%bash\n",
    "\n",
    "dx run swiss-army-knife \\\n",
    "-iin=\"/wgs_analysis/results/4_normalized/biallelic.vcf\" \\\n",
    "-iin=\"/wgs_analysis/data/Homo_sapiens_assembly38.fasta\" \\\n",
    "-icmd=\"bcftools norm -f Homo_sapiens_assembly38.fasta -o normalized.vcf biallelic.vcf\" \\\n",
    "--instance-type mem2_ssd1_v2_x64 \\\n",
    "--destination \"${projectid}:/wgs_analysis/results/4_normalized\"\n"
   ]
  },
  {
   "cell_type": "markdown",
   "id": "6a381f28-e318-45d9-a167-3fd40c98dc5b",
   "metadata": {
    "jp-MarkdownHeadingCollapsed": true,
    "tags": []
   },
   "source": [
    "# Annotation"
   ]
  },
  {
   "cell_type": "markdown",
   "id": "301fd58e-661c-49cc-858e-0f118d15395c",
   "metadata": {
    "jp-MarkdownHeadingCollapsed": true,
    "tags": []
   },
   "source": [
    "## Filter VCFs to only include a few participants"
   ]
  },
  {
   "cell_type": "markdown",
   "id": "c05d57f5-e6e5-49f3-9b88-174c218ad8e8",
   "metadata": {
    "jp-MarkdownHeadingCollapsed": true,
    "tags": []
   },
   "source": [
    "#### Get subset of participant IDs"
   ]
  },
  {
   "cell_type": "code",
   "execution_count": null,
   "id": "57e3f4ed-60b7-4fa7-a773-9517ec5c0dd1",
   "metadata": {
    "tags": []
   },
   "outputs": [],
   "source": [
    "! dx download wgs_analysis/results/ad_ids.txt --overwrite\n",
    "! dx download wgs_analysis/results/rd_ids.txt --overwrite\n",
    "! dx download wgs_analysis/results/control_ids.txt --overwrite\n"
   ]
  },
  {
   "cell_type": "code",
   "execution_count": null,
   "id": "864b79a5-23df-4b79-81f0-65ea717e84e2",
   "metadata": {
    "tags": []
   },
   "outputs": [],
   "source": [
    "ad_ids = \"ad_ids.txt\"\n",
    "rd_ids = \"rd_ids.txt\"\n",
    "control_ids = \"control_ids.txt\"\n",
    "output_file = \"annot_ids.txt\"\n",
    "\n",
    "with open(ad_ids, \"r\") as f1, open(rd_ids, \"r\") as f2, open(control_ids, \"r\") as f3, open(output_file, \"w\") as out:\n",
    "    out.write(f1.readline().strip() + \"\\n\")\n",
    "    out.write(f2.readline().strip() + \"\\n\")\n",
    "    out.write(f3.readline().strip() + \"\\n\")\n"
   ]
  },
  {
   "cell_type": "code",
   "execution_count": null,
   "id": "1ba1919c-109f-43c6-b62e-76ce64d3fcdb",
   "metadata": {
    "tags": []
   },
   "outputs": [],
   "source": [
    "! dx upload annot_ids.txt --path wgs_analysis/results/annot_ids.txt\n"
   ]
  },
  {
   "cell_type": "markdown",
   "id": "7ef15586-0c90-4fe6-bb56-f678c181e26f",
   "metadata": {
    "jp-MarkdownHeadingCollapsed": true,
    "tags": []
   },
   "source": [
    "#### Get filtered VCFs"
   ]
  },
  {
   "cell_type": "code",
   "execution_count": null,
   "id": "ad459daf-e093-4841-82f9-98d1acd0862a",
   "metadata": {
    "tags": []
   },
   "outputs": [],
   "source": [
    "%%bash\n",
    "\n",
    "dx run swiss-army-knife \\\n",
    "-iin=\"/wgs_analysis/results/4_normalized/normalized.vcf\" \\\n",
    "-iin=\"/wgs_analysis/results/annot_ids.txt\" \\\n",
    "-icmd=\"bcftools view -O z -S annot_ids.txt normalized.vcf -o filtered.vcf.gz\" \\\n",
    "--instance-type mem2_ssd1_v2_x32 \\\n",
    "--destination \"${projectid}:/wgs_analysis/results/5_annotated\"\n"
   ]
  },
  {
   "cell_type": "markdown",
   "id": "50c8eaf9-1da4-49b8-ae56-890259085319",
   "metadata": {
    "jp-MarkdownHeadingCollapsed": true,
    "tags": []
   },
   "source": [
    "## Fetch Annovar libraries and reference genome data"
   ]
  },
  {
   "cell_type": "code",
   "execution_count": null,
   "id": "1a6d97d7-30e5-4aa4-b113-8a1a14129b8f",
   "metadata": {
    "tags": []
   },
   "outputs": [],
   "source": [
    "%%capture\n",
    "\n",
    "! wget http://www.openbioinformatics.org/annovar/download/0wgxR2rIVP/annovar.latest.tar.gz\n",
    "! tar -xzf annovar.latest.tar.gz\n",
    "! chmod a+x ./annovar/*.pl\n",
    "! annovar/annotate_variation.pl -downdb -buildver hg38 -webfrom annovar refGene annovar/humandb/\n",
    "! annovar/annotate_variation.pl -downdb -buildver hg38 -webfrom annovar avsnp150 annovar/humandb/\n",
    "! annovar/annotate_variation.pl -downdb -buildver hg38 -webfrom annovar clinvar_20221231 annovar/humandb/\n",
    "! annovar/annotate_variation.pl -downdb -buildver hg38 -webfrom annovar dbnsfp30a annovar/humandb/\n",
    "! annovar/annotate_variation.pl -downdb -buildver hg38 -webfrom annovar gnomad40_genome annovar/humandb/\n",
    "! dx download wgs_analysis/data/Homo_sapiens_assembly38.fasta --overwrite\n",
    "! dx download wgs_analysis/data/Homo_sapiens_assembly38.fasta.fai --overwrite\n",
    "! dx download wgs_analysis/data/Homo_sapiens_assembly38.dict --overwrite\n"
   ]
  },
  {
   "cell_type": "markdown",
   "id": "96fadfc5-73c5-4f79-ac67-b019a29f8322",
   "metadata": {
    "jp-MarkdownHeadingCollapsed": true,
    "tags": []
   },
   "source": [
    "## Perform annotation"
   ]
  },
  {
   "cell_type": "code",
   "execution_count": null,
   "id": "c499f4d3-5cd9-460c-93fc-37c22ffc2079",
   "metadata": {
    "tags": []
   },
   "outputs": [],
   "source": [
    "%%bash\n",
    "\n",
    "annovar/table_annovar.pl ../../mnt/project/wgs_analysis/results/5_annotated/filtered.vcf.gz annovar/humandb/ \\\n",
    "--buildver hg38 \\\n",
    "--thread 96 \\\n",
    "--remove \\\n",
    "--protocol refGene,avsnp150,clinvar_20221231,dbnsfp30a,gnomad40_genome \\\n",
    "--operation g,f,f,f,f \\\n",
    "--nopolish \\\n",
    "--nastring . \\\n",
    "--out var_calling.annovar \\\n",
    "--vcfinput\n"
   ]
  },
  {
   "cell_type": "code",
   "execution_count": null,
   "id": "7fa254ae-c13a-4c43-b0a5-5f5a013de50a",
   "metadata": {
    "tags": []
   },
   "outputs": [],
   "source": [
    "annot_df = pd.read_csv(f\"var_calling.annovar.hg38_multianno.txt\", sep = '\\t')\n",
    "annot_df.to_csv(f\"annotated.csv\", index=False)\n",
    "! dx upload annotated.csv --path wgs_analysis/results/5_annotated/annotated.csv\n"
   ]
  },
  {
   "cell_type": "markdown",
   "id": "8d2e5906-4c04-4cde-afd0-59c0b0be3a69",
   "metadata": {
    "collapsed": true,
    "jp-MarkdownHeadingCollapsed": true,
    "jupyter": {
     "outputs_hidden": true
    },
    "tags": []
   },
   "source": [
    "# Calculate allele frequencies"
   ]
  },
  {
   "cell_type": "markdown",
   "id": "8ac61a09-1cc2-4687-948f-b82bc3fae0ea",
   "metadata": {
    "jp-MarkdownHeadingCollapsed": true,
    "tags": []
   },
   "source": [
    "## Subset IDs for all cohort-ancestry combinations"
   ]
  },
  {
   "cell_type": "code",
   "execution_count": null,
   "id": "4ea7d3b5-5967-43ce-bd4b-fb887e23b958",
   "metadata": {
    "tags": []
   },
   "outputs": [],
   "source": [
    "ad_df = pd.read_csv(\"../../mnt/project/wgs_analysis/results/AD_cases.csv\")\n",
    "rd_df = pd.read_csv(\"../../mnt/project/wgs_analysis/results/RD_cases.csv\")\n",
    "control_df = pd.read_csv(\"../../mnt/project/wgs_analysis/results/Controls.csv\")\n"
   ]
  },
  {
   "cell_type": "code",
   "execution_count": null,
   "id": "c2a16b01-0f26-4a37-b998-b2f7de03920c",
   "metadata": {
    "tags": []
   },
   "outputs": [],
   "source": [
    "ad_df = ad_df[[\"ID\",\"label\"]]\n",
    "rd_df = rd_df[[\"ID\",\"label\"]]\n",
    "control_df = control_df[[\"ID\",\"label\"]]\n"
   ]
  },
  {
   "cell_type": "code",
   "execution_count": null,
   "id": "86fa392b-0444-4994-b9f8-9f0fa521f064",
   "metadata": {
    "tags": []
   },
   "outputs": [],
   "source": [
    "for ancestry in ad_df[\"label\"].unique():\n",
    "    ids = ad_df[ad_df[\"label\"] == ancestry][\"ID\"]\n",
    "    with open(f\"AD_{ancestry}.txt\", 'w') as file:\n",
    "        for iid in ids:\n",
    "            file.write(f\"{iid}\\n\")\n",
    "    !dx upload AD_{ancestry}.txt --path wgs_analysis/data/ID_Files/AD_{ancestry}.txt\n",
    "\n",
    "for ancestry in rd_df[\"label\"].unique():\n",
    "    ids = rd_df[rd_df[\"label\"] == ancestry][\"ID\"]\n",
    "    with open(f\"RD_{ancestry}.txt\", 'w') as file:\n",
    "        for iid in ids:\n",
    "            file.write(f\"{iid}\\n\")\n",
    "    !dx upload RD_{ancestry}.txt --path wgs_analysis/data/ID_Files/RD_{ancestry}.txt\n",
    "\n",
    "for ancestry in control_df[\"label\"].unique():\n",
    "    ids = control_df[control_df[\"label\"] == ancestry][\"ID\"]\n",
    "    with open(f\"Control_{ancestry}.txt\", 'w') as file:\n",
    "        for iid in ids:\n",
    "            file.write(f\"{iid}\\n\")\n",
    "    !dx upload Control_{ancestry}.txt --path wgs_analysis/data/ID_Files/Control_{ancestry}.txt\n"
   ]
  },
  {
   "cell_type": "markdown",
   "id": "b29f10fe-a17c-4a16-8129-348af38fbfff",
   "metadata": {
    "jp-MarkdownHeadingCollapsed": true,
    "tags": []
   },
   "source": [
    "## Get frequencies for each gene-cohort-ancestry combination"
   ]
  },
  {
   "cell_type": "code",
   "execution_count": null,
   "id": "a569c22d-aab0-4e73-a432-ea2c25ddcda2",
   "metadata": {
    "tags": []
   },
   "outputs": [],
   "source": [
    "%%bash\n",
    "\n",
    "for cohort in {\"AD\",\"RD\",\"Control\"};\n",
    "do\n",
    "    for ancestry in {\"AAC\",\"AFR\",\"AJ\",\"AMR\",\"CAH\",\"CAS\",\"EAS\",\"EUR\",\"FIN\",\"MDE\",\"SAS\"};\n",
    "    do\n",
    "        dx run swiss-army-knife \\\n",
    "        -iin=\"/wgs_analysis/results/4_normalized/normalized.vcf\" \\\n",
    "        -iin=\"/wgs_analysis/data/ID_Files/${cohort}_${ancestry}.txt\" \\\n",
    "        -icmd=\"plink2 --vcf normalized.vcf --set-all-var-ids 'chr@:#:\\$r:\\$a' --new-id-max-allele-len 999 --keep ${cohort}_${ancestry}.txt --freq --out ${cohort}_${ancestry}\" \\\n",
    "        --instance-type mem1_hdd1_v2_x16 \\\n",
    "        --destination \"${projectid}:/wgs_analysis/results/6_frequencies\"\n",
    "    done\n",
    "done\n"
   ]
  },
  {
   "cell_type": "markdown",
   "id": "fdf813fc-0f30-4a33-9d16-889cf89e92cf",
   "metadata": {
    "jp-MarkdownHeadingCollapsed": true,
    "tags": []
   },
   "source": [
    "## Get zygosity info"
   ]
  },
  {
   "cell_type": "code",
   "execution_count": null,
   "id": "2aba3ad2-bd40-40da-a9c2-f3dabd0ab902",
   "metadata": {
    "tags": []
   },
   "outputs": [],
   "source": [
    "%%bash\n",
    "\n",
    "for cohort in {\"AD\",\"RD\",\"Control\"};\n",
    "do\n",
    "    for ancestry in {\"AAC\",\"AFR\",\"AJ\",\"AMR\",\"CAH\",\"CAS\",\"EAS\",\"EUR\",\"FIN\",\"MDE\",\"SAS\"};\n",
    "    do\n",
    "        dx run swiss-army-knife \\\n",
    "        -iin=\"/wgs_analysis/results/4_normalized/normalized.vcf\" \\\n",
    "        -iin=\"/wgs_analysis/data/ID_Files/${cohort}_${ancestry}.txt\" \\\n",
    "        -iin=\"/wgs_analysis/results/6_frequencies/${cohort}_${ancestry}.afreq\" \\\n",
    "        -icmd=\"plink2 --vcf normalized.vcf --set-all-var-ids 'chr@:#:\\$r:\\$a' --new-id-max-allele-len 999 --keep ${cohort}_${ancestry}.txt --read-freq ${cohort}_${ancestry}.afreq --export A --het --out ${cohort}_${ancestry}\" \\\n",
    "        --instance-type mem1_hdd1_v2_x16 \\\n",
    "        --destination \"${projectid}:/wgs_analysis/results/6_frequencies\"\n",
    "    done\n",
    "done\n"
   ]
  },
  {
   "cell_type": "markdown",
   "id": "fd7d93a4-0409-4efc-9c57-2869c2f58709",
   "metadata": {
    "jp-MarkdownHeadingCollapsed": true,
    "tags": []
   },
   "source": [
    "## Find homozygous/heterozygous counts"
   ]
  },
  {
   "cell_type": "code",
   "execution_count": null,
   "id": "b05f9783-778c-46c3-b7ac-0be1b235f7e1",
   "metadata": {
    "tags": []
   },
   "outputs": [],
   "source": [
    "for cohort in [\"AD\",\"RD\",\"Control\"]:\n",
    "    for ancestry in [\"AAC\",\"AFR\",\"AJ\",\"AMR\",\"CAH\",\"CAS\",\"EAS\",\"EUR\",\"FIN\",\"MDE\",\"SAS\"]:\n",
    "        ! dx download /wgs_analysis/results/6_frequencies/{cohort}_{ancestry}.raw\n"
   ]
  },
  {
   "cell_type": "code",
   "execution_count": null,
   "id": "34d02dd5-2b2a-4ea2-a769-1d387758f4ab",
   "metadata": {
    "tags": []
   },
   "outputs": [],
   "source": [
    "%%bash\n",
    "\n",
    "for cohort in {\"AD\",\"RD\",\"Control\"};\n",
    "do\n",
    "    for ancestry in {\"AAC\",\"AFR\",\"AJ\",\"AMR\",\"CAH\",\"CAS\",\"EAS\",\"EUR\",\"FIN\",\"MDE\",\"SAS\"};\n",
    "    do\n",
    "        output_file=\"counts_${cohort}_${ancestry}.tsv\"\n",
    "        temp_output=\"temp_${cohort}_${ancestry}.tsv\"\n",
    "\n",
    "        > $output_file\n",
    "\n",
    "        input_file=\"cut.raw\"\n",
    "\n",
    "        grep \"FID\" ${cohort}_${ancestry}.raw | cut -d$'\\t' -f7- > header.tmp\n",
    "\n",
    "        cut -d$'\\t' -f7- \"${cohort}_${ancestry}.raw\" > $input_file\n",
    "\n",
    "        declare -A count_2\n",
    "        declare -A count_1\n",
    "        declare -A count_0\n",
    "\n",
    "        awk -F'\\t' '\n",
    "        {\n",
    "            for (i=1; i<=NF; i++) {\n",
    "                if ($i == 2) count_2[i]++;\n",
    "                else if ($i == 1) count_1[i]++;\n",
    "                else if ($i == 0) count_0[i]++;\n",
    "            }\n",
    "        }\n",
    "        END {\n",
    "            for (i=1; i<=NF; i++) {\n",
    "                printf(\"%d\", count_2[i]);\n",
    "                if (i<NF) printf(\"\\t\");\n",
    "            }\n",
    "            print \"\";\n",
    "\n",
    "            for (i=1; i<=NF; i++) {\n",
    "                printf(\"%d\", count_1[i]);\n",
    "                if (i<NF) printf(\"\\t\");\n",
    "            }\n",
    "            print \"\";\n",
    "\n",
    "            for (i=1; i<=NF; i++) {\n",
    "                printf(\"%d\", count_0[i]);\n",
    "                if (i<NF) printf(\"\\t\");\n",
    "            }\n",
    "            print \"\";\n",
    "        }' $input_file > count.tmp\n",
    "\n",
    "        cat header.tmp count.tmp > $output_file\n",
    "\n",
    "        rm $input_file count.tmp header.tmp\n",
    "\n",
    "        echo \"Counts have been appended to $output_file\"\n",
    "    done\n",
    "done\n"
   ]
  },
  {
   "cell_type": "code",
   "execution_count": null,
   "id": "d5f679f3-dca4-46cd-bbfe-89783b728ad7",
   "metadata": {
    "tags": []
   },
   "outputs": [],
   "source": [
    "for cohort in [\"AD\",\"RD\",\"Control\"]:\n",
    "    for ancestry in [\"AAC\",\"AFR\",\"AJ\",\"AMR\",\"CAH\",\"CAS\",\"EAS\",\"EUR\",\"FIN\",\"MDE\",\"SAS\"]:\n",
    "        ! dx upload counts_{cohort}_{ancestry}.tsv --path wgs_analysis/results/7_zygosity/counts_{cohort}_{ancestry}.tsv\n"
   ]
  },
  {
   "cell_type": "code",
   "execution_count": null,
   "id": "1c484af5-5d65-4d57-9432-a8020c4ea5b5",
   "metadata": {
    "tags": []
   },
   "outputs": [],
   "source": [
    "for cohort in [\"AD\",\"RD\",\"Control\"]:\n",
    "    for ancestry in [\"AAC\",\"AFR\",\"AJ\",\"AMR\",\"CAH\",\"CAS\",\"EAS\",\"EUR\",\"FIN\",\"MDE\",\"SAS\"]:\n",
    "        ! dx download wgs_analysis/results/7_zygosity/counts_{cohort}_{ancestry}.tsv\n"
   ]
  },
  {
   "cell_type": "code",
   "execution_count": null,
   "id": "ebd4f920-921e-4669-a5e5-06fd199da02d",
   "metadata": {
    "tags": []
   },
   "outputs": [],
   "source": [
    "for cohort in [\"AD\",\"RD\",\"Control\"]:\n",
    "    zyg_cohort = []\n",
    "    for ancestry in [\"AAC\",\"AFR\",\"AJ\",\"AMR\",\"CAH\",\"CAS\",\"EAS\",\"EUR\",\"FIN\",\"MDE\",\"SAS\"]:\n",
    "        try:\n",
    "            df = pd.read_csv(f\"counts_{cohort}_{ancestry}.tsv\", sep=\"\\t\")\n",
    "            variant_ids = df.columns.values\n",
    "            rename_dict = {}\n",
    "            for vid in variant_ids:\n",
    "                rename_dict[vid] = vid.split(\"_\")[0]\n",
    "            df.rename(rename_dict, axis=1, inplace=True)\n",
    "            zyg_cohort.append(df)\n",
    "        except:\n",
    "            print(f\"No data found at counts_{cohort}_{ancestry}.tsv\")\n",
    "    result_zyg = reduce(lambda x, y: x + y, zyg_cohort)\n",
    "    result_zyg.to_csv(f\"{cohort}_Final.csv\", index=False)\n",
    "    ! dx upload {cohort}_Final.csv --path wgs_analysis/results/7_zygosity/{cohort}_Final.csv\n"
   ]
  },
  {
   "cell_type": "code",
   "execution_count": null,
   "id": "658c9859-1990-4de1-8769-3aaaf431f1e5",
   "metadata": {
    "tags": []
   },
   "outputs": [],
   "source": [
    "ad_zyg = pd.read_csv(f\"AD_Final.csv\")\n",
    "rd_zyg = pd.read_csv(f\"RD_Final.csv\")\n",
    "control_zyg = pd.read_csv(f\"Control_Final.csv\")\n",
    "\n",
    "ad_zyg = ad_zyg.T\n",
    "rd_zyg = rd_zyg.T\n",
    "control_zyg = control_zyg.T\n",
    "\n",
    "ad_zyg = ad_zyg.reset_index()\n",
    "rd_zyg = rd_zyg.reset_index()\n",
    "control_zyg = control_zyg.reset_index()\n",
    "\n",
    "ad_zyg.rename(columns={'index': 'ID', 0: 'AD_Homozygous_Ref', 1: 'AD_Heterozygous', 2: 'AD_Homozygous_Alt'}, inplace=True)\n",
    "rd_zyg.rename(columns={'index': 'ID', 0: 'RD_Homozygous_Ref', 1: 'RD_Heterozygous', 2: 'RD_Homozygous_Alt'}, inplace=True)\n",
    "control_zyg.rename(columns={'index': 'ID', 0: 'Control_Homozygous_Ref', 1: 'Control_Heterozygous', 2: 'Control_Homozygous_Alt'}, inplace=True)\n",
    "\n",
    "final_zyg = ad_zyg.merge(rd_zyg, on=\"ID\")\n",
    "final_zyg = final_zyg.merge(control_zyg, on=\"ID\")\n",
    "\n",
    "display(ad_zyg.head())\n",
    "display(final_zyg.head())\n",
    "\n",
    "final_zyg.to_csv(\"final_zygosity.csv\", index=False)\n",
    "! dx upload final_zygosity.csv --path wgs_analysis/results/7_zygosity/final_zygosity.csv\n"
   ]
  },
  {
   "cell_type": "markdown",
   "id": "5be5d449-7d1c-4f60-87a1-78ab4274d979",
   "metadata": {
    "jp-MarkdownHeadingCollapsed": true,
    "tags": []
   },
   "source": [
    "# Merge annotations with allele frequency outputs"
   ]
  },
  {
   "cell_type": "markdown",
   "id": "1b86f48b-d56f-4092-ba54-49518d311cd6",
   "metadata": {
    "jp-MarkdownHeadingCollapsed": true,
    "tags": []
   },
   "source": [
    "## Merge frequencies for all ancestries across each cohort"
   ]
  },
  {
   "cell_type": "code",
   "execution_count": null,
   "id": "49655d4b-1ce1-4583-9bad-b685fff7ccd4",
   "metadata": {
    "tags": []
   },
   "outputs": [],
   "source": [
    "for cohort in [\"AD\",\"RD\",\"Control\"]:\n",
    "    freq_files = glob.glob(f\"../../mnt/project/wgs_analysis/results/6_frequencies/{cohort}*.afreq\")\n",
    "\n",
    "    df = pd.read_csv(freq_files[0], sep=\"\\t\")\n",
    "    df = df[[\"ID\",\"ALT_FREQS\",\"OBS_CT\"]]\n",
    "\n",
    "    ancestry = freq_files[0].split(\"_\")[-1].split(\".\")[0]\n",
    "    df.rename({\"ALT_FREQS\":f\"ALT_FREQS_{ancestry}_{cohort}\", \"OBS_CT\":f\"OBS_CT_{ancestry}_{cohort}\"}, inplace=True, axis=1)\n",
    "\n",
    "    for i in range(1, len(freq_files)):\n",
    "        df_merge = pd.read_csv(freq_files[i], sep=\"\\t\")\n",
    "        df_merge = df_merge[[\"ID\",\"ALT_FREQS\",\"OBS_CT\"]]\n",
    "\n",
    "        ancestry = freq_files[i].split(\"_\")[-1].split(\".\")[0]\n",
    "        df_merge.rename({\"ALT_FREQS\":f\"ALT_FREQS_{ancestry}_{cohort}\", \"OBS_CT\":f\"OBS_CT_{ancestry}_{cohort}\"}, inplace=True, axis=1)\n",
    "\n",
    "        df = df.merge(df_merge, on=\"ID\")\n",
    "\n",
    "    df.to_csv(f\"{cohort}.csv\", index=False)\n"
   ]
  },
  {
   "cell_type": "markdown",
   "id": "22556c5e-9f4a-4e0f-8b66-0a89064de79d",
   "metadata": {
    "jp-MarkdownHeadingCollapsed": true,
    "tags": []
   },
   "source": [
    "## Convert back to vcf format for external CADD calculation"
   ]
  },
  {
   "cell_type": "code",
   "execution_count": null,
   "id": "c8d5f463-75a0-448c-afbe-b16bd25e0d5c",
   "metadata": {
    "tags": []
   },
   "outputs": [],
   "source": [
    "ids_list = list(pd.read_csv(\"AD.csv\")[\"ID\"])\n",
    "df_for_cadd = pd.DataFrame({\"ID\":ids_list})\n"
   ]
  },
  {
   "cell_type": "code",
   "execution_count": null,
   "id": "e14203bd-f077-49f8-9dcd-a65b6fa27e96",
   "metadata": {
    "tags": []
   },
   "outputs": [],
   "source": [
    "df_for_cadd[[\"#CHROM\",\"POS\",\"REF\",\"ALT\"]] = df_for_cadd[\"ID\"].str.split(':', expand=True)\n",
    "df_for_cadd.drop(\"ID\", axis=1, inplace=True)\n",
    "df_for_cadd.insert(2, 'ID', '.')\n",
    "df_for_cadd.to_csv(\"for_CADD.vcf\", index=False, sep=\"\\t\")\n"
   ]
  },
  {
   "cell_type": "code",
   "execution_count": null,
   "id": "c57626b2-cc92-439d-8823-3c1c8208038b",
   "metadata": {
    "tags": []
   },
   "outputs": [],
   "source": [
    "! gzip -c for_CADD.vcf > for_CADD.vcf.gz\n"
   ]
  },
  {
   "cell_type": "code",
   "execution_count": null,
   "id": "b708a70f-b257-42ba-903a-9fecd5e13f82",
   "metadata": {},
   "outputs": [],
   "source": [
    "\"\"\"\n",
    "------------------------------------------------------------------------------------------------------\n",
    "------------------------------------------------------------------------------------------------------\n",
    "------------------------------------------------------------------------------------------------------\n",
    "---------------- DOWNLOAD OUTPUT FILE AND PASS THROUGH EXTERNAL CADD SCORE CALCULATOR ----------------\n",
    "------------------------------ (https://cadd.gs.washington.edu/upload) -------------------------------\n",
    "--------------------------- RENAME RESULT TO \"CADD.tsv.gz\" AND UPLOAD HERE ---------------------------\n",
    "------------------------------------------------------------------------------------------------------\n",
    "------------------------------------------------------------------------------------------------------\n",
    "------------------------------------------------------------------------------------------------------\n",
    "\"\"\""
   ]
  },
  {
   "cell_type": "code",
   "execution_count": null,
   "id": "8f892214-216e-4dc6-9fcd-f9a19f2a35b4",
   "metadata": {
    "tags": []
   },
   "outputs": [],
   "source": [
    "! gzip -d CADD.tsv.gz\n",
    "! grep -v \"##\" CADD.tsv > CADD_prelim.tsv\n",
    "cadd_df = pd.read_csv(\"CADD_prelim.tsv\", sep=\"\\t\")\n",
    "cadd_df[\"#Chrom\"] = \"chr\" + cadd_df[\"#Chrom\"].astype(str)\n",
    "cadd_df[\"ID\"] = cadd_df[\"#Chrom\"] + \":\" + cadd_df[\"Pos\"].astype(str) + \":\" + cadd_df[\"Ref\"] + \":\" + cadd_df[\"Alt\"]\n",
    "cadd_df = cadd_df[[\"ID\",\"PHRED\"]]\n",
    "cadd_df.rename({\"PHRED\":\"CADD\"}, axis=1, inplace=True)\n",
    "cadd_df.to_csv(\"CADD_final.csv\", index=False)\n"
   ]
  },
  {
   "cell_type": "markdown",
   "id": "ed853ec9-f492-4cae-87ef-afe2414b3d1a",
   "metadata": {
    "jp-MarkdownHeadingCollapsed": true,
    "tags": []
   },
   "source": [
    "## Merge CADD scores, frequency files, and annotations"
   ]
  },
  {
   "cell_type": "code",
   "execution_count": null,
   "id": "bdd57627-5694-4933-9ac5-e18ffe36232e",
   "metadata": {
    "tags": []
   },
   "outputs": [],
   "source": [
    "annot_df = pd.read_csv(f\"../../mnt/project/wgs_analysis/results/5_annotated/annotated.csv\", low_memory=False)\n",
    "annot_df.insert(1, \"ID\", annot_df[[\"Chr\",\"Start\",\"Ref\",\"Alt\"]].astype(str).agg(':'.join, axis=1))\n",
    "filtered_columns = [col for col in annot_df.columns if \"Otherinfo\" not in col]\n",
    "annot_df = annot_df[filtered_columns]\n",
    "\n",
    "ad_freq_df = pd.read_csv(\"AD.csv\")\n",
    "ad_freq_df.drop(columns=\"ID\", inplace=True)\n",
    "rd_freq_df = pd.read_csv(\"RD.csv\")\n",
    "rd_freq_df.drop(columns=\"ID\", inplace=True)\n",
    "control_freq_df = pd.read_csv(\"Control.csv\")\n",
    "display(control_freq_df.head())\n",
    "control_freq_df = control_freq_df.merge(final_zyg, on=\"ID\")\n",
    "display(control_freq_df.head())\n",
    "control_freq_df = control_freq_df.merge(cadd_df, on=\"ID\", how=\"left\")\n",
    "display(control_freq_df.head())\n",
    "control_freq_df.drop(columns=\"ID\", inplace=True)\n",
    "\n",
    "merged_df = pd.concat([annot_df,ad_freq_df], axis=1)\n",
    "merged_df = pd.concat([merged_df,rd_freq_df], axis=1)\n",
    "merged_df = pd.concat([merged_df,control_freq_df], axis=1)\n",
    "\n",
    "merged_df.to_csv(\"merged.csv\", index=False)\n",
    "!dx upload merged.csv --path wgs_analysis/results/8_merged/merged.csv\n"
   ]
  },
  {
   "cell_type": "code",
   "execution_count": null,
   "id": "6656e3a9-b03c-40ee-8614-f85389db8552",
   "metadata": {
    "tags": []
   },
   "outputs": [],
   "source": [
    "gene_info_dict = fetch_gene_info_ensembl(gene_names=gene_names, species='human', genome_version='GRCh38')\n",
    "for gene in gene_info_dict:\n",
    "    print(gene_info_dict[gene])\n"
   ]
  },
  {
   "cell_type": "code",
   "execution_count": null,
   "id": "5bbd5028-da53-4bcb-8cf6-695329b0d622",
   "metadata": {
    "tags": []
   },
   "outputs": [],
   "source": [
    "criteria_list = []\n",
    "for gene in [\"APOE\", \"APP\", \"GBA\", \"GRN\", \"MAPT\", \"PSEN1\", \"PSEN2\", \"SNCA\", \"TREM2\"]:\n",
    "    if gene == \"GBA\":\n",
    "        gene = \"GBA1\"\n",
    "    chrnum = gene_info_dict[gene][\"chromosome\"]\n",
    "    start = gene_info_dict[gene][\"start\"]\n",
    "    end = gene_info_dict[gene][\"end\"]\n",
    "    criteria_list.append((merged_df[\"Chr\"] == chrnum) \n",
    "                         & (merged_df[\"Start\"] > start) \n",
    "                         & (merged_df[\"Start\"] < end)\n",
    "                         & (merged_df[\"Func.refGene\"].isin([\"exonic\", \"splicing\"]))\n",
    "                        )\n",
    "\n",
    "filter_criteria = criteria_list[0]\n",
    "for criterion in criteria_list[1:]:\n",
    "    filter_criteria |= criterion\n",
    "\n",
    "filtered_df = merged_df[filter_criteria]\n",
    "filtered_df = filtered_df[filtered_df[\"Func.refGene\"].isin([\"exonic\", \"splicing\"])]\n",
    "\n",
    "print(filtered_df.shape)\n",
    "display(filtered_df)\n"
   ]
  },
  {
   "cell_type": "code",
   "execution_count": null,
   "id": "05d217ad-2574-4bb6-87b6-b5b7c406cc3c",
   "metadata": {
    "tags": []
   },
   "outputs": [],
   "source": [
    "ancestries = [\"AAC\",\"AFR\",\"AJ\",\"AMR\",\"CAH\",\"CAS\",\"EAS\",\"EUR\",\"FIN\",\"MDE\",\"SAS\"]\n",
    "ctrl_col_names = [f\"ALT_FREQS_{ancestry}_Control\" for ancestry in ancestries if f\"ALT_FREQS_{ancestry}_Control\" in filtered_df.columns.values]\n",
    "ad_col_names = [f\"ALT_FREQS_{ancestry}_AD\" for ancestry in ancestries if f\"ALT_FREQS_{ancestry}_AD\" in filtered_df.columns.values]\n",
    "rd_col_names = [f\"ALT_FREQS_{ancestry}_RD\" for ancestry in ancestries if f\"ALT_FREQS_{ancestry}_RD\" in filtered_df.columns.values]\n",
    "\n",
    "final_filtered_df = filtered_df[(filtered_df[ad_col_names + rd_col_names]>0).any(axis=1)]\n",
    "\n",
    "final_filtered_df[\"Disease\"] = \"\"\n",
    "final_filtered_df[\"Disease\"][(final_filtered_df[ad_col_names]>0).any(axis=1)] = \"AD\"\n",
    "final_filtered_df[\"Disease\"][(final_filtered_df[rd_col_names]>0).any(axis=1)] = \"RD\"\n",
    "final_filtered_df[\"Disease\"][(final_filtered_df[ad_col_names]>0).any(axis=1) & (final_filtered_df[rd_col_names]>0).any(axis=1)] = \"Both\"\n",
    "display(final_filtered_df.head())\n",
    "final_filtered_df.to_csv(\"final_filtered.csv\", index=False)\n"
   ]
  },
  {
   "cell_type": "code",
   "execution_count": null,
   "id": "2b8758d4-5ff3-41d9-a42d-8460c7340c7c",
   "metadata": {
    "tags": []
   },
   "outputs": [],
   "source": [
    "! dx upload final_filtered.csv --path wgs_analysis/results/8_merged/final_filtered.csv\n"
   ]
  },
  {
   "cell_type": "markdown",
   "id": "f00b768e-f877-4f5e-bfbd-89cfac58f27d",
   "metadata": {
    "jp-MarkdownHeadingCollapsed": true,
    "tags": []
   },
   "source": [
    "# Remove variants expressed in controls"
   ]
  },
  {
   "cell_type": "code",
   "execution_count": null,
   "id": "62b093b0-a4e1-4475-9c92-d975b7d0cf35",
   "metadata": {
    "tags": []
   },
   "outputs": [],
   "source": [
    "final_filtered_df = final_filtered_df[(final_filtered_df[\"Control_Heterozygous\"] == 0) & (final_filtered_df[\"Control_Homozygous_Alt\"] == 0)]\n",
    "final_filtered_df.to_csv(\"final_filtered_onlycases.csv\", index=False)\n"
   ]
  },
  {
   "cell_type": "code",
   "execution_count": null,
   "id": "559d41e2-c741-46ff-9360-098bd98f1afd",
   "metadata": {
    "tags": []
   },
   "outputs": [],
   "source": [
    "! dx upload final_filtered_onlycases.csv --path wgs_analysis/results/8_merged/final_filtered_onlycases.csv\n"
   ]
  },
  {
   "cell_type": "markdown",
   "id": "56bbd159-3c9f-420e-bca9-496a13e5f935",
   "metadata": {
    "jp-MarkdownHeadingCollapsed": true,
    "tags": []
   },
   "source": [
    "# APOE Genotyping"
   ]
  },
  {
   "cell_type": "markdown",
   "id": "0f21e371-a148-4206-85de-b7a3fea1c249",
   "metadata": {
    "jp-MarkdownHeadingCollapsed": true,
    "tags": []
   },
   "source": [
    "## Calculate APOE Genotypes"
   ]
  },
  {
   "cell_type": "code",
   "execution_count": null,
   "id": "8d3637d0-b547-477e-b5c0-764c535bb2d0",
   "metadata": {
    "tags": []
   },
   "outputs": [],
   "source": [
    "%%bash\n",
    "\n",
    "for cohort in {\"AD\",\"RD\",\"Control\"};\n",
    "do\n",
    "    for ancestry in {\"AAC\",\"AFR\",\"AJ\",\"AMR\",\"CAH\",\"CAS\",\"EAS\",\"EUR\",\"FIN\",\"MDE\",\"SAS\"};\n",
    "    do\n",
    "        dx run swiss-army-knife \\\n",
    "        -iin=\"/wgs_analysis/results/4_normalized/normalized.vcf\" \\\n",
    "        -iin=\"/wgs_analysis/data/ID_Files/${cohort}_${ancestry}.txt\" \\\n",
    "        -icmd=\"plink2 --vcf normalized.vcf --chr 19 --from-bp 44905791 --to-bp 44909393 --keep ${cohort}_${ancestry}.txt --set-all-var-ids 'chr@:#:\\$r:\\$a' --new-id-max-allele-len 999 --make-bed --out ${cohort}_${ancestry}\" \\\n",
    "        --instance-type mem1_hdd1_v2_x16 \\\n",
    "        --destination \"${projectid}:/wgs_analysis/results/9_apoe_genotyping\"\n",
    "    done\n",
    "done\n"
   ]
  },
  {
   "cell_type": "code",
   "execution_count": null,
   "id": "49b83674-c4ed-42b2-9933-b9d13c4eec24",
   "metadata": {},
   "outputs": [],
   "source": [
    "\"\"\"\n",
    "------------------------------------------------------------------------------------------------------\n",
    "------------------------------------------------------------------------------------------------------\n",
    "------------------------------------------------------------------------------------------------------\n",
    "------------------------------ PAUSE HERE UNTIL PREVIOUS STEP COMPLETES ------------------------------\n",
    "------------------------------------------------------------------------------------------------------\n",
    "------------------------------------------------------------------------------------------------------\n",
    "------------------------------------------------------------------------------------------------------\n",
    "\"\"\""
   ]
  },
  {
   "cell_type": "code",
   "execution_count": null,
   "id": "cfc3c8c9-85a0-4f4c-a3bb-8a878954e0e4",
   "metadata": {
    "tags": []
   },
   "outputs": [],
   "source": [
    "%%bash\n",
    "\n",
    "for cohort in {\"AD\",\"RD\",\"Control\"};\n",
    "do\n",
    "    for ancestry in {\"AAC\",\"AFR\",\"AJ\",\"AMR\",\"CAH\",\"CAS\",\"EAS\",\"EUR\",\"FIN\",\"MDE\",\"SAS\"};\n",
    "    do\n",
    "        dx run swiss-army-knife \\\n",
    "        -iin=\"/wgs_analysis/results/9_apoe_genotyping/${cohort}_${ancestry}.bim\" \\\n",
    "        -iin=\"/wgs_analysis/results/9_apoe_genotyping/${cohort}_${ancestry}.bed\" \\\n",
    "        -iin=\"/wgs_analysis/results/9_apoe_genotyping/${cohort}_${ancestry}.fam\" \\\n",
    "        -iin=\"/wgs_analysis/data/apoe_variants.txt\" \\\n",
    "        -icmd=\"plink --bfile ${cohort}_${ancestry} --extract apoe_variants.txt --make-bed --out apoe_snps_${cohort}_${ancestry}\" \\\n",
    "        --instance-type mem1_hdd1_v2_x16 \\\n",
    "        --destination \"${projectid}:/wgs_analysis/results/9_apoe_genotyping\"\n",
    "    done\n",
    "done\n"
   ]
  },
  {
   "cell_type": "code",
   "execution_count": null,
   "id": "aaf00eea-554a-4147-970e-c40f0f544d80",
   "metadata": {},
   "outputs": [],
   "source": [
    "\"\"\"\n",
    "------------------------------------------------------------------------------------------------------\n",
    "------------------------------------------------------------------------------------------------------\n",
    "------------------------------------------------------------------------------------------------------\n",
    "------------------------------ PAUSE HERE UNTIL PREVIOUS STEP COMPLETES ------------------------------\n",
    "------------------------------------------------------------------------------------------------------\n",
    "------------------------------------------------------------------------------------------------------\n",
    "------------------------------------------------------------------------------------------------------\n",
    "\"\"\""
   ]
  },
  {
   "cell_type": "code",
   "execution_count": null,
   "id": "6848833d-e61d-4ba9-81ca-a44da9c3539a",
   "metadata": {
    "tags": []
   },
   "outputs": [],
   "source": [
    "%%bash\n",
    "\n",
    "for cohort in {\"AD\",\"RD\",\"Control\"};\n",
    "do\n",
    "    for ancestry in {\"AAC\",\"AFR\",\"AJ\",\"AMR\",\"CAH\",\"CAS\",\"EAS\",\"EUR\",\"FIN\",\"MDE\",\"SAS\"};\n",
    "    do\n",
    "        dx run swiss-army-knife \\\n",
    "        -iin=\"/wgs_analysis/results/9_apoe_genotyping/apoe_snps_${cohort}_${ancestry}.bim\" \\\n",
    "        -iin=\"/wgs_analysis/results/9_apoe_genotyping/apoe_snps_${cohort}_${ancestry}.bed\" \\\n",
    "        -iin=\"/wgs_analysis/results/9_apoe_genotyping/apoe_snps_${cohort}_${ancestry}.fam\" \\\n",
    "        -iin=\"/wgs_analysis/data/apoe_variants.txt\" \\\n",
    "        -icmd=\"plink --bfile apoe_snps_${cohort}_${ancestry} --recode compound-genotypes --out apoe_snps_${cohort}_${ancestry}\" \\\n",
    "        --instance-type mem1_hdd1_v2_x16 \\\n",
    "        --destination \"${projectid}:/wgs_analysis/results/9_apoe_genotyping\"\n",
    "    done\n",
    "done\n"
   ]
  },
  {
   "cell_type": "code",
   "execution_count": null,
   "id": "7f0521bc-98ac-4cc7-839b-b8d1c0de3fe1",
   "metadata": {},
   "outputs": [],
   "source": [
    "\"\"\"\n",
    "------------------------------------------------------------------------------------------------------\n",
    "------------------------------------------------------------------------------------------------------\n",
    "------------------------------------------------------------------------------------------------------\n",
    "------------------------------ PAUSE HERE UNTIL PREVIOUS STEP COMPLETES ------------------------------\n",
    "------------------------------------------------------------------------------------------------------\n",
    "------------------------------------------------------------------------------------------------------\n",
    "------------------------------------------------------------------------------------------------------\n",
    "\"\"\""
   ]
  },
  {
   "cell_type": "code",
   "execution_count": null,
   "id": "bda6222a-b673-474c-8958-da4d667cd2ba",
   "metadata": {
    "tags": []
   },
   "outputs": [],
   "source": [
    "! dx download wgs_analysis/data/APOE_genotypes_PLINK_ped.py\n",
    "for cohort in [\"AD\",\"RD\",\"Control\"]:\n",
    "    for ancestry in [\"AAC\",\"AFR\",\"AJ\",\"AMR\",\"CAH\",\"CAS\",\"EAS\",\"EUR\",\"FIN\",\"MDE\",\"SAS\"]:\n",
    "        ! dx download wgs_analysis/results/9_apoe_genotyping/apoe_snps_{cohort}_{ancestry}.ped\n",
    "        "
   ]
  },
  {
   "cell_type": "code",
   "execution_count": null,
   "id": "96a6cd4c-70bd-47d3-a0bc-6c7650825415",
   "metadata": {
    "tags": []
   },
   "outputs": [],
   "source": [
    "for cohort in [\"AD\",\"RD\",\"Control\"]:\n",
    "    for ancestry in [\"AAC\",\"AFR\",\"AJ\",\"AMR\",\"CAH\",\"CAS\",\"EAS\",\"EUR\",\"FIN\",\"MDE\",\"SAS\"]:\n",
    "        if os.path.exists(f\"apoe_snps_{cohort}_{ancestry}.ped\"):\n",
    "            ! python APOE_genotypes_PLINK_ped.py -i apoe_snps_{cohort}_{ancestry}.ped -o apoe_final_{cohort}_{ancestry}\n",
    "            ! dx upload apoe_final_{cohort}_{ancestry}.APOE_GENOTYPES.csv --path wgs_analysis/results/9_apoe_genotyping/apoe_final_{cohort}_{ancestry}.APOE_GENOTYPES.csv\n",
    "        "
   ]
  },
  {
   "cell_type": "markdown",
   "id": "6cafc9f2-94d8-4dc4-a69b-39e1ec05d2e9",
   "metadata": {
    "jp-MarkdownHeadingCollapsed": true,
    "tags": []
   },
   "source": [
    "## Combine these results into a table"
   ]
  },
  {
   "cell_type": "code",
   "execution_count": null,
   "id": "c3d13a32-b0d6-4832-8027-a0caa35d945f",
   "metadata": {
    "tags": []
   },
   "outputs": [],
   "source": [
    "for cohort in [\"AD\",\"RD\",\"Control\"]:\n",
    "    cohort_counts = []\n",
    "    included_ancestries = []\n",
    "    for ancestry in [\"AAC\",\"AFR\",\"AJ\",\"AMR\",\"CAH\",\"CAS\",\"EAS\",\"EUR\",\"FIN\",\"MDE\",\"SAS\"]:\n",
    "        if os.path.exists(f\"apoe_final_{cohort}_{ancestry}.APOE_GENOTYPES.csv\"):\n",
    "            apoe_geno = pd.read_csv(f\"apoe_final_{cohort}_{ancestry}.APOE_GENOTYPES.csv\")\n",
    "            counts = apoe_geno['APOE_GENOTYPE'].value_counts()\n",
    "            counts = counts.reindex([\"e1/e1\", \"e1/e2\", \"e1/e4\", \"e2/e2\", \"e2/e3\", \"e2/e4 or e1/e3\", \"e3/e3\", \"e3/e4\", \"e4/e4\"], fill_value=0)\n",
    "            counts = counts.rename(ancestry)\n",
    "            counts = pd.concat([counts, pd.Series([counts.sum()], index=['total'])])\n",
    "            cohort_counts.append(counts)\n",
    "            included_ancestries.append(ancestry)\n",
    "    cohort_counts = pd.concat(cohort_counts, axis=1)\n",
    "    cohort_counts.columns = included_ancestries\n",
    "    display(cohort_counts)\n",
    "    cohort_percentages = cohort_counts.div(cohort_counts.loc[\"total\"], axis=1) * 100\n",
    "    cohort_percentages.loc[\"total\"] = cohort_counts.loc[\"total\"]\n",
    "    display(cohort_percentages)\n",
    "    cohort_combined = cohort_counts.applymap(str) + ' (' + cohort_percentages.applymap(lambda x: f'{x:.2f}%') + ')'\n",
    "    cohort_combined.loc[\"total\"] = cohort_counts.loc[\"total\"]\n",
    "    display(cohort_combined)\n",
    "    cohort_counts.to_csv(f\"{cohort}_apoe_genotype_counts.csv\")\n",
    "    cohort_percentages.to_csv(f\"{cohort}_apoe_genotype_percentages.csv\")\n",
    "    cohort_combined.to_csv(f\"{cohort}_apoe_genotype_combined.csv\")\n",
    "    ! dx upload {cohort}_apoe_genotype_counts.csv --path wgs_analysis/results/9_apoe_genotyping/{cohort}_apoe_genotype_counts.csv\n",
    "    ! dx upload {cohort}_apoe_genotype_percentages.csv --path wgs_analysis/results/9_apoe_genotyping/{cohort}_apoe_genotype_percentages.csv\n",
    "    ! dx upload {cohort}_apoe_genotype_combined.csv --path wgs_analysis/results/9_apoe_genotyping/{cohort}_apoe_genotype_combined.csv\n",
    "    "
   ]
  },
  {
   "cell_type": "markdown",
   "id": "5cd28104-ad75-4628-aca0-dc5794c3e262",
   "metadata": {
    "jp-MarkdownHeadingCollapsed": true,
    "tags": []
   },
   "source": [
    "# Find number of controls in pathogenic variants"
   ]
  },
  {
   "cell_type": "code",
   "execution_count": null,
   "id": "be45b744-0cbe-4d73-8678-dac9fd79ce87",
   "metadata": {
    "tags": []
   },
   "outputs": [],
   "source": [
    "! dx download wgs_analysis/results/7_zygosity/counts_Control_AAC.tsv\n",
    "! dx download wgs_analysis/results/7_zygosity/counts_Control_AFR.tsv\n",
    "! dx download wgs_analysis/results/7_zygosity/counts_Control_AJ.tsv\n",
    "! dx download wgs_analysis/results/7_zygosity/counts_Control_AMR.tsv\n",
    "! dx download wgs_analysis/results/7_zygosity/counts_Control_CAH.tsv\n",
    "! dx download wgs_analysis/results/7_zygosity/counts_Control_CAS.tsv\n",
    "! dx download wgs_analysis/results/7_zygosity/counts_Control_EAS.tsv\n",
    "! dx download wgs_analysis/results/7_zygosity/counts_Control_EUR.tsv\n",
    "! dx download wgs_analysis/results/7_zygosity/counts_Control_FIN.tsv\n",
    "! dx download wgs_analysis/results/7_zygosity/counts_Control_MDE.tsv\n",
    "! dx download wgs_analysis/results/7_zygosity/counts_Control_SAS.tsv\n"
   ]
  },
  {
   "cell_type": "code",
   "execution_count": null,
   "id": "2aa98ca7-d2e1-4c8b-ad2d-96fce6e078b5",
   "metadata": {
    "tags": []
   },
   "outputs": [],
   "source": [
    "control_zyg = []\n",
    "for ancestry in [\"AAC\",\"AFR\",\"AJ\",\"AMR\",\"CAH\",\"CAS\",\"EAS\",\"EUR\",\"FIN\",\"MDE\",\"SAS\"]:\n",
    "    df = pd.read_csv(f\"counts_Control_{ancestry}.tsv\", sep=\"\\t\")\n",
    "    variant_ids = df.columns.values\n",
    "    rename_dict = {}\n",
    "    for vid in variant_ids:\n",
    "        rename_dict[vid] = vid.split(\"_\")[0]\n",
    "    df.rename(rename_dict, axis=1, inplace=True)\n",
    "    df = df.T\n",
    "    df = df.reset_index()\n",
    "    df.rename(columns={'index': 'ID', 0: f'{ancestry}_Homozygous_Ref', 1: f'{ancestry}_Heterozygous', 2: f'{ancestry}_Homozygous_Alt'}, inplace=True)\n",
    "    df[ancestry] = df[f'{ancestry}_Heterozygous'] + df[f'{ancestry}_Homozygous_Alt']\n",
    "    df = df[[\"ID\",ancestry]]\n",
    "    control_zyg.append(df)\n"
   ]
  },
  {
   "cell_type": "code",
   "execution_count": null,
   "id": "7c1de2ef-5e1e-44c7-87d5-d40746b79d22",
   "metadata": {
    "tags": []
   },
   "outputs": [],
   "source": [
    "control_zyg_merged = reduce(lambda left, right: pd.merge(left, right, on=\"ID\"), control_zyg)\n"
   ]
  },
  {
   "cell_type": "code",
   "execution_count": null,
   "id": "2f91eddb-2eda-4f8e-9356-63b73964b7fc",
   "metadata": {
    "tags": []
   },
   "outputs": [],
   "source": [
    "pathogenic_vars = [\n",
    "    \"chr1:155235196\",\n",
    "    \"chr1:155235217\",\n",
    "    \"chr1:155235252\",\n",
    "    \"chr1:155235727\",\n",
    "    \"chr1:155235790\",\n",
    "    \"chr1:155235823\",\n",
    "    \"chr1:155235843\",\n",
    "    \"chr1:155236277\",\n",
    "    \"chr1:155237453\",\n",
    "    \"chr1:155238174\",\n",
    "    \"chr1:155238214\",\n",
    "    \"chr1:155238215\",\n",
    "    \"chr1:155238260\",\n",
    "    \"chr1:155238630\",\n",
    "    \"chr1:155240629\",\n",
    "    \"chr17:44350262\",\n",
    "    \"chr17:44350800\",\n",
    "    \"chr17:44351409\",\n",
    "    \"chr4:89828156\",\n",
    "]\n"
   ]
  },
  {
   "cell_type": "code",
   "execution_count": null,
   "id": "4e462420-1774-43e3-a3b2-5432ade106ea",
   "metadata": {
    "tags": []
   },
   "outputs": [],
   "source": [
    "filtered_control_var_counts = control_zyg_merged[control_zyg_merged['ID'].str.startswith(tuple(pathogenic_vars))]\n",
    "filtered_control_var_counts.to_csv(\"filtered_control_var_counts.csv\", index=False)\n"
   ]
  },
  {
   "cell_type": "code",
   "execution_count": null,
   "id": "f82d41a5-c3e1-4c6b-859e-beab33f7a351",
   "metadata": {
    "tags": []
   },
   "outputs": [],
   "source": [
    "! dx upload filtered_control_var_counts.csv --path wgs_analysis/results/10_pathogenic_variants/filtered_control_var_counts.csv\n"
   ]
  },
  {
   "cell_type": "markdown",
   "id": "10edb5f8-45c3-4232-9bdc-fcb80ec988b5",
   "metadata": {
    "jp-MarkdownHeadingCollapsed": true,
    "tags": []
   },
   "source": [
    "# Resilience/protective variants"
   ]
  },
  {
   "cell_type": "code",
   "execution_count": null,
   "id": "e82d0d96-17fd-459e-b68d-7dc683c9b7a9",
   "metadata": {
    "tags": []
   },
   "outputs": [],
   "source": [
    "! dx download wgs_analysis/results/8_merged/final_filtered_onlycases.csv\n",
    "! dx download wgs_analysis/results/8_merged/merged.csv\n",
    "! dx download wgs_analysis/data/protein_var_map.csv --overwrite\n"
   ]
  },
  {
   "cell_type": "code",
   "execution_count": null,
   "id": "ac64aa7f-d33f-4fbd-a2e7-71d52cb90c76",
   "metadata": {
    "tags": []
   },
   "outputs": [],
   "source": [
    "filtered_var_counts = pd.read_csv(\"final_filtered_onlycases.csv\")\n",
    "filtered_var_counts = filtered_var_counts[filtered_var_counts[\"CADD\"] >= 20]\n",
    "filtered_var_ids = list(filtered_var_counts[\"ID\"])\n"
   ]
  },
  {
   "cell_type": "code",
   "execution_count": null,
   "id": "e6fde9c5-37d4-461a-a196-23b3f0e66dcb",
   "metadata": {
    "tags": []
   },
   "outputs": [],
   "source": [
    "! dx download wgs_analysis/results/6_frequencies/Control_EUR.afreq --overwrite\n",
    "df_freq = pd.read_csv(\"Control_EUR.afreq\", sep=\"\\t\")\n",
    "df_merged = pd.read_csv(\"merged.csv\")\n",
    "df_merged.insert(2, \"VCF_ID\", list(df_freq[\"ID\"]))\n"
   ]
  },
  {
   "cell_type": "code",
   "execution_count": null,
   "id": "aa3aec76-607c-47ae-a3d9-cda240ad2a0f",
   "metadata": {
    "tags": []
   },
   "outputs": [],
   "source": [
    "df_merged_filtered = df_merged[df_merged[\"ID\"].isin(filtered_var_ids)]\n",
    "filtered_vcf_ids = list(df_merged_filtered[\"VCF_ID\"])\n"
   ]
  },
  {
   "cell_type": "code",
   "execution_count": null,
   "id": "a62c7e40-6950-49f4-a40b-4af649672975",
   "metadata": {
    "tags": []
   },
   "outputs": [],
   "source": [
    "file_path = 'variants_to_keep.txt'\n",
    "with open(file_path, 'w') as file:\n",
    "    for variant_id in filtered_vcf_ids:\n",
    "        file.write(f\"{variant_id}\\n\")\n",
    "! dx upload variants_to_keep.txt --path wgs_analysis/results/11_phenotypic_data/variant_ids.txt\n",
    "        "
   ]
  },
  {
   "cell_type": "code",
   "execution_count": null,
   "id": "bb1683e5-9f5b-431d-950e-6f8f0b663d20",
   "metadata": {
    "tags": []
   },
   "outputs": [],
   "source": [
    "%%bash\n",
    "\n",
    "dx run swiss-army-knife \\\n",
    "-iin=\"/wgs_analysis/results/4_normalized/normalized.vcf\" \\\n",
    "-iin=\"/wgs_analysis/results/11_phenotypic_data/variant_ids.txt\" \\\n",
    "-icmd=\"plink2 --vcf normalized.vcf --set-all-var-ids 'chr@:#:\\$r:\\$a' --new-id-max-allele-len 999 --extract variant_ids.txt --freq --out full_cohort\" \\\n",
    "--instance-type mem1_hdd1_v2_x16 \\\n",
    "--destination \"${projectid}:/wgs_analysis/results/11_phenotypic_data\"\n"
   ]
  },
  {
   "cell_type": "code",
   "execution_count": null,
   "id": "9271aad0-ad50-409a-a3fb-f5bbae3b45ec",
   "metadata": {
    "tags": []
   },
   "outputs": [],
   "source": [
    "%%bash \n",
    "\n",
    "dx run swiss-army-knife \\\n",
    "-iin=\"/wgs_analysis/results/4_normalized/normalized.vcf\" \\\n",
    "-iin=\"/wgs_analysis/results/11_phenotypic_data/full_cohort.afreq\" \\\n",
    "-iin=\"/wgs_analysis/results/11_phenotypic_data/variant_ids.txt\" \\\n",
    "-icmd=\"plink2 --vcf normalized.vcf --set-all-var-ids 'chr@:#:\\$r:\\$a' --new-id-max-allele-len 999 --extract variant_ids.txt --read-freq full_cohort.afreq --export A --het --out full_cohort\" \\\n",
    "--instance-type mem1_hdd1_v2_x16 \\\n",
    "--destination \"${projectid}:/wgs_analysis/results/11_phenotypic_data\"\n"
   ]
  },
  {
   "cell_type": "code",
   "execution_count": null,
   "id": "534c3f94-5225-429b-bf2a-8226268ab15a",
   "metadata": {
    "tags": []
   },
   "outputs": [],
   "source": [
    "! dx download wgs_analysis/results/11_phenotypic_data/full_cohort.raw --overwrite\n"
   ]
  },
  {
   "cell_type": "code",
   "execution_count": null,
   "id": "d594e248-a96a-44cc-9b1a-a335f510e603",
   "metadata": {
    "tags": []
   },
   "outputs": [],
   "source": [
    "df_raw = pd.read_csv(\"full_cohort.raw\", sep=\"\\t\")\n",
    "variant_ids = df_raw.columns.values\n",
    "rename_dict = {}\n",
    "for vid in variant_ids:\n",
    "    rename_dict[vid] = vid.split(\"_\")[0]\n",
    "df_raw.rename(rename_dict, axis=1, inplace=True)\n",
    "df_raw.drop(columns=[\"FID\",\"PAT\",\"MAT\",\"SEX\",\"PHENOTYPE\"], inplace=True)\n",
    "df_raw.fillna(2, inplace=True)\n"
   ]
  },
  {
   "cell_type": "code",
   "execution_count": null,
   "id": "fb3902bd-b11a-4ff9-9a56-47e9aa5650b0",
   "metadata": {
    "tags": []
   },
   "outputs": [],
   "source": [
    "list_vars = []\n",
    "list_vars_chrpos = []\n",
    "list_ids = []\n",
    "for variant in df_raw.columns[1:]:\n",
    "    var_ids = df_raw[df_raw[variant] != 2]['IID'].tolist()\n",
    "    for iid in var_ids:\n",
    "        list_vars.append(variant)\n",
    "        var_chrpos = \":\".join(variant.split(\":\")[:2])\n",
    "        list_vars_chrpos.append(var_chrpos)\n",
    "        list_ids.append(iid)\n",
    "    \n",
    "#id_var_mapper = {}    \n",
    "#for index, row in df_raw.iterrows():\n",
    "#    iid = int(row['IID'])\n",
    "#    \n",
    "#    list_vars = [col for col in df_raw.columns[1:] if row[col] != 2]\n",
    "#    if len(list_vars) > 0:\n",
    "#        id_var_mapper[iid] = list_vars\n",
    "#    "
   ]
  },
  {
   "cell_type": "code",
   "execution_count": null,
   "id": "a3126f57-477e-43d0-b22e-fdcdd3dfc526",
   "metadata": {
    "tags": []
   },
   "outputs": [],
   "source": [
    "df_pheno = pd.DataFrame({\n",
    "    \"Variant_ID_Full\":list_vars,\n",
    "    \"Variant_ID\":list_vars_chrpos,\n",
    "    \"Participant_ID\":list_ids,\n",
    "})\n"
   ]
  },
  {
   "cell_type": "code",
   "execution_count": null,
   "id": "c05b1a9e-b587-4443-b4f7-35b6cf4c32be",
   "metadata": {
    "tags": []
   },
   "outputs": [],
   "source": [
    "protein_var_map = pd.read_csv(\"protein_var_map.csv\")\n",
    "df_pheno = df_pheno.merge(protein_var_map, on=\"Variant_ID\", how=\"left\")\n"
   ]
  },
  {
   "cell_type": "code",
   "execution_count": null,
   "id": "b11a30d3-4ff4-4995-834d-d464831a6eaf",
   "metadata": {
    "tags": []
   },
   "outputs": [],
   "source": [
    "display(df_pheno)"
   ]
  },
  {
   "cell_type": "code",
   "execution_count": null,
   "id": "a3df2b53-b78d-4628-a821-a0aab67cb301",
   "metadata": {
    "tags": []
   },
   "outputs": [],
   "source": [
    "! dx download wgs_analysis/results/AD_cases.csv\n",
    "! dx download wgs_analysis/results/RD_cases.csv\n"
   ]
  },
  {
   "cell_type": "code",
   "execution_count": null,
   "id": "5d58abf3-e3e2-4049-9b32-535ae8a58637",
   "metadata": {
    "tags": []
   },
   "outputs": [],
   "source": [
    "df_ad = pd.read_csv(\"AD_cases.csv\")\n",
    "df_rd = pd.read_csv(\"RD_cases.csv\")\n",
    "\n",
    "df_ad.rename({\"AD_DATE\":\"DATE_OF_ONSET\", \"label\":\"ANCESTRY\", \"ID\":\"Participant_ID\"}, inplace=True, axis=1)\n",
    "df_rd.rename({\"DEM_DATE\":\"DATE_OF_ONSET\", \"label\":\"ANCESTRY\", \"ID\":\"Participant_ID\"}, inplace=True, axis=1)\n",
    "\n",
    "df_dem = pd.concat([df_ad, df_rd], axis=0)\n",
    "df_dem.reset_index(inplace=True, drop=True)\n"
   ]
  },
  {
   "cell_type": "code",
   "execution_count": null,
   "id": "dd313b85-d5a0-4da8-b670-1896372d0c4f",
   "metadata": {
    "tags": []
   },
   "outputs": [],
   "source": [
    "df_dem[\"AGE_AT_ONSET\"] = (pd.to_datetime(df_dem['DATE_OF_ONSET']) - pd.to_datetime(df_dem[\"BIRTH_YEAR\"], format='%Y')).dt.days // 365.242374\n",
    "df_dem[\"DAYS_SINCE_ONSET\"] = (pd.to_datetime(df_dem['DATE_OF_DEATH'].fillna(datetime.today().strftime('%Y-%m-%d'))) - pd.to_datetime(df_dem['DATE_OF_ONSET'])).dt.days\n",
    "df_dem[\"AGE\"] = (pd.to_datetime(df_dem['DATE_OF_DEATH'].fillna(datetime.today().strftime('%Y-%m-%d'))) - pd.to_datetime(df_dem['BIRTH_YEAR'], format='%Y')).dt.days // 365.242374\n"
   ]
  },
  {
   "cell_type": "code",
   "execution_count": null,
   "id": "84fb9cca-c1f6-443c-a7d2-7930848a2a18",
   "metadata": {
    "tags": []
   },
   "outputs": [],
   "source": [
    "print(df_pheno.shape)\n",
    "\n",
    "df_pheno_1 = df_pheno.merge(df_dem[[\n",
    "    \"Participant_ID\",\"GENETIC_SEX\",\"AGE\",\"DATE_OF_ONSET\",\"DATE_OF_DEATH\",\"AGE_AT_ONSET\",\n",
    "    \"DAYS_SINCE_ONSET\",\"ANCESTRY\",\"COGNITIVE_SYMPTOMS_SEVERITY_PAST_WEEK\", \n",
    "    \"SPECIFIC_COGNITIVE_ABILITY_2014\",\"SPECIFIC_COGNITIVE_ABILITY_2019\", \n",
    "    \"TOUCHSCREEN_COGNITIVE_DURATION_2014\",\"TOUCHSCREEN_COGNITIVE_DURATION_2019\", \n",
    "    \"COGNITIVE_TEST_WILLINGNESS\",\"COGNITIVE_TEST_WILLINGNESS\", \"COGNITIVE_TEST_WILLINGNESS\",\n",
    "]], on=\"Participant_ID\", how=\"inner\")\n"
   ]
  },
  {
   "cell_type": "code",
   "execution_count": null,
   "id": "14846d1c-3e15-4ea7-81a7-17370c6e1a2c",
   "metadata": {
    "tags": []
   },
   "outputs": [],
   "source": [
    "display(df_pheno_1)\n",
    "df_pheno_1.to_csv(\"pheno.csv\")\n"
   ]
  },
  {
   "cell_type": "markdown",
   "id": "a3b8ffe0-08a0-4e4d-9c65-cfd381f45772",
   "metadata": {
    "jp-MarkdownHeadingCollapsed": true,
    "tags": []
   },
   "source": [
    "## Find variants expressed by anyone in the dataset"
   ]
  },
  {
   "cell_type": "code",
   "execution_count": null,
   "id": "7946f075-a0bd-4eb5-815f-fb7f5c4ee362",
   "metadata": {},
   "outputs": [],
   "source": [
    "%%bash\n",
    "\n",
    "for cohort in {\"AD\",\"RD\",\"Control\"};\n",
    "do\n",
    "    for ancestry in {\"AAC\",\"AFR\",\"AJ\",\"AMR\",\"CAH\",\"CAS\",\"EAS\",\"EUR\",\"FIN\",\"MDE\",\"SAS\"};\n",
    "    do\n",
    "        dx run swiss-army-knife \\\n",
    "        -iin=\"/wgs_analysis/data/protective_variants.txt\" \\\n",
    "        -iin=\"/wgs_analysis/results/4_normalized/normalized.vcf\" \\\n",
    "        -iin=\"/wgs_analysis/data/ID_Files/${cohort}_${ancestry}.txt\" \\\n",
    "        -iin=\"/wgs_analysis/results/6_frequencies/${cohort}_${ancestry}.afreq\" \\\n",
    "        -icmd=\"plink2 --vcf normalized.vcf --set-all-var-ids 'chr@:#:\\$r:\\$a' --new-id-max-allele-len 999 --extract protective_variants.txt --keep ${cohort}_${ancestry}.txt --read-freq ${cohort}_${ancestry}.afreq --export A --het --out ${cohort}_${ancestry}\" \\\n",
    "        --instance-type mem1_hdd1_v2_x16 \\\n",
    "        --destination \"${projectid}:/wgs_analysis/results/12_protective_variants\"\n",
    "    done\n",
    "done\n"
   ]
  },
  {
   "cell_type": "code",
   "execution_count": null,
   "id": "3874c516-e4da-4aa0-b3eb-736241bd74a6",
   "metadata": {
    "tags": []
   },
   "outputs": [],
   "source": [
    "cohort = \"AD\"\n",
    "ancestry = \"AAC\"\n",
    "! dx download wgs_analysis/results/12_protective_variants/{cohort}_{ancestry}.raw --overwrite\n",
    "df = pd.read_csv(f\"{cohort}_{ancestry}.raw\", sep=\"\\t\")\n",
    "df.drop([\"FID\",\"PAT\",\"MAT\",\"SEX\",\"PHENOTYPE\"], axis=1, inplace=True)\n",
    "df.columns = df.columns.str.split('_').str[0]\n",
    "for var_id in df.columns[1:]:\n",
    "    participant_ids = list(df[\"IID\"][df[var_id] < 2])\n",
    "    if len(participant_ids) > 0:\n",
    "        with open(f\"{cohort}_{ancestry}.txt\", \"w\") as file:\n",
    "            for item in participant_ids:\n",
    "                file.write(f\"{item}\\n\")\n",
    "        ! dx upload {cohort}_{ancestry}.txt --path wgs_analysis/results/12_protective_variants/{var_id.replace(\":\",\"_\")}/{cohort}_{ancestry}.txt\n",
    "display(df)\n"
   ]
  },
  {
   "cell_type": "code",
   "execution_count": null,
   "id": "b24655cb-3a70-42ce-8910-52e21f00f221",
   "metadata": {
    "tags": []
   },
   "outputs": [],
   "source": [
    "for cohort in [\"AD\",\"RD\",\"Control\"]:\n",
    "    for ancestry in [\"AAC\",\"AFR\",\"AJ\",\"AMR\",\"CAH\",\"CAS\",\"EAS\",\"EUR\",\"FIN\",\"MDE\",\"SAS\"]:\n",
    "        ! dx download wgs_analysis/results/12_protective_variants/{cohort}_{ancestry}.raw --overwrite\n",
    "        if os.path.exists(f\"{cohort}_{ancestry}.raw\"):\n",
    "            df = pd.read_csv(f\"{cohort}_{ancestry}.raw\", sep=\"\\t\")\n",
    "            df.drop([\"FID\",\"PAT\",\"MAT\",\"SEX\",\"PHENOTYPE\"], axis=1, inplace=True)\n",
    "            df.columns = df.columns.str.split('_').str[0]\n",
    "            for var_id in df.columns[1:]:\n",
    "                participant_ids = list(df[\"IID\"][df[var_id] < 2])\n",
    "                if len(participant_ids) > 0:\n",
    "                    with open(f\"{cohort}_{ancestry}.txt\", \"w\") as file:\n",
    "                        for item in participant_ids:\n",
    "                            file.write(f\"{item}\\n\")\n",
    "                    ! dx upload {cohort}_{ancestry}.txt --path wgs_analysis/results/12_protective_variants/{var_id.replace(\":\",\"_\")}/{cohort}_{ancestry}.txt\n"
   ]
  },
  {
   "cell_type": "markdown",
   "id": "61fede82-8e3c-4766-9ae0-a734eb0e576c",
   "metadata": {},
   "source": [
    "## APOE genotyping for each variant"
   ]
  },
  {
   "cell_type": "code",
   "execution_count": null,
   "id": "36582ee0-99b0-4acc-b538-efdb1fa4c73b",
   "metadata": {
    "tags": []
   },
   "outputs": [],
   "source": [
    "%%bash\n",
    "\n",
    "#for var_id in {\"chr19_44892887_C_T\",\"chr19_44905307_A_T\",\"chr19_44908756_C_A\",\"chr21_25897620_C_T\",\"chr21_26171645_A_G\",\"chr21_26171723_T_C\"};\n",
    "for var_id in {\"chr19_44905307_A_T\",\"chr19_44908756_C_A\",\"chr21_25897620_C_T\",\"chr21_26171645_A_G\",\"chr21_26171723_T_C\"};\n",
    "do\n",
    "    files=($(ls ../../mnt/project/wgs_analysis/results/12_protective_variants/${var_id}/*.txt 2>/dev/null))\n",
    "    \n",
    "    for file in \"${files[@]}\";\n",
    "    do\n",
    "        filename=$(basename \"$file\" .txt)\n",
    "        \n",
    "        dx run swiss-army-knife \\\n",
    "            -iin=\"/wgs_analysis/results/4_normalized/normalized.vcf\" \\\n",
    "            -iin=\"/wgs_analysis/results/12_protective_variants/${var_id}/${filename}.txt\" \\\n",
    "            -icmd=\"plink2 --vcf normalized.vcf --chr 19 --from-bp 44905791 --to-bp 44909393 --keep ${filename}.txt --set-all-var-ids 'chr@:#:\\$r:\\$a' --new-id-max-allele-len 999 --make-bed --out ${filename}\" \\\n",
    "            --instance-type mem1_hdd1_v2_x16 \\\n",
    "            --destination \"${projectid}:/wgs_analysis/results/12_protective_variants/${var_id}\"\n",
    "    done\n",
    "done\n"
   ]
  },
  {
   "cell_type": "code",
   "execution_count": null,
   "id": "ace204bf-1d49-4363-852a-d45e1003a72a",
   "metadata": {
    "tags": []
   },
   "outputs": [],
   "source": [
    "\"\"\"\n",
    "------------------------------------------------------------------------------------------------------\n",
    "------------------------------------------------------------------------------------------------------\n",
    "------------------------------------------------------------------------------------------------------\n",
    "------------------------------ PAUSE HERE UNTIL PREVIOUS STEP COMPLETES ------------------------------\n",
    "------------------------------------------------------------------------------------------------------\n",
    "------------------------------------------------------------------------------------------------------\n",
    "------------------------------------------------------------------------------------------------------\n",
    "\"\"\""
   ]
  },
  {
   "cell_type": "code",
   "execution_count": null,
   "id": "e1598296-13b8-4fc3-9d61-1220a97f13e5",
   "metadata": {
    "tags": []
   },
   "outputs": [],
   "source": [
    "%%bash\n",
    "\n",
    "for var_id in {\"chr19_44892887_C_T\",\"chr19_44905307_A_T\",\"chr19_44908756_C_A\",\"chr21_25897620_C_T\",\"chr21_26171645_A_G\",\"chr21_26171723_T_C\"};\n",
    "do\n",
    "    files=($(ls ../../mnt/project/wgs_analysis/results/12_protective_variants/${var_id}/*.bim 2>/dev/null))\n",
    "    \n",
    "    for file in \"${files[@]}\";\n",
    "    do\n",
    "        filename=$(basename \"$file\" .bim)\n",
    "        \n",
    "        dx run swiss-army-knife \\\n",
    "        -iin=\"/wgs_analysis/results/12_protective_variants/${var_id}/${filename}.bim\" \\\n",
    "        -iin=\"/wgs_analysis/results/12_protective_variants/${var_id}/${filename}.bed\" \\\n",
    "        -iin=\"/wgs_analysis/results/12_protective_variants/${var_id}/${filename}.fam\" \\\n",
    "        -iin=\"/wgs_analysis/data/apoe_variants.txt\" \\\n",
    "        -icmd=\"plink --bfile ${filename} --extract apoe_variants.txt --make-bed --out apoe_snps_${filename}\" \\\n",
    "        --instance-type mem1_hdd1_v2_x16 \\\n",
    "        --destination \"${projectid}:/wgs_analysis/results/12_protective_variants/${var_id}\"\n",
    "    done\n",
    "done\n"
   ]
  },
  {
   "cell_type": "code",
   "execution_count": null,
   "id": "7369a34f-5daf-4ba9-bdd1-eb344629c3f3",
   "metadata": {},
   "outputs": [],
   "source": [
    "\"\"\"\n",
    "------------------------------------------------------------------------------------------------------\n",
    "------------------------------------------------------------------------------------------------------\n",
    "------------------------------------------------------------------------------------------------------\n",
    "------------------------------ PAUSE HERE UNTIL PREVIOUS STEP COMPLETES ------------------------------\n",
    "------------------------------------------------------------------------------------------------------\n",
    "------------------------------------------------------------------------------------------------------\n",
    "------------------------------------------------------------------------------------------------------\n",
    "\"\"\""
   ]
  },
  {
   "cell_type": "code",
   "execution_count": null,
   "id": "da93f6a4-b298-412d-9331-8685bd2e94f3",
   "metadata": {
    "tags": []
   },
   "outputs": [],
   "source": [
    "%%bash\n",
    "\n",
    "for var_id in {\"chr19_44892887_C_T\",\"chr19_44905307_A_T\",\"chr19_44908756_C_A\",\"chr21_25897620_C_T\",\"chr21_26171645_A_G\",\"chr21_26171723_T_C\"};\n",
    "do\n",
    "    files=($(ls ../../mnt/project/wgs_analysis/results/12_protective_variants/${var_id}/*.bim 2>/dev/null))\n",
    "    \n",
    "    for file in \"${files[@]}\";\n",
    "    do\n",
    "        filename=$(basename \"$file\" .bim)\n",
    "        \n",
    "        dx run swiss-army-knife \\\n",
    "        -iin=\"/wgs_analysis/results/12_protective_variants/${var_id}/apoe_snps_${filename}.bim\" \\\n",
    "        -iin=\"/wgs_analysis/results/12_protective_variants/${var_id}/apoe_snps_${filename}.bed\" \\\n",
    "        -iin=\"/wgs_analysis/results/12_protective_variants/${var_id}/apoe_snps_${filename}.fam\" \\\n",
    "        -iin=\"/wgs_analysis/data/apoe_variants.txt\" \\\n",
    "        -icmd=\"plink --bfile apoe_snps_${filename} --recode compound-genotypes --out apoe_snps_${filename}\" \\\n",
    "        --instance-type mem1_hdd1_v2_x16 \\\n",
    "        --destination \"${projectid}:/wgs_analysis/results/12_protective_variants/${var_id}\"\n",
    "    done\n",
    "done\n"
   ]
  },
  {
   "cell_type": "code",
   "execution_count": null,
   "id": "d29eb5be-e251-44c8-baae-fe3e2d0d2b86",
   "metadata": {},
   "outputs": [],
   "source": [
    "\"\"\"\n",
    "------------------------------------------------------------------------------------------------------\n",
    "------------------------------------------------------------------------------------------------------\n",
    "------------------------------------------------------------------------------------------------------\n",
    "------------------------------ PAUSE HERE UNTIL PREVIOUS STEP COMPLETES ------------------------------\n",
    "------------------------------------------------------------------------------------------------------\n",
    "------------------------------------------------------------------------------------------------------\n",
    "------------------------------------------------------------------------------------------------------\n",
    "\"\"\""
   ]
  },
  {
   "cell_type": "code",
   "execution_count": null,
   "id": "562e2fef-af36-40a4-9bcc-6ed3db17eab0",
   "metadata": {
    "tags": []
   },
   "outputs": [],
   "source": [
    "for var_id in [\"chr19_44892887_C_T\",\"chr19_44905307_A_T\",\"chr19_44908756_C_A\",\"chr21_25897620_C_T\",\"chr21_26171645_A_G\",\"chr21_26171723_T_C\"]:\n",
    "    ! mkdir {var_id}\n",
    "    \n",
    "    ! dx download wgs_analysis/results/12_protective_variants/{var_id}/*.ped --overwrite\n",
    "    ! mv *.ped {var_id}/\n",
    "    "
   ]
  },
  {
   "cell_type": "code",
   "execution_count": null,
   "id": "8a1beda0-8c99-4e0b-a70a-58a9ff328b6d",
   "metadata": {
    "tags": []
   },
   "outputs": [],
   "source": [
    "! dx download wgs_analysis/data/APOE_genotypes_PLINK_ped.py --overwrite\n",
    "for var_id in [\"chr19_44892887_C_T\",\"chr19_44905307_A_T\",\"chr19_44908756_C_A\",\"chr21_25897620_C_T\",\"chr21_26171645_A_G\",\"chr21_26171723_T_C\"]:\n",
    "    for ped_file in glob.glob(f\"{var_id}/*\"):\n",
    "        ! python APOE_genotypes_PLINK_ped.py -i {ped_file} -o {ped_file.replace(\"snps\",\"final\")[:-4]}\n",
    "        ! dx upload {ped_file.replace(\"snps\",\"final\")[:-4]}.APOE_GENOTYPES.csv --path wgs_analysis/results/12_protective_variants/{ped_file.replace(\"snps\",\"final\")[:-4]}.APOE_GENOTYPES.csv\n",
    "        "
   ]
  },
  {
   "cell_type": "code",
   "execution_count": null,
   "id": "83c6865f-fd6a-4a13-a065-cf4f225753ce",
   "metadata": {
    "tags": []
   },
   "outputs": [],
   "source": [
    "for var_id in [\"chr19_44892887_C_T\",\"chr19_44905307_A_T\",\"chr19_44908756_C_A\",\"chr21_25897620_C_T\",\"chr21_26171645_A_G\",\"chr21_26171723_T_C\"]:\n",
    "    print(var_id)\n",
    "    for cohort in [\"AD\",\"RD\",\"Control\"]:\n",
    "        print(cohort)\n",
    "        cohort_counts = []\n",
    "        included_ancestries = []\n",
    "        for ancestry in [\"AAC\",\"AFR\",\"AJ\",\"AMR\",\"CAH\",\"CAS\",\"EAS\",\"EUR\",\"FIN\",\"MDE\",\"SAS\"]:\n",
    "            if os.path.exists(f\"{var_id}/apoe_final_{cohort}_{ancestry}.APOE_GENOTYPES.csv\"):\n",
    "                apoe_geno = pd.read_csv(f\"{var_id}/apoe_final_{cohort}_{ancestry}.APOE_GENOTYPES.csv\")\n",
    "                counts = apoe_geno['APOE_GENOTYPE'].value_counts()\n",
    "                counts = counts.reindex([\"e1/e1\", \"e1/e2\", \"e1/e4\", \"e2/e2\", \"e2/e3\", \"e2/e4 or e1/e3\", \"e3/e3\", \"e3/e4\", \"e4/e4\"], fill_value=0)\n",
    "                counts = counts.rename(ancestry)\n",
    "                counts = pd.concat([counts, pd.Series([counts.sum()], index=['total'])])\n",
    "                cohort_counts.append(counts)\n",
    "                included_ancestries.append(ancestry)\n",
    "        if len(cohort_counts) > 0:\n",
    "            cohort_counts = pd.concat(cohort_counts, axis=1)\n",
    "            cohort_counts.columns = included_ancestries\n",
    "            display(cohort_counts)\n",
    "            cohort_percentages = cohort_counts.div(cohort_counts.loc[\"total\"], axis=1) * 100\n",
    "            cohort_percentages.loc[\"total\"] = cohort_counts.loc[\"total\"]\n",
    "            display(cohort_percentages)\n",
    "            cohort_combined = cohort_counts.applymap(str) + ' (' + cohort_percentages.applymap(lambda x: f'{x:.2f}%') + ')'\n",
    "            cohort_combined.loc[\"total\"] = cohort_counts.loc[\"total\"]\n",
    "            display(cohort_combined)\n",
    "            cohort_counts.to_csv(f\"{var_id}/{cohort}_apoe_genotype_counts.csv\")\n",
    "            cohort_percentages.to_csv(f\"{var_id}/{cohort}_apoe_genotype_percentages.csv\")\n",
    "            cohort_combined.to_csv(f\"{var_id}/{cohort}_apoe_genotype_combined.csv\")\n",
    "            ! dx upload {var_id}/{cohort}_apoe_genotype_counts.csv --path wgs_analysis/results/12_protective_variants/{var_id}/{cohort}_apoe_genotype_counts.csv\n",
    "            ! dx upload {var_id}/{cohort}_apoe_genotype_percentages.csv --path wgs_analysis/results/12_protective_variants/{var_id}/{cohort}_apoe_genotype_percentages.csv\n",
    "            ! dx upload {var_id}/{cohort}_apoe_genotype_combined.csv --path wgs_analysis/results/12_protective_variants/{var_id}/{cohort}_apoe_genotype_combined.csv\n"
   ]
  }
 ],
 "metadata": {
  "kernelspec": {
   "display_name": "Python 3 (ipykernel)",
   "language": "python",
   "name": "python3"
  },
  "language_info": {
   "codemirror_mode": {
    "name": "ipython",
    "version": 3
   },
   "file_extension": ".py",
   "mimetype": "text/x-python",
   "name": "python",
   "nbconvert_exporter": "python",
   "pygments_lexer": "ipython3",
   "version": "3.12.2"
  }
 },
 "nbformat": 4,
 "nbformat_minor": 5
}
