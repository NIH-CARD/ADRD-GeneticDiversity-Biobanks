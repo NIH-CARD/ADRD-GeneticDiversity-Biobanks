{
 "cells": [
  {
   "cell_type": "markdown",
   "id": "444e4e1d",
   "metadata": {},
   "source": [
    "# UKBiobank\n",
    "\n",
    "* **Project:** ADRD Genetic Diversity in Biobanks\n",
    "* **Version:** Python/3.9\n",
    "* **Last Updated:** 24-FEB-2024\n",
    "\n",
    "## Notebook Overview\n",
    "Fetch cohorts, ancestry info, remove related individuals, filter non-WGS, combine pVCFs, normalize VCFs, annotate, allele freqs, APOE genotyping, phenotype data, resilience/protective variants"
   ]
  },
  {
   "cell_type": "markdown",
   "id": "a8b21d58",
   "metadata": {},
   "source": [
    "# Initialize Notebook"
   ]
  },
  {
   "cell_type": "markdown",
   "id": "b11a388c-5ca1-4097-91a5-29e8dc6bd559",
   "metadata": {
    "tags": []
   },
   "source": [
    "## Import packages"
   ]
  },
  {
   "cell_type": "code",
   "execution_count": null,
   "id": "cd14b439-3a34-4910-96d6-fc7afaede06f",
   "metadata": {
    "tags": [],
    "trusted": true
   },
   "outputs": [],
   "source": [
    "import pyspark\n",
    "import dxdata\n",
    "import dxpy\n",
    "import pandas as pd\n",
    "from datetime import date, datetime\n",
    "import os \n",
    "import numpy as np\n",
    "import random\n",
    "import shutil\n",
    "import glob\n",
    "import requests\n",
    "from functools import reduce\n",
    "import subprocess\n",
    "import pprint\n",
    "\n",
    "sc = pyspark.SparkContext()\n",
    "spark = pyspark.sql.SparkSession(sc)\n"
   ]
  },
  {
   "cell_type": "markdown",
   "id": "b4f97b50-339a-415e-8dbc-6fb2a896fc28",
   "metadata": {},
   "source": [
    "## Initialize helper functions"
   ]
  },
  {
   "cell_type": "code",
   "execution_count": null,
   "id": "75492f4e-46e2-4159-9e23-d6c7a030323d",
   "metadata": {
    "tags": [],
    "trusted": true
   },
   "outputs": [],
   "source": [
    "def fetch_gene_info_ensembl(gene_names, species='human', genome_version='GRCh38'):\n",
    "    gene_info_dict = {}\n",
    "    server = \"https://rest.ensembl.org\"\n",
    "    \n",
    "    for gene_name in gene_names:\n",
    "        endpoint = f\"/lookup/symbol/{species}/{gene_name}\"\n",
    "        headers = {\"Content-Type\": \"application/json\"}\n",
    "\n",
    "        response = requests.get(server + endpoint, headers=headers, params={\"expand\": \"1\"})\n",
    "        if not response.ok:\n",
    "            print(f\"Fetching failed for {gene_name}\")\n",
    "            continue\n",
    "\n",
    "        data = response.json()\n",
    "        gene_info = {\n",
    "            \"gene_name\": data.get(\"display_name\", gene_name),\n",
    "            \"chromosome\": f\"chr{data['seq_region_name']}\",\n",
    "            \"start\": int(data[\"start\"]),\n",
    "            \"end\": int(data[\"end\"]),\n",
    "            \"genome_version\": genome_version\n",
    "        }\n",
    "\n",
    "        gene_info_dict[gene_name] = gene_info\n",
    "\n",
    "    return gene_info_dict\n"
   ]
  },
  {
   "cell_type": "markdown",
   "id": "a579174a-8b5a-488d-af45-aa9ed13205d2",
   "metadata": {
    "tags": []
   },
   "source": [
    "## Initialize variables"
   ]
  },
  {
   "cell_type": "code",
   "execution_count": null,
   "id": "adff6de3-eef6-4029-ae05-b3905bf83d43",
   "metadata": {
    "tags": [],
    "trusted": true
   },
   "outputs": [],
   "source": [
    "gene_names = [\n",
    "    \"APOE\",\n",
    "    \"APP\",\n",
    "    \"GBA1\",\n",
    "    \"GRN\",\n",
    "    \"MAPT\",\n",
    "    \"PSEN1\",\n",
    "    \"PSEN2\",\n",
    "    \"SNCA\",\n",
    "    \"TARDBP\",\n",
    "    \"TBK1\",\n",
    "    \"TREM2\",\n",
    "]\n",
    "\n",
    "results_dir = \"/results/dementia_project\"\n",
    "\n",
    "! dx find projects --name \"wgs_analyses\" > projectid.txt\n",
    "projectid = open(\"projectid.txt\", \"r\")\n",
    "projectid = projectid.read()\n",
    "projectid = projectid.split(\" : \")[0]\n",
    "\n",
    "gene_info = fetch_gene_info_ensembl(gene_names)\n",
    "gene_names = sorted(gene_info.keys(), key=lambda gene: (int(gene_info[gene][\"chromosome\"][3:]), gene_info[gene][\"start\"]))\n"
   ]
  },
  {
   "cell_type": "markdown",
   "id": "50a60392-c5a8-4b9d-a45f-587760e436df",
   "metadata": {
    "tags": []
   },
   "source": [
    "## Grab participant data"
   ]
  },
  {
   "cell_type": "code",
   "execution_count": null,
   "id": "84db3be2-ec4d-4710-b7f2-c149bcc67711",
   "metadata": {
    "tags": [],
    "trusted": true
   },
   "outputs": [],
   "source": [
    "dispensed_dataset_id = dxpy.find_one_data_object(typename=\"Dataset\", name=\"app*.dataset\", folder=\"/\", name_mode=\"glob\")[\"id\"]\n",
    "dataset = dxdata.load_dataset(id=dispensed_dataset_id)\n",
    "participant = dataset[\"participant\"]\n"
   ]
  },
  {
   "cell_type": "code",
   "execution_count": null,
   "id": "934a2357-0ce6-4c1b-a3e3-d67086a8fde0",
   "metadata": {
    "tags": [],
    "trusted": true
   },
   "outputs": [],
   "source": [
    "\"\"\"\n",
    "------------------------------------------------------------------------------------------------------\n",
    "------------------------------------------------------------------------------------------------------\n",
    "------------------------------------------------------------------------------------------------------\n",
    "--------------------- CREATE \"00_id_files\" SUBDIRECTORY WITHIN RESULTS DIRECTORY ---------------------\n",
    "---------------------- CREATE \"08_merged\" SUBDIRECTORY WITHIN RESULTS DIRECTORY ----------------------\n",
    "--------------- CREATE \"10_pathogenic_variants\" SUBDIRECTORY WITHIN RESULTS DIRECTORY ----------------\n",
    "----------------- CREATE \"11_phenotypic_data\" SUBDIRECTORY WITHIN RESULTS DIRECTORY ------------------\n",
    "------------------------------------------------------------------------------------------------------\n",
    "------------------------------------------------------------------------------------------------------\n",
    "------------------------------------------------------------------------------------------------------\n",
    "\"\"\""
   ]
  },
  {
   "cell_type": "markdown",
   "id": "6db4eb5c-7b62-4cca-9413-3f60389debfa",
   "metadata": {
    "jp-MarkdownHeadingCollapsed": true,
    "tags": []
   },
   "source": [
    "# Fetch cohorts"
   ]
  },
  {
   "cell_type": "markdown",
   "id": "9ea3457f-503d-4b56-9aed-43ca4255495d",
   "metadata": {
    "jp-MarkdownHeadingCollapsed": true,
    "tags": []
   },
   "source": [
    "## Retrieve Cases"
   ]
  },
  {
   "cell_type": "code",
   "execution_count": null,
   "id": "f917dc60-cc2c-4991-9732-5b632c39258f",
   "metadata": {
    "tags": [],
    "trusted": true
   },
   "outputs": [],
   "source": [
    "# Pull down the fields we need \n",
    "# https://docs.google.com/document/d/1AebkQ-Nxrk63jhsDzZpn5QD-7EK4unsykHVj-saEm3U/edit?usp=sharing\n",
    "\n",
    "field_names = [\n",
    "    \"eid\", \n",
    "    \"p31\", \n",
    "    \"p34\", \n",
    "    \"p21022\", \n",
    "    \"p42018\", \n",
    "    \"p42020\", \n",
    "    \"p40000_i0\",\n",
    "    \"p120042\",\n",
    "]\n",
    "df_cases = participant.retrieve_fields(names=field_names, coding_values=\"replace\", engine=dxdata.connect())\n",
    "df_cases = df_cases.toPandas()\n"
   ]
  },
  {
   "cell_type": "code",
   "execution_count": null,
   "id": "f6709363-3dd9-4265-a3c0-324eab83c72f",
   "metadata": {
    "tags": [],
    "trusted": true
   },
   "outputs": [],
   "source": [
    "# Rename columns\n",
    "\n",
    "df_cases.rename(columns={\n",
    "    \"eid\":\"ID\",\n",
    "    \"p31\":\"GENETIC_SEX\", \n",
    "    \"p34\":\"BIRTH_YEAR\", \n",
    "    \"p21022\":\"AGE_OF_RECRUIT\",\n",
    "    \"p42018\":\"DEM_DATE\",\n",
    "    \"p42020\":\"AD_DATE\",\n",
    "    \"p40000_i0\":\"DATE_OF_DEATH\",\n",
    "    \"p120042\":\"COGNITIVE_SYMPTOMS_SEVERITY_PAST_WEEK\",\n",
    "}, inplace=True)\n",
    "df_cases[\"ID\"] = pd.to_numeric(df_cases[\"ID\"])\n"
   ]
  },
  {
   "cell_type": "code",
   "execution_count": null,
   "id": "4fe6d7fc-01b8-401f-a7f4-584ca57cdeef",
   "metadata": {
    "tags": [],
    "trusted": true
   },
   "outputs": [],
   "source": [
    "# Find participants with AD and RD:\n",
    "\n",
    "df_ad = df_cases[~df_cases[f\"AD_DATE\"].isna()]\n",
    "df_rd = df_cases[df_cases[\"AD_DATE\"].isna() & ~df_cases[\"DEM_DATE\"].isna()]\n"
   ]
  },
  {
   "cell_type": "markdown",
   "id": "eba6b23a-ece6-40c2-9ec1-71b88e992e48",
   "metadata": {
    "jp-MarkdownHeadingCollapsed": true,
    "tags": []
   },
   "source": [
    "## Retrieve Controls (Age 65+, no NDD, no parents with AD or PD)"
   ]
  },
  {
   "cell_type": "markdown",
   "id": "8c8baa9a-cdf5-4aae-bfa3-c2123f2d9f26",
   "metadata": {
    "jp-MarkdownHeadingCollapsed": true,
    "tags": []
   },
   "source": [
    "### Pull down the fields we need "
   ]
  },
  {
   "cell_type": "code",
   "execution_count": null,
   "id": "e8bfdd82-c980-45fb-9051-8fb3106f1f39",
   "metadata": {
    "tags": [],
    "trusted": true
   },
   "outputs": [],
   "source": [
    "# Date G10 first reported (huntington's disease),\n",
    "# Date D11 first reported (hereditary ataxia), \n",
    "# Date G12 first reported (spinal muscular atrophy and related syndromes), \n",
    "# Date G13 first reported (systemic atrophies primarily affecting central nervous system in diseases classified elswhere), \n",
    "# Date G14 first reported (postpolio syndrome), \n",
    "# Date G20 first reported (parkinson's disease), \n",
    "# Date G21 first reported (secondary parkinsonism), \n",
    "# Date G22 first reported (parkinsonism in diseases classified elsewhere), \n",
    "# Date G23 first reported (other degenerative diseases of basal ganglia), \n",
    "# Date G24 first reported (dystonia), \n",
    "# Date G25 first reported (other extrapyramidal and movement disorders), \n",
    "# Date G30 first reported (alzheimer's disease), \n",
    "# Date G31 first reported (other degenerative diseases of nervous system, not elsewhere classified), \n",
    "# Date G32 first reported (other degenerative disorders of nervous system in diseases classified elsewhere), \n",
    "# Date G35 first reported (multiple sclerosis), \n",
    "# Date G36 first reported (other acute disseminated demyelination), \n",
    "# Date G37 first reported (other demyelinating diseases of central nervous system), \n",
    "# Date G45 first reported (transient cerebral ischaemic attacks and related syndromes), \n",
    "# Date G46 first reported (vascular syndromes of brain in cerebrovascular diseases), \n",
    "# Date G50 first reported (disorders of trigeminal nerve), \n",
    "# Date G52 first reported (disorders of other cranial nerves), \n",
    "# Date G53 first reported (cranial nerve disorders in diseases classified elsewhere), \n",
    "# Date G54 first reported (nerve root and plexus disorders), \n",
    "# Date G55 first reported (nerve root and plexus compressions in diseases classified elsewhere), \n",
    "# Date G56 first reported (mononeuropathies of upper limb), \n",
    "# Date G57 first reported (mononeuropathies of lower limb), \n",
    "# Date G58 first reported (other mononeuropathies), \n",
    "# Date G59 first reported (mononeuropathy in diseases classified elsewhere), \n",
    "# Date G60 first reported (hereditary and idiopathic neuropathy), \n",
    "# Date G61 first reported (inflammatory polyneuropathy), \n",
    "# Date G62 first reported (other polyneuropathies), \n",
    "# Date G63 first reported (polyneuropathy in diseases classified elsewhere), \n",
    "# Date G64 first reported (other disorders of peripheral nervous system), \n",
    "# Date G70 first reported (myasthenia gravis and other myoneural disorders), \n",
    "# Date G71 first reported (primary disorders of muscles), \n",
    "# Date G72 first reported (other myopathies), \n",
    "# Date G73 first reported (disorders of myoneural junction and muscle in diseases classified elsewhere), \n",
    "# Date G80 first reported (infantile cerebral palsy), \n",
    "# Date G81 first reported (hemiplegia), \n",
    "# Date G82 first reported (paraplegia and tetraplegia), \n",
    "# Date G83 first reported (other paralytic syndromes), \n",
    "# Date G90 first reported (disorders of autonomic nervous system),\n",
    "# Date G91 first reported (hydrocephalus), \n",
    "# Date G92 first reported (toxic encephalopathy), \n",
    "# Date G93 first reported (other disorders of brain), \n",
    "# Date G94 first reported (other disorders of brain in diseases classified elsewhere), \n",
    "# Date G96 first reported (other disorders of central nervous system), \n",
    "# Date G97 first reported (postprocedural disorders of nervous system, not elsewhere classified),  \n",
    "# Date G98 first reported (other disorders of nervous system, not elsewhere classified), \n",
    "# Date G99 first reported (other disorders of nervous system in diseases classified elsewhere), \n",
    "# Date of all cause dementia report, \n",
    "# Date of alzheimer's disease report, \n",
    "# Date of vascular dementia report, \n",
    "# Date of frontotemporal dementia report, \n",
    "# Date of motor neurone disease report, \n",
    "# Date of all cause parkinsonism report, \n",
    "# Date of parkinson's disease report, \n",
    "# Date of progressive supranuclear palsy report, \n",
    "# Date of multiple system atrophy report, \n",
    "# Age at recruitment, \n",
    "# Sex, \n",
    "\n",
    "field_names = [\n",
    "    \"eid\", \"p21022\", \"p31\", \"p34\", \"p40000_i0\", \"p131012\", \"p131016\", \"p131018\", \"p131020\", \"p131022\", \"p131024\", \n",
    "    \"p131026\", \"p131028\", \"p131030\", \"p131036\", \"p131038\", \"p131040\", \"p131042\", \"p131046\", \"p131056\", \"p131058\", \n",
    "    \"p131062\", \"p131066\", \"p131068\", \"p131070\", \"p131074\", \"p131076\", \"p131078\", \"p131080\", \"p131082\", \"p131084\", \n",
    "    \"p131086\", \"p131088\", \"p131090\", \"p131092\", \"p131094\", \"p131096\", \"p131098\", \"p131100\", \"p131102\", \"p131104\", \n",
    "    \"p131106\", \"p131108\", \"p131110\", \"p131112\", \"p131114\", \"p131116\", \"p131120\", \"p131122\", \"p131124\", \"p131126\",  \n",
    "    \"p42018\", \"p42020\", \"p42022\", \"p42024\", \"p42028\", \"p42030\", \"p42032\", \"p42034\", \"p42036\", \"p20110_i0\", \n",
    "    \"p20110_i1\", \"p20110_i2\", \"p20110_i3\", \"p20107_i0\", \"p20107_i1\", \"p20107_i2\", \"p20107_i3\", \"p120042\",\n",
    "]\n",
    "df_controls = participant.retrieve_fields(names=field_names, coding_values=\"replace\", engine=dxdata.connect())\n",
    "df_controls = df_controls.toPandas()\n"
   ]
  },
  {
   "cell_type": "markdown",
   "id": "236a6214-b21d-4b93-a9b4-a6e09aa60699",
   "metadata": {
    "jp-MarkdownHeadingCollapsed": true,
    "tags": []
   },
   "source": [
    "### Remove participants with any of the listed conditions"
   ]
  },
  {
   "cell_type": "code",
   "execution_count": null,
   "id": "88d075bb-f716-4006-a411-2d8559db092a",
   "metadata": {
    "tags": [],
    "trusted": true
   },
   "outputs": [],
   "source": [
    "df_controls = df_controls[\n",
    "    df_controls['p131012'].isnull() & df_controls['p131016'].isnull() & df_controls['p131018'].isnull() & df_controls['p131020'].isnull() \n",
    "    & df_controls['p131022'].isnull() & df_controls['p131024'].isnull() & df_controls['p131026'].isnull() & df_controls['p131028'].isnull() \n",
    "    & df_controls['p131030'].isnull() & df_controls['p131036'].isnull() & df_controls['p131038'].isnull() & df_controls['p131040'].isnull() \n",
    "    & df_controls['p131042'].isnull() & df_controls['p131046'].isnull() & df_controls['p131056'].isnull() & df_controls['p131058'].isnull() \n",
    "    & df_controls['p131062'].isnull() & df_controls['p131066'].isnull() & df_controls['p131068'].isnull() & df_controls['p131070'].isnull() \n",
    "    & df_controls['p131074'].isnull() & df_controls['p131076'].isnull() & df_controls['p131078'].isnull() & df_controls['p131080'].isnull() \n",
    "    & df_controls['p131082'].isnull() & df_controls['p131084'].isnull() & df_controls['p131086'].isnull() & df_controls['p131088'].isnull() \n",
    "    & df_controls['p131090'].isnull() & df_controls['p131092'].isnull() & df_controls['p131094'].isnull() & df_controls['p131096'].isnull() \n",
    "    & df_controls['p131098'].isnull() & df_controls['p131100'].isnull() & df_controls['p131102'].isnull() & df_controls['p131104'].isnull() \n",
    "    & df_controls['p131106'].isnull() & df_controls['p131108'].isnull() & df_controls['p131110'].isnull() & df_controls['p131112'].isnull() \n",
    "    & df_controls['p131114'].isnull() & df_controls['p131116'].isnull() & df_controls['p131120'].isnull() & df_controls['p131122'].isnull() \n",
    "    & df_controls['p131124'].isnull() & df_controls['p131126'].isnull() & df_controls['p42018'].isnull() & df_controls['p42020'].isnull() \n",
    "    & df_controls['p42022'].isnull() & df_controls['p42024'].isnull() & df_controls['p42028'].isnull() & df_controls['p42030'].isnull() \n",
    "    & df_controls['p42032'].isnull() & df_controls['p42034'].isnull() & df_controls['p42036'].isnull()\n",
    "]\n"
   ]
  },
  {
   "cell_type": "markdown",
   "id": "ee348fde-73f0-42cf-b700-a4d21cf96144",
   "metadata": {
    "jp-MarkdownHeadingCollapsed": true,
    "tags": []
   },
   "source": [
    "### Remove participants whose parents have AD or PD"
   ]
  },
  {
   "cell_type": "code",
   "execution_count": null,
   "id": "940fc55e-e654-48f2-8b05-5e51c9fc64f2",
   "metadata": {
    "tags": [],
    "trusted": true
   },
   "outputs": [],
   "source": [
    "# Columns defining all instances of parent illness\n",
    "parent_illness_cols = ['p20110_i0', 'p20110_i1', 'p20110_i2', 'p20110_i3', 'p20107_i0', 'p20107_i1', 'p20107_i2', 'p20107_i3']\n",
    "\n",
    "# Convert None values to empty lists\n",
    "for illness_col in parent_illness_cols:\n",
    "    df_controls[illness_col] = df_controls[illness_col].apply(lambda l: l if isinstance(l, list) else [])\n",
    "\n",
    "# Define a condition as anybody who has never reported a parent as having AD or PD\n",
    "condition = lambda participant: all((\"Alzheimer's disease/dementia\" not in illnesses and \"Parkinson's disease\" not in illnesses) for illnesses in participant[parent_illness_cols])\n",
    "\n",
    "# Apply the condition to give all participants who have a parent who has/had AD or PD\n",
    "df_controls = df_controls[df_controls.apply(condition, axis=1)]\n"
   ]
  },
  {
   "cell_type": "markdown",
   "id": "5568a2f0-906d-458a-bdc1-1f2b2912ee11",
   "metadata": {
    "jp-MarkdownHeadingCollapsed": true,
    "tags": []
   },
   "source": [
    "### Remove participants below the defined age threshold"
   ]
  },
  {
   "cell_type": "code",
   "execution_count": null,
   "id": "22cc264e-fb68-4847-ac74-6bc16445d431",
   "metadata": {
    "tags": [],
    "trusted": true
   },
   "outputs": [],
   "source": [
    "df_controls = df_controls[df_controls['p21022'] >= 65]\n"
   ]
  },
  {
   "cell_type": "markdown",
   "id": "01cc3aa6-86af-46d2-b865-0631e97dfe1f",
   "metadata": {
    "jp-MarkdownHeadingCollapsed": true,
    "tags": []
   },
   "source": [
    "### Rename columns"
   ]
  },
  {
   "cell_type": "code",
   "execution_count": null,
   "id": "c4fabba8-2442-4fc0-8bb3-ff9acf870d4d",
   "metadata": {
    "tags": [],
    "trusted": true
   },
   "outputs": [],
   "source": [
    "df_controls = df_controls[[\n",
    "    'eid', \n",
    "    'p21022', \n",
    "    'p31', \n",
    "    'p34', \n",
    "    'p40000_i0',\n",
    "    \"p120042\",\n",
    "]]\n",
    "df_controls.rename(columns={\n",
    "    \"eid\":\"ID\",\n",
    "    \"p21022\":\"AGE_OF_RECRUIT\", \n",
    "    \"p31\":\"GENETIC_SEX\", \n",
    "    \"p34\":\"BIRTH_YEAR\", \n",
    "    \"p40000_i0\":\"DATE_OF_DEATH\",\n",
    "    \"p120042\":\"COGNITIVE_SYMPTOMS_SEVERITY_PAST_WEEK\",\n",
    "}, inplace=True)\n",
    "df_controls[\"ID\"] = pd.to_numeric(df_controls[\"ID\"])\n"
   ]
  },
  {
   "cell_type": "markdown",
   "id": "38a4b6e3-b820-458f-b265-b7796c53dc54",
   "metadata": {
    "jp-MarkdownHeadingCollapsed": true,
    "tags": []
   },
   "source": [
    "# Find ancestry information about each cohort"
   ]
  },
  {
   "cell_type": "markdown",
   "id": "f1a34052-9000-4728-ad7a-3a560e4e8682",
   "metadata": {
    "jp-MarkdownHeadingCollapsed": true,
    "tags": []
   },
   "source": [
    "## Read ancestry label mappings"
   ]
  },
  {
   "cell_type": "code",
   "execution_count": null,
   "id": "5d9e8a36-4ef8-4371-afba-988a32d30643",
   "metadata": {
    "tags": [],
    "trusted": true
   },
   "outputs": [],
   "source": [
    "! dx download /data/ukbb_imputed_genotypes_umap_linearsvc_predicted_labels.txt --overwrite\n",
    "! dx download /data/ukbb_imputed_genotypes_proj_pca.txt --overwrite\n",
    "\n",
    "df_ancestries = pd.read_csv(\"ukbb_imputed_genotypes_umap_linearsvc_predicted_labels.txt\", sep=\"\\t\")\n",
    "df_ancestries.rename(columns={\"label\":\"ancestry\", \"IID\":\"ID\"}, inplace=True)\n",
    "\n",
    "df_pcs = pd.read_csv(\"ukbb_imputed_genotypes_proj_pca.txt\", sep=\"\\t\")\n",
    "df_pcs.rename(columns={\"IID\":\"ID\"}, inplace=True)\n",
    "\n",
    "df_covar = df_ancestries.merge(df_pcs, on=\"ID\")\n",
    "df_covar = df_covar[[\"ID\",\"ancestry\",\"PC1\",\"PC2\",\"PC3\",\"PC4\",\"PC5\"]]\n"
   ]
  },
  {
   "cell_type": "markdown",
   "id": "2b44441e-e349-42bf-afb5-6d0fd800b1f3",
   "metadata": {
    "jp-MarkdownHeadingCollapsed": true,
    "tags": []
   },
   "source": [
    "## Add labels to cohort dataframes"
   ]
  },
  {
   "cell_type": "code",
   "execution_count": null,
   "id": "6e7aec1a-40d1-443b-895a-ea55fbfd382b",
   "metadata": {
    "tags": [],
    "trusted": true
   },
   "outputs": [],
   "source": [
    "df_controls = df_controls.merge(df_covar, on=\"ID\")\n",
    "df_ad = df_ad.merge(df_covar, on=\"ID\")\n",
    "df_rd = df_rd.merge(df_covar, on=\"ID\")\n"
   ]
  },
  {
   "cell_type": "markdown",
   "id": "db80f25b-5e95-4d9b-8130-9cf553cc7c16",
   "metadata": {
    "jp-MarkdownHeadingCollapsed": true,
    "tags": []
   },
   "source": [
    "## Get list of IDs for each cohort"
   ]
  },
  {
   "cell_type": "code",
   "execution_count": null,
   "id": "da0af415-fda1-441e-a24e-a2b997c9fe87",
   "metadata": {
    "tags": [],
    "trusted": true
   },
   "outputs": [],
   "source": [
    "ids_controls = df_controls[\"ID\"].tolist()\n",
    "ids_ad = df_ad[\"ID\"].tolist()\n",
    "ids_rd = df_rd[\"ID\"].tolist()\n"
   ]
  },
  {
   "cell_type": "markdown",
   "id": "e703dfb9-c45f-4f4e-b7c1-5371fcd1f38e",
   "metadata": {
    "jp-MarkdownHeadingCollapsed": true,
    "tags": []
   },
   "source": [
    "# Remove related individuals"
   ]
  },
  {
   "cell_type": "markdown",
   "id": "e75c2575-7728-4f0c-a8a2-c16e4909ed29",
   "metadata": {
    "jp-MarkdownHeadingCollapsed": true,
    "tags": []
   },
   "source": [
    "## Fetch relatedness data"
   ]
  },
  {
   "cell_type": "code",
   "execution_count": null,
   "id": "3d9514f1-6ea1-498a-9442-75b43e5b302c",
   "metadata": {
    "tags": [],
    "trusted": true
   },
   "outputs": [],
   "source": [
    "! dx download '/Bulk/Genotype\\ Results/Genotype\\ calls/ukb_rel.dat' --overwrite\n",
    "df_full_related = pd.read_csv('ukb_rel.dat', sep = ' ')\n",
    "df_full_related = df_full_related[df_full_related['Kinship'] > 0.0884]\n"
   ]
  },
  {
   "cell_type": "markdown",
   "id": "068ab431-8251-4f3e-9eb7-0d928ec69183",
   "metadata": {
    "jp-MarkdownHeadingCollapsed": true,
    "tags": []
   },
   "source": [
    "## Define cohorts to maximize cases included"
   ]
  },
  {
   "cell_type": "code",
   "execution_count": null,
   "id": "0883dbb0-e079-434a-8937-e10d6390514e",
   "metadata": {
    "tags": [],
    "trusted": true
   },
   "outputs": [],
   "source": [
    "ids_full_cohort = ids_ad + ids_rd + ids_controls\n",
    "ids_cases = ids_ad + ids_rd\n"
   ]
  },
  {
   "cell_type": "markdown",
   "id": "75f9c846-5b7d-4c2e-aa22-cf56fd9f106b",
   "metadata": {
    "jp-MarkdownHeadingCollapsed": true,
    "tags": []
   },
   "source": [
    "## Keep only rows with both participants in cohorts of interest"
   ]
  },
  {
   "cell_type": "code",
   "execution_count": null,
   "id": "858045e4-fe3e-48e0-9181-f8239ae098b6",
   "metadata": {
    "tags": [],
    "trusted": true
   },
   "outputs": [],
   "source": [
    "df_related_cohort = df_full_related.loc[df_full_related['ID1'].isin(ids_full_cohort) & df_full_related['ID2'].isin(ids_full_cohort)]\n",
    "df_related_cohort.reset_index(drop=True, inplace=True)\n"
   ]
  },
  {
   "cell_type": "markdown",
   "id": "3ac59ac1-0f14-4fef-8b81-407a598870c7",
   "metadata": {
    "jp-MarkdownHeadingCollapsed": true,
    "tags": []
   },
   "source": [
    "## Maximize the number of cases included"
   ]
  },
  {
   "cell_type": "code",
   "execution_count": null,
   "id": "d728ac8d-d930-421c-a8e5-f15a91bb2a08",
   "metadata": {
    "tags": [],
    "trusted": true
   },
   "outputs": [],
   "source": [
    "df_flipped = df_related_cohort[df_related_cohort[\"ID1\"].isin(ids_controls) & df_related_cohort[\"ID2\"].isin(ids_cases)].copy()\n",
    "df_related_cohort = df_related_cohort[~(df_related_cohort[\"ID1\"].isin(ids_controls) & df_related_cohort[\"ID2\"].isin(ids_cases))]\n",
    "df_flipped.rename(columns={\"ID1\":\"ID2\", \"ID2\":\"ID1\"}, inplace=True)\n",
    "df_related_cohort = pd.concat([df_related_cohort, df_flipped])\n"
   ]
  },
  {
   "cell_type": "markdown",
   "id": "758e07fe-ec1c-457d-b8ab-d0b678f41017",
   "metadata": {
    "jp-MarkdownHeadingCollapsed": true,
    "tags": []
   },
   "source": [
    "## Get set of participants to remove"
   ]
  },
  {
   "cell_type": "code",
   "execution_count": null,
   "id": "b5dbe38d-6111-47a7-b8cd-04fcd5261643",
   "metadata": {
    "tags": [],
    "trusted": true
   },
   "outputs": [],
   "source": [
    "ids_to_remove = set(df_related_cohort[\"ID2\"])\n",
    "print(f\"Removing {len(ids_to_remove)} participants\")\n"
   ]
  },
  {
   "cell_type": "markdown",
   "id": "98554e3c-a3b2-42ca-9a3e-07a3ebbfce22",
   "metadata": {
    "jp-MarkdownHeadingCollapsed": true,
    "tags": []
   },
   "source": [
    "## Filter ID lists accordingly"
   ]
  },
  {
   "cell_type": "code",
   "execution_count": null,
   "id": "0963afa9-d662-446d-98ca-d4b62d258a9f",
   "metadata": {
    "tags": [],
    "trusted": true
   },
   "outputs": [],
   "source": [
    "ids_ad = [iid for iid in ids_ad if iid not in ids_to_remove]\n",
    "ids_rd = [iid for iid in ids_rd if iid not in ids_to_remove]\n",
    "ids_controls = [iid for iid in ids_controls if iid not in ids_to_remove]\n",
    "ids_total = ids_ad + ids_rd + ids_controls\n"
   ]
  },
  {
   "cell_type": "markdown",
   "id": "4384b677-27ec-47f6-813b-2280a0b7205e",
   "metadata": {
    "jp-MarkdownHeadingCollapsed": true,
    "tags": []
   },
   "source": [
    "## Save the IDs of each participant to a txt file"
   ]
  },
  {
   "cell_type": "code",
   "execution_count": null,
   "id": "ebac2b16-bb6d-4efe-a1e7-1341037867b6",
   "metadata": {
    "tags": [],
    "trusted": true
   },
   "outputs": [],
   "source": [
    "with open('ad_ids_pre_VCF.txt', 'w') as file:\n",
    "    for iid in ids_ad:\n",
    "        file.write(f\"{iid}\\n\")\n",
    "        "
   ]
  },
  {
   "cell_type": "code",
   "execution_count": null,
   "id": "c00fb845-0668-4961-ba0a-623eac074715",
   "metadata": {
    "tags": [],
    "trusted": true
   },
   "outputs": [],
   "source": [
    "with open('rd_ids_pre_VCF.txt', 'w') as file:\n",
    "    for iid in ids_rd:\n",
    "        file.write(f\"{iid}\\n\")\n"
   ]
  },
  {
   "cell_type": "code",
   "execution_count": null,
   "id": "6a0997d6-3bb3-4106-9e76-49bb4da0fae0",
   "metadata": {
    "tags": [],
    "trusted": true
   },
   "outputs": [],
   "source": [
    "with open('control_ids_pre_VCF.txt', 'w') as file:\n",
    "    for iid in ids_controls:\n",
    "        file.write(f\"{iid}\\n\")\n"
   ]
  },
  {
   "cell_type": "code",
   "execution_count": null,
   "id": "f581ecc9-00d1-4ee5-ad23-ea0c8eb2105e",
   "metadata": {
    "tags": [],
    "trusted": true
   },
   "outputs": [],
   "source": [
    "with open('ids_pre_VCF.txt', 'w') as file:\n",
    "    for iid in ids_total:\n",
    "        file.write(f\"{iid}\\n\")\n"
   ]
  },
  {
   "cell_type": "markdown",
   "id": "0873ee2d-bfa5-4cc1-9deb-9eaafde85999",
   "metadata": {
    "jp-MarkdownHeadingCollapsed": true,
    "tags": []
   },
   "source": [
    "# Filter out participants without WGS data"
   ]
  },
  {
   "cell_type": "markdown",
   "id": "47616c8e-b182-41b8-8df7-ff9e15cdfb93",
   "metadata": {
    "jp-MarkdownHeadingCollapsed": true,
    "tags": []
   },
   "source": [
    "## Find participants without WGS data"
   ]
  },
  {
   "cell_type": "code",
   "execution_count": null,
   "id": "f6119e27-701e-4e7d-9ef3-c6c626643bd6",
   "metadata": {
    "tags": [],
    "trusted": true
   },
   "outputs": [],
   "source": [
    "cmd = f\"dx run swiss-army-knife \"\n",
    "cmd += f\"-iin='/Bulk/DRAGEN\\ WGS/DRAGEN\\ population\\ level\\ WGS\\ variants,\\ pVCF\\ format\\ [500k\\ release]/chr1/ukb24310_c1_b1_v1.vcf.gz' \"\n",
    "cmd += f\"-iin='/Bulk/DRAGEN\\ WGS/DRAGEN\\ population\\ level\\ WGS\\ variants,\\ pVCF\\ format\\ [500k\\ release]/chr1/ukb24310_c1_b1_v1.vcf.gz.tbi' \"\n",
    "cmd += f\"-iin='/results/african_pd/combined_ids.txt' \"\n",
    "cmd += f\"-icmd='bcftools query -l ukb24310_c1_b1_v1.vcf.gz > pvcf_full_ids.txt' \"\n",
    "cmd += f\"--instance-type mem1_hdd1_v2_x2 \"\n",
    "cmd += f\"--destination '{projectid}:{results_dir}'\"\n",
    "\n",
    "subprocess.run(\n",
    "    cmd, \n",
    "    shell=True, \n",
    ")\n"
   ]
  },
  {
   "cell_type": "code",
   "execution_count": null,
   "id": "0ea2e900-da98-454e-ab67-95feb6fb8ae6",
   "metadata": {},
   "outputs": [],
   "source": [
    "\"\"\"\n",
    "------------------------------------------------------------------------------------------------------\n",
    "------------------------------------------------------------------------------------------------------\n",
    "------------------------------------------------------------------------------------------------------\n",
    "------------------------------ PAUSE HERE UNTIL PREVIOUS STEP COMPLETES ------------------------------\n",
    "------------------------------------------------------------------------------------------------------\n",
    "------------------------------------------------------------------------------------------------------\n",
    "------------------------------------------------------------------------------------------------------\n",
    "\"\"\""
   ]
  },
  {
   "cell_type": "markdown",
   "id": "3d3dabc1-41f1-4cc5-9cc3-c9ca23f627db",
   "metadata": {
    "jp-MarkdownHeadingCollapsed": true,
    "tags": []
   },
   "source": [
    "## Filter ID lists and clinical data to only include participants with WGS data"
   ]
  },
  {
   "cell_type": "code",
   "execution_count": null,
   "id": "0d7f0a68-4066-404c-91b1-648c96b8fbc6",
   "metadata": {
    "tags": [],
    "trusted": true
   },
   "outputs": [],
   "source": [
    "! dx download {results_dir}/pvcf_full_ids.txt --overwrite\n",
    "! grep -Fwf pvcf_full_ids.txt ids_pre_VCF.txt > filtered_sample_ids.txt\n",
    "! grep -Fwf pvcf_full_ids.txt ad_ids_pre_VCF.txt > filtered_ad_ids.txt\n",
    "! grep -Fwf pvcf_full_ids.txt rd_ids_pre_VCF.txt > filtered_rd_ids.txt\n",
    "! grep -Fwf pvcf_full_ids.txt control_ids_pre_VCF.txt > filtered_control_ids.txt\n",
    "\n",
    "! dx upload filtered_sample_ids.txt --path {results_dir}/sample_ids.txt\n",
    "! dx upload filtered_ad_ids.txt --path {results_dir}/ad_ids.txt\n",
    "! dx upload filtered_rd_ids.txt --path {results_dir}/rd_ids.txt\n",
    "! dx upload filtered_control_ids.txt --path {results_dir}/control_ids.txt\n"
   ]
  },
  {
   "cell_type": "code",
   "execution_count": null,
   "id": "618075de-394b-4149-80f3-f0834b7d3a3a",
   "metadata": {
    "tags": [],
    "trusted": true
   },
   "outputs": [],
   "source": [
    "with open('filtered_ad_ids.txt', 'r') as file:\n",
    "    ids_ad = [int(line.strip()) for line in file]\n",
    "with open('filtered_rd_ids.txt', 'r') as file:\n",
    "    ids_rd = [int(line.strip()) for line in file]\n",
    "with open('filtered_control_ids.txt', 'r') as file:\n",
    "    ids_controls = [int(line.strip()) for line in file]\n",
    "    \n",
    "print(f\"Number of AD participants:       {len(ids_ad)}\")\n",
    "print(f\"Number of RD participants:       {len(ids_rd)}\")\n",
    "print(f\"Number of Control participants:  {len(ids_controls)}\")\n"
   ]
  },
  {
   "cell_type": "code",
   "execution_count": null,
   "id": "71fe61ad-b1dd-4816-b625-310e0382201a",
   "metadata": {
    "tags": [],
    "trusted": true
   },
   "outputs": [],
   "source": [
    "df_ad = df_ad[df_ad[\"ID\"].isin(ids_ad)]\n",
    "df_rd = df_rd[df_rd[\"ID\"].isin(ids_rd)]\n",
    "df_controls = df_controls[df_controls[\"ID\"].isin(ids_controls)]\n"
   ]
  },
  {
   "cell_type": "code",
   "execution_count": null,
   "id": "7b4ef82a-714c-4baf-b42c-494f0c2021eb",
   "metadata": {
    "tags": [],
    "trusted": true
   },
   "outputs": [],
   "source": [
    "df_ad[\"AGE\"] = pd.to_datetime(df_ad[\"AD_DATE\"]).dt.year - df_ad[\"BIRTH_YEAR\"]\n",
    "df_ad = df_ad[df_ad[\"AGE\"] >= 20]\n",
    "df_rd[\"AGE\"] = pd.to_datetime(df_rd[\"DEM_DATE\"]).dt.year - df_rd[\"BIRTH_YEAR\"]\n",
    "df_rd = df_rd[df_rd[\"AGE\"] >= 20]\n",
    "\n",
    "most_recent_disease_year = max(pd.to_datetime(df_ad[\"AD_DATE\"]).dt.year.max(), pd.to_datetime(df_rd[\"DEM_DATE\"]).dt.year.max())\n",
    "df_controls[\"AGE\"] = pd.to_datetime(df_controls[\"DATE_OF_DEATH\"]).dt.year.fillna(most_recent_disease_year) - df_controls[\"BIRTH_YEAR\"]\n"
   ]
  },
  {
   "cell_type": "code",
   "execution_count": null,
   "id": "4498972b-b461-4f32-aec2-4e503cdfbf1c",
   "metadata": {
    "tags": [],
    "trusted": true
   },
   "outputs": [],
   "source": [
    "df_ad.to_csv(f'ad_cases.txt', header=True, index=False, sep=\"\\t\")\n",
    "df_rd.to_csv(f'rd_cases.txt', header=True, index=False, sep=\"\\t\")\n",
    "df_controls.to_csv(\"controls.txt\", header=True, index=False, sep=\"\\t\")\n",
    "\n",
    "! dx upload ad_cases.txt --path {results_dir}/ad_cases.txt\n",
    "! dx upload rd_cases.txt --path {results_dir}/rd_cases.txt\n",
    "! dx upload controls.txt --path {results_dir}/controls.txt\n"
   ]
  },
  {
   "cell_type": "markdown",
   "id": "c96a78b8-db32-4e8f-937f-407092475a68",
   "metadata": {
    "jp-MarkdownHeadingCollapsed": true,
    "tags": []
   },
   "source": [
    "# Print cohort statistics"
   ]
  },
  {
   "cell_type": "markdown",
   "id": "d46e3379-261a-43be-9a9b-89bd6752653c",
   "metadata": {
    "jp-MarkdownHeadingCollapsed": true,
    "tags": []
   },
   "source": [
    "## Ancestry Distribution"
   ]
  },
  {
   "cell_type": "code",
   "execution_count": null,
   "id": "6244aff7-518c-48ad-bddc-ad6206eaedd5",
   "metadata": {
    "tags": [],
    "trusted": true
   },
   "outputs": [],
   "source": [
    "print(\"----- ANCESTRY DISTRIBUTION -----\")\n",
    "print(\"AD CASES:\")\n",
    "print(df_ad[\"ancestry\"].value_counts())\n",
    "print(\"\\n\")\n",
    "print(\"RD CASES:\")\n",
    "print(df_rd[\"ancestry\"].value_counts())\n",
    "print(\"\\n\")\n",
    "print(\"CONTROLS:\")\n",
    "print(df_controls[\"ancestry\"].value_counts())\n",
    "print(\"\\n\")\n"
   ]
  },
  {
   "cell_type": "markdown",
   "id": "bdc54049-778c-4768-8a4e-426bb7482a06",
   "metadata": {
    "jp-MarkdownHeadingCollapsed": true,
    "tags": []
   },
   "source": [
    "## Sex Distribution"
   ]
  },
  {
   "cell_type": "code",
   "execution_count": null,
   "id": "65d5cb86-3c17-4bf0-a953-1501eec34bab",
   "metadata": {
    "tags": [],
    "trusted": true
   },
   "outputs": [],
   "source": [
    "print(\"----- SEX DISTRIBUTION -----\")\n",
    "print(\"AD CASES:\")\n",
    "print(df_ad[\"GENETIC_SEX\"].value_counts())\n",
    "print(\"\\n\")\n",
    "print(\"RD CASES:\")\n",
    "print(df_rd[\"GENETIC_SEX\"].value_counts())\n",
    "print(\"\\n\")\n",
    "print(\"CONTROLS:\")\n",
    "print(df_controls[\"GENETIC_SEX\"].value_counts())\n",
    "print(\"\\n\")\n"
   ]
  },
  {
   "cell_type": "markdown",
   "id": "81414b4b-49b8-420c-9226-863dbefc6298",
   "metadata": {
    "jp-MarkdownHeadingCollapsed": true,
    "tags": []
   },
   "source": [
    "## Age distribution"
   ]
  },
  {
   "cell_type": "code",
   "execution_count": null,
   "id": "0ae940a7-abb4-43b2-93b4-b6d07760838a",
   "metadata": {
    "tags": [],
    "trusted": true
   },
   "outputs": [],
   "source": [
    "print(\"----- AGE DISTRIBUTION -----\")\n",
    "print(f'Male AD cases:   {df_ad[df_ad[\"GENETIC_SEX\"] == \"Male\"][\"AGE\"].mean():.2f} +/- {df_ad[df_ad[\"GENETIC_SEX\"] == \"Male\"][\"AGE\"].std():.2f}')\n",
    "print(f'Female AD cases: {df_ad[df_ad[\"GENETIC_SEX\"] == \"Female\"][\"AGE\"].mean():.2f} +/- {df_ad[df_ad[\"GENETIC_SEX\"] == \"Female\"][\"AGE\"].std():.2f}')\n",
    "print(f'Male RD cases:   {df_rd[df_rd[\"GENETIC_SEX\"] == \"Male\"][\"AGE\"].mean():.2f} +/- {df_rd[df_rd[\"GENETIC_SEX\"] == \"Male\"][\"AGE\"].std():.2f}')\n",
    "print(f'Female RD cases: {df_rd[df_rd[\"GENETIC_SEX\"] == \"Female\"][\"AGE\"].mean():.2f} +/- {df_rd[df_rd[\"GENETIC_SEX\"] == \"Female\"][\"AGE\"].std():.2f}')\n",
    "print(f'Male controls:   {df_controls[df_controls[\"GENETIC_SEX\"] == \"Male\"][\"AGE\"].mean():.2f} +/- {df_controls[df_controls[\"GENETIC_SEX\"] == \"Male\"][\"AGE\"].std():.2f}')\n",
    "print(f'Female controls: {df_controls[df_controls[\"GENETIC_SEX\"] == \"Female\"][\"AGE\"].mean():.2f} +/- {df_controls[df_controls[\"GENETIC_SEX\"] == \"Female\"][\"AGE\"].std():.2f}')\n",
    "print(\"\\n\")\n"
   ]
  },
  {
   "cell_type": "markdown",
   "id": "cfc4bc7c-09fd-412d-88b2-9435b141e066",
   "metadata": {
    "tags": []
   },
   "source": [
    "# Fetch pVCF chunks for each gene of interest"
   ]
  },
  {
   "cell_type": "code",
   "execution_count": null,
   "id": "e8c41ff4-1375-40df-99ee-b18ddda9e5b2",
   "metadata": {},
   "outputs": [],
   "source": [
    "with open('gene_ranges.txt', 'w') as file:\n",
    "    for gene_name in gene_names:\n",
    "        chrom = gene_info[gene_name][\"chromosome\"]\n",
    "        start = gene_info[gene_name][\"start\"]\n",
    "        end = gene_info[gene_name][\"end\"]\n",
    "        file.write(f\"{chrom}\\t{start}\\t{end}\\n\")\n",
    "! dx upload gene_ranges.txt --path {results_dir}/gene_ranges.txt\n"
   ]
  },
  {
   "cell_type": "code",
   "execution_count": null,
   "id": "68bc3bee-db1a-4150-8fc6-a34afefd218c",
   "metadata": {
    "tags": [],
    "trusted": true
   },
   "outputs": [],
   "source": [
    "for gene_name in gene_names:\n",
    "    print(gene_name)\n",
    "    start = gene_info[gene_name][\"start\"]\n",
    "    end = gene_info[gene_name][\"end\"]\n",
    "    start_bval = start // 20000 - 1\n",
    "    end_bval = end // 20000 + 1\n",
    "    chrom = gene_info[gene_name]['chromosome']\n",
    "    print(f\"Chromosome:    {chrom}\")\n",
    "    print(f\"Start b-val:   {start_bval}\")\n",
    "    print(f\"End b-val:     {end_bval}\")\n",
    "    \n",
    "    for b_val in range(start_bval, end_bval + 1):\n",
    "        cmd = f\"dx run swiss-army-knife \"\n",
    "        cmd += f\"-iin='/Bulk/DRAGEN\\ WGS/DRAGEN\\ population\\ level\\ WGS\\ variants,\\ pVCF\\ format\\ [500k\\ release]/{chrom}/ukb24310_c{chrom[3:]}_b{b_val}_v1.vcf.gz' \"\n",
    "        cmd += f\"-iin='/Bulk/DRAGEN\\ WGS/DRAGEN\\ population\\ level\\ WGS\\ variants,\\ pVCF\\ format\\ [500k\\ release]/{chrom}/ukb24310_c{chrom[3:]}_b{b_val}_v1.vcf.gz.tbi' \"\n",
    "        cmd += f\"-iin='{results_dir}/gene_ranges.txt' \"\n",
    "        cmd += f\"-iin='{results_dir}/sample_ids.txt' \"\n",
    "        cmd += f\"-icmd='bcftools view -R gene_ranges.txt -O z -S sample_ids.txt ukb24310_c{chrom[3:]}_b{b_val}_v1.vcf.gz -o {gene_name}_b{b_val}.vcf.gz' \"\n",
    "        cmd += f\"--instance-type mem2_ssd1_v2_x4 \"\n",
    "        cmd += f\"--destination '{projectid}:{results_dir}/01_pvcf_chunks'\"\n",
    "\n",
    "        result = subprocess.run(\n",
    "            cmd, \n",
    "            shell=True, \n",
    "            stdout=subprocess.PIPE,\n",
    "            stderr=subprocess.PIPE,\n",
    "        )\n",
    "\n",
    "        if result.returncode != 0:\n",
    "            print(f\"Error running command for {gene_name} (b_val={b_val}):\")\n",
    "            print(result.stderr.decode(\"utf-8\"))\n",
    "            \n",
    "        print(b_val)\n",
    "    print()\n",
    "    "
   ]
  },
  {
   "cell_type": "markdown",
   "id": "5a97d311-e969-43c6-b2c8-eacff5b473d3",
   "metadata": {
    "tags": []
   },
   "source": [
    "# Combine pVCF chunks"
   ]
  },
  {
   "cell_type": "code",
   "execution_count": null,
   "id": "4ed1146d-aaee-4cd5-b100-3b31c40cb52b",
   "metadata": {},
   "outputs": [],
   "source": [
    "\"\"\"\n",
    "------------------------------------------------------------------------------------------------------\n",
    "------------------------------------------------------------------------------------------------------\n",
    "------------------------------------------------------------------------------------------------------\n",
    "------------------------------ PAUSE HERE UNTIL PREVIOUS STEP COMPLETES ------------------------------\n",
    "------------------------------------------------------------------------------------------------------\n",
    "------------------------------------------------------------------------------------------------------\n",
    "------------------------------------------------------------------------------------------------------\n",
    "\"\"\""
   ]
  },
  {
   "cell_type": "code",
   "execution_count": null,
   "id": "2ed290be-083d-4498-9e3f-84dc03def833",
   "metadata": {
    "tags": [],
    "trusted": true
   },
   "outputs": [],
   "source": [
    "cmd = f\"dx run swiss-army-knife \"\n",
    "icmd = \"-icmd='bcftools concat -O z \"\n",
    "\n",
    "for gene_name in gene_names:\n",
    "    start = gene_info[gene_name][\"start\"]\n",
    "    end = gene_info[gene_name][\"end\"]\n",
    "    start_bval = start // 20000 - 1\n",
    "    end_bval = end // 20000 + 1\n",
    "    chrom = gene_info[gene_name]['chromosome'] \n",
    "    for b_val in range(start_bval, end_bval + 1):\n",
    "        cmd += f\"-iin='{results_dir}/01_pvcf_chunks/{gene_name}_b{b_val}.vcf.gz' \"\n",
    "        icmd += f\"{gene_name}_b{b_val}.vcf.gz \"\n",
    "icmd += f\"-o concat.vcf.gz' \"\n",
    "cmd += icmd\n",
    "cmd += f\"--instance-type mem2_ssd1_v2_x32 \"\n",
    "cmd += f\"--destination '{projectid}:{results_dir}/02_pvcf_concat'\"\n",
    "\n",
    "result = subprocess.run(\n",
    "    cmd, \n",
    "    shell=True, \n",
    "    stdout=subprocess.PIPE,\n",
    "    stderr=subprocess.PIPE,\n",
    ")\n",
    "\n",
    "if result.returncode != 0:\n",
    "    print(f\"Error running command:\")\n",
    "    print(result.stderr.decode(\"utf-8\"))\n",
    "    "
   ]
  },
  {
   "cell_type": "markdown",
   "id": "434524be-1789-4c78-8e57-99f2e6de3b0e",
   "metadata": {
    "jp-MarkdownHeadingCollapsed": true,
    "tags": []
   },
   "source": [
    "# Normalize VCFs before annotation"
   ]
  },
  {
   "cell_type": "markdown",
   "id": "cb462409-8441-4154-b27f-af2f460fa2fc",
   "metadata": {
    "jp-MarkdownHeadingCollapsed": true,
    "tags": []
   },
   "source": [
    "### Split multiallelic sites into biallelic records"
   ]
  },
  {
   "cell_type": "code",
   "execution_count": null,
   "id": "c0e635cb-8334-428d-800b-d535ab7c9641",
   "metadata": {},
   "outputs": [],
   "source": [
    "\"\"\"\n",
    "------------------------------------------------------------------------------------------------------\n",
    "------------------------------------------------------------------------------------------------------\n",
    "------------------------------------------------------------------------------------------------------\n",
    "------------------------------ PAUSE HERE UNTIL PREVIOUS STEP COMPLETES ------------------------------\n",
    "------------------------------------------------------------------------------------------------------\n",
    "------------------------------------------------------------------------------------------------------\n",
    "------------------------------------------------------------------------------------------------------\n",
    "\"\"\""
   ]
  },
  {
   "cell_type": "code",
   "execution_count": null,
   "id": "772711fe-c6f0-4905-8419-6e7eec331975",
   "metadata": {
    "tags": [],
    "trusted": true
   },
   "outputs": [],
   "source": [
    "cmd = f\"dx run swiss-army-knife \"\n",
    "cmd += f\"-iin='{results_dir}/02_pvcf_concat/concat.vcf.gz' \"\n",
    "cmd += f\"-icmd='bcftools norm -m-both -O z -o biallelic.vcf.gz concat.vcf.gz' \"\n",
    "cmd += f\"--instance-type mem2_ssd1_v2_x16 \"\n",
    "cmd += f\"--destination '{projectid}:{results_dir}/03_pvcf_normalized'\"\n",
    "\n",
    "result = subprocess.run(\n",
    "    cmd, \n",
    "    shell=True, \n",
    "    stdout=subprocess.PIPE,\n",
    "    stderr=subprocess.PIPE,\n",
    ")\n",
    "\n",
    "if result.returncode != 0:\n",
    "    print(f\"Error running command:\")\n",
    "    print(result.stderr.decode(\"utf-8\"))\n",
    "    "
   ]
  },
  {
   "cell_type": "markdown",
   "id": "2b8f43a9-7b0c-4622-8651-5329845ec66c",
   "metadata": {
    "jp-MarkdownHeadingCollapsed": true,
    "tags": []
   },
   "source": [
    "### Left-align and normalize"
   ]
  },
  {
   "cell_type": "code",
   "execution_count": null,
   "id": "a960869a-67e1-464d-8ce8-b5b8cb666411",
   "metadata": {},
   "outputs": [],
   "source": [
    "\"\"\"\n",
    "------------------------------------------------------------------------------------------------------\n",
    "------------------------------------------------------------------------------------------------------\n",
    "------------------------------------------------------------------------------------------------------\n",
    "------------------------------ PAUSE HERE UNTIL PREVIOUS STEP COMPLETES ------------------------------\n",
    "------------------------------------------------------------------------------------------------------\n",
    "------------------------------------------------------------------------------------------------------\n",
    "------------------------------------------------------------------------------------------------------\n",
    "\"\"\""
   ]
  },
  {
   "cell_type": "code",
   "execution_count": null,
   "id": "cf1c6e99-309b-4ae0-9590-fa8191aef782",
   "metadata": {
    "tags": [],
    "trusted": true
   },
   "outputs": [],
   "source": [
    "cmd = f\"dx run swiss-army-knife \"\n",
    "cmd += f\"-iin='{results_dir}/03_pvcf_normalized/biallelic.vcf.gz' \"\n",
    "cmd += f\"-iin='/data/Homo_sapiens_assembly38.fasta' \"\n",
    "cmd += f\"-icmd='bcftools norm -f Homo_sapiens_assembly38.fasta -O z -o normalized.vcf.gz biallelic.vcf.gz' \"\n",
    "cmd += f\"--instance-type mem2_ssd1_v2_x16 \"\n",
    "cmd += f\"--destination '{projectid}:{results_dir}/03_pvcf_normalized'\"\n",
    "\n",
    "result = subprocess.run(\n",
    "    cmd, \n",
    "    shell=True, \n",
    "    stdout=subprocess.PIPE,\n",
    "    stderr=subprocess.PIPE,\n",
    ")\n",
    "\n",
    "if result.returncode != 0:\n",
    "    print(f\"Error running command:\")\n",
    "    print(result.stderr.decode(\"utf-8\"))\n"
   ]
  },
  {
   "cell_type": "markdown",
   "id": "3a67f581-c385-4642-88d0-90aa8ec2aec2",
   "metadata": {
    "jp-MarkdownHeadingCollapsed": true,
    "tags": []
   },
   "source": [
    "# Generate plink files for each ancestry-phenotype pair"
   ]
  },
  {
   "cell_type": "markdown",
   "id": "51b4bfc4-f58a-4d02-82c7-f6d409966a48",
   "metadata": {
    "jp-MarkdownHeadingCollapsed": true,
    "tags": []
   },
   "source": [
    "## Subset IDs for all cohort-ancestry combinations"
   ]
  },
  {
   "cell_type": "code",
   "execution_count": null,
   "id": "e7ed7627-bb7b-4a58-8f20-54719966a270",
   "metadata": {
    "tags": [],
    "trusted": true
   },
   "outputs": [],
   "source": [
    "! dx download {results_dir}/ad_cases.txt --overwrite\n",
    "! dx download {results_dir}/rd_cases.txt --overwrite\n",
    "! dx download {results_dir}/controls.txt --overwrite\n"
   ]
  },
  {
   "cell_type": "code",
   "execution_count": null,
   "id": "95811867-db26-4bfe-9ef0-70d61e9db69c",
   "metadata": {
    "tags": [],
    "trusted": true
   },
   "outputs": [],
   "source": [
    "df_ad = pd.read_csv(\"ad_cases.txt\", sep=\"\\t\")\n",
    "df_rd = pd.read_csv(\"rd_cases.txt\", sep=\"\\t\")\n",
    "df_controls = pd.read_csv(\"controls.txt\", sep=\"\\t\")\n"
   ]
  },
  {
   "cell_type": "code",
   "execution_count": null,
   "id": "b860a90a-9ce6-4b10-8a22-c4583c257112",
   "metadata": {
    "tags": [],
    "trusted": true
   },
   "outputs": [],
   "source": [
    "df_ad = df_ad[[\"ID\",\"ancestry\"]]\n",
    "df_rd = df_rd[[\"ID\",\"ancestry\"]]\n",
    "df_controls = df_controls[[\"ID\",\"ancestry\"]]\n"
   ]
  },
  {
   "cell_type": "code",
   "execution_count": null,
   "id": "70167bde-6108-4314-9e4b-80aa4d1c4b84",
   "metadata": {
    "tags": [],
    "trusted": true
   },
   "outputs": [],
   "source": [
    "pheno_ancestry_combos = []\n",
    "\n",
    "for ancestry in df_ad[\"ancestry\"].unique():\n",
    "    ids = df_ad[df_ad[\"ancestry\"] == ancestry][\"ID\"]\n",
    "    with open(f\"ad_ids_{ancestry}.txt\", 'w') as file:\n",
    "        for iid in ids:\n",
    "            file.write(f\"{iid}\\n\")\n",
    "    ! dx upload ad_ids_{ancestry}.txt --path {results_dir}/00_id_files/ad_ids_{ancestry}.txt\n",
    "    pheno_ancestry_combos.append([\"ad\", ancestry])\n",
    "\n",
    "for ancestry in df_rd[\"ancestry\"].unique():\n",
    "    ids = df_rd[df_rd[\"ancestry\"] == ancestry][\"ID\"]\n",
    "    with open(f\"rd_ids_{ancestry}.txt\", 'w') as file:\n",
    "        for iid in ids:\n",
    "            file.write(f\"{iid}\\n\")\n",
    "    ! dx upload rd_ids_{ancestry}.txt --path {results_dir}/00_id_files/rd_ids_{ancestry}.txt\n",
    "    pheno_ancestry_combos.append([\"rd\", ancestry])\n",
    "\n",
    "for ancestry in df_controls[\"ancestry\"].unique():\n",
    "    ids = df_controls[df_controls[\"ancestry\"] == ancestry][\"ID\"]\n",
    "    with open(f\"control_ids_{ancestry}.txt\", 'w') as file:\n",
    "        for iid in ids:\n",
    "            file.write(f\"{iid}\\n\")\n",
    "    ! dx upload control_ids_{ancestry}.txt --path {results_dir}/00_id_files/control_ids_{ancestry}.txt\n",
    "    pheno_ancestry_combos.append([\"control\", ancestry])\n"
   ]
  },
  {
   "cell_type": "markdown",
   "id": "a67c72aa-ed0e-43f9-be72-aec5d700779b",
   "metadata": {
    "jp-MarkdownHeadingCollapsed": true,
    "tags": []
   },
   "source": [
    "## Generate plink files"
   ]
  },
  {
   "cell_type": "code",
   "execution_count": null,
   "id": "50fd769d-7f8b-448a-8615-59c445dce282",
   "metadata": {
    "tags": [],
    "trusted": true
   },
   "outputs": [],
   "source": [
    "for pheno_ancestry_combo in pheno_ancestry_combos:\n",
    "    pheno = pheno_ancestry_combo[0]\n",
    "    ancestry = pheno_ancestry_combo[1]\n",
    "    \n",
    "    cmd = f\"dx run swiss-army-knife \"\n",
    "    cmd += f\"-iin='{results_dir}/03_pvcf_normalized/normalized.vcf.gz' \"\n",
    "    cmd += f\"-iin='{results_dir}/00_id_files/{pheno}_ids_{ancestry}.txt' \"\n",
    "    cmd += f\"-icmd='plink2 --vcf normalized.vcf.gz --set-all-var-ids \\\"chr@:#:\\\\$r:\\\\$a\\\" --new-id-max-allele-len 999 --keep {pheno}_ids_{ancestry}.txt --make-pgen --out {pheno}_{ancestry}' \"\n",
    "    cmd += f\"--instance-type mem2_ssd1_v2_x32 \"\n",
    "    cmd += f\"--destination '{projectid}:{results_dir}/04_plink'\"\n",
    "\n",
    "    result = subprocess.run(\n",
    "        cmd, \n",
    "        shell=True, \n",
    "        stdout=subprocess.PIPE,\n",
    "        stderr=subprocess.PIPE,\n",
    "    )\n",
    "\n",
    "    if result.returncode != 0:\n",
    "        print(f\"Error running command:\")\n",
    "        print(result.stderr.decode(\"utf-8\"))\n"
   ]
  },
  {
   "cell_type": "markdown",
   "id": "6a381f28-e318-45d9-a167-3fd40c98dc5b",
   "metadata": {
    "jp-MarkdownHeadingCollapsed": true,
    "tags": []
   },
   "source": [
    "# Annotation"
   ]
  },
  {
   "cell_type": "markdown",
   "id": "301fd58e-661c-49cc-858e-0f118d15395c",
   "metadata": {
    "jp-MarkdownHeadingCollapsed": true,
    "tags": []
   },
   "source": [
    "## Filter VCFs to only include a few participants"
   ]
  },
  {
   "cell_type": "code",
   "execution_count": null,
   "id": "a5696450-313d-4e80-bc55-00df2600aa68",
   "metadata": {
    "tags": [],
    "trusted": true
   },
   "outputs": [],
   "source": [
    "cmd = f\"dx run swiss-army-knife \"\n",
    "cmd += f\"-iin='{results_dir}/03_pvcf_normalized/normalized.vcf.gz' \"\n",
    "cmd += f\"-icmd='bcftools view -O z -G normalized.vcf.gz -o annovar_input.vcf.gz' \"\n",
    "cmd += f\"--instance-type mem2_ssd1_v2_x4 \"\n",
    "cmd += f\"--destination '{projectid}:{results_dir}/05_annotated'\"\n",
    "\n",
    "result = subprocess.run(\n",
    "    cmd, \n",
    "    shell=True, \n",
    "    stdout=subprocess.PIPE,\n",
    "    stderr=subprocess.PIPE,\n",
    ")\n",
    "\n",
    "if result.returncode != 0:\n",
    "    print(f\"Error running command:\")\n",
    "    print(result.stderr.decode(\"utf-8\"))\n"
   ]
  },
  {
   "cell_type": "markdown",
   "id": "50c8eaf9-1da4-49b8-ae56-890259085319",
   "metadata": {
    "jp-MarkdownHeadingCollapsed": true,
    "tags": []
   },
   "source": [
    "## Fetch Annovar libraries and reference genome data"
   ]
  },
  {
   "cell_type": "code",
   "execution_count": null,
   "id": "1a6d97d7-30e5-4aa4-b113-8a1a14129b8f",
   "metadata": {
    "tags": [],
    "trusted": true
   },
   "outputs": [],
   "source": [
    "%%capture\n",
    "\n",
    "! wget http://www.openbioinformatics.org/annovar/download/0wgxR2rIVP/annovar.latest.tar.gz\n",
    "! tar -xzf annovar.latest.tar.gz\n",
    "! chmod a+x ./annovar/*.pl\n",
    "! annovar/annotate_variation.pl -downdb -buildver hg38 -webfrom annovar refGene annovar/humandb/\n",
    "! annovar/annotate_variation.pl -downdb -buildver hg38 -webfrom annovar avsnp151 annovar/humandb/\n",
    "! annovar/annotate_variation.pl -downdb -buildver hg38 -webfrom annovar clinvar_20240917 annovar/humandb/\n",
    "! annovar/annotate_variation.pl -downdb -buildver hg38 -webfrom annovar dbnsfp47a annovar/humandb/\n",
    "! annovar/annotate_variation.pl -downdb -buildver hg38 -webfrom annovar dbnsfp47a_interpro annovar/humandb/\n",
    "! annovar/annotate_variation.pl -downdb -buildver hg38 -webfrom annovar gnomad41_genome annovar/humandb/\n",
    "! dx download /data/Homo_sapiens_assembly38.fasta --overwrite\n",
    "! dx download /data/Homo_sapiens_assembly38.fasta.fai --overwrite\n",
    "! dx download /data/Homo_sapiens_assembly38.dict --overwrite\n"
   ]
  },
  {
   "cell_type": "code",
   "execution_count": null,
   "id": "25812e9d-cbfc-4af3-bd42-80c846d1a4ca",
   "metadata": {
    "tags": [],
    "trusted": true
   },
   "outputs": [],
   "source": [
    "! dx download {results_dir}/05_annotated/annovar_input.vcf.gz\n"
   ]
  },
  {
   "cell_type": "markdown",
   "id": "96fadfc5-73c5-4f79-ac67-b019a29f8322",
   "metadata": {
    "jp-MarkdownHeadingCollapsed": true,
    "tags": []
   },
   "source": [
    "## Perform annotation"
   ]
  },
  {
   "cell_type": "code",
   "execution_count": null,
   "id": "165edf19-d1ab-4751-89c7-9a126b700166",
   "metadata": {
    "tags": [],
    "trusted": true
   },
   "outputs": [],
   "source": [
    "cmd = f\"annovar/table_annovar.pl annovar_input.vcf.gz annovar/humandb/ \"\n",
    "cmd += f\"--buildver hg38 \"\n",
    "cmd += f\"--thread 36 \"\n",
    "cmd += f\"--remove \"\n",
    "cmd += f\"--protocol refGene,avsnp151,clinvar_20240917,dbnsfp47a,dbnsfp47a_interpro,gnomad41_genome \"\n",
    "cmd += f\"--operation g,f,f,f,f,f \"\n",
    "cmd += f\"--nopolish \"\n",
    "cmd += f\"--nastring . \"\n",
    "cmd += f\"--out annotated \"\n",
    "cmd += f\"--vcfinput \"\n",
    "\n",
    "result = subprocess.run(\n",
    "    cmd, \n",
    "    shell=True, \n",
    "    stdout=subprocess.PIPE,\n",
    "    stderr=subprocess.PIPE,\n",
    ")\n",
    "\n",
    "if result.returncode != 0:\n",
    "    print(f\"Error running command:\")\n",
    "    print(result.stderr.decode(\"utf-8\"))\n"
   ]
  },
  {
   "cell_type": "code",
   "execution_count": null,
   "id": "b1f17ff0-f428-40f4-a1c2-2a407ffc6830",
   "metadata": {
    "tags": [],
    "trusted": true
   },
   "outputs": [],
   "source": [
    "! mv annotated.hg38_multianno.txt annotated.txt\n",
    "! dx upload annotated.txt --path {results_dir}/05_annotated/annotated.txt\n"
   ]
  },
  {
   "cell_type": "markdown",
   "id": "8d2e5906-4c04-4cde-afd0-59c0b0be3a69",
   "metadata": {
    "jp-MarkdownHeadingCollapsed": true,
    "jupyter": {
     "outputs_hidden": true
    },
    "tags": []
   },
   "source": [
    "# Allele frequencies"
   ]
  },
  {
   "cell_type": "code",
   "execution_count": null,
   "id": "a7fa10b2-0df8-47c4-adb4-333545bcdf34",
   "metadata": {
    "tags": [],
    "trusted": true
   },
   "outputs": [],
   "source": [
    "for pheno_ancestry_combo in pheno_ancestry_combos:\n",
    "    pheno = pheno_ancestry_combo[0]\n",
    "    ancestry = pheno_ancestry_combo[1]\n",
    "\n",
    "    cmd = f\"dx run swiss-army-knife \"\n",
    "    cmd += f\"-iin='{results_dir}/04_plink/{pheno}_{ancestry}.pgen' \"\n",
    "    cmd += f\"-iin='{results_dir}/04_plink/{pheno}_{ancestry}.pvar' \"\n",
    "    cmd += f\"-iin='{results_dir}/04_plink/{pheno}_{ancestry}.psam' \"\n",
    "    cmd += f\"-icmd='plink2 --pfile {pheno}_{ancestry} --freq --out {pheno}_{ancestry}' \"\n",
    "    cmd += f\"--instance-type mem2_ssd1_v2_x4 \"\n",
    "    cmd += f\"--destination '{projectid}:{results_dir}/06_frequencies'\"\n",
    "\n",
    "    result = subprocess.run(\n",
    "        cmd, \n",
    "        shell=True, \n",
    "        stdout=subprocess.PIPE,\n",
    "        stderr=subprocess.PIPE,\n",
    "    )\n",
    "\n",
    "    if result.returncode != 0:\n",
    "        print(f\"Error running command:\")\n",
    "        print(result.stderr.decode(\"utf-8\"))\n"
   ]
  },
  {
   "cell_type": "code",
   "execution_count": null,
   "id": "82d95243-d88e-4655-a979-67de31eb35bd",
   "metadata": {
    "tags": [],
    "trusted": true
   },
   "outputs": [],
   "source": [
    "pheno_ancestry_combos_arr = np.array(pheno_ancestry_combos)\n",
    "\n",
    "df_merged = None\n",
    "for pheno in [\"ad\",\"rd\",\"control\"]:\n",
    "    ancestries = pheno_ancestry_combos_arr[pheno_ancestry_combos_arr[:,0] == pheno][:,1]\n",
    "\n",
    "    for ancestry in ancestries:\n",
    "        ! dx download {results_dir}/06_frequencies/{pheno}_{ancestry}.afreq --overwrite\n",
    "        \n",
    "        df = pd.read_csv(f\"{pheno}_{ancestry}.afreq\", sep=\"\\t\")\n",
    "        df = df[[\"ID\",\"ALT_FREQS\",\"OBS_CT\"]]\n",
    "        df.rename({\"ALT_FREQS\":f\"ALT_FREQS_{ancestry}_{pheno.upper()}\", \"OBS_CT\":f\"OBS_CT_{ancestry}_{pheno.upper()}\"}, inplace=True, axis=1)\n",
    "\n",
    "        if df_merged is None:\n",
    "            df_merged = df\n",
    "            print(df_merged.shape)\n",
    "        else:\n",
    "            df_merged = df_merged.merge(df, on=\"ID\")\n",
    "            print(df_merged.shape)\n",
    "            \n",
    "        ! rm {pheno}_{ancestry}.afreq\n",
    "\n",
    "df_merged.to_csv(f\"frequencies.txt\", index=False, sep=\"\\t\")\n",
    "! dx upload frequencies.txt --path {results_dir}/06_frequencies/frequencies.txt\n"
   ]
  },
  {
   "cell_type": "markdown",
   "id": "7355d314-4504-45d7-a814-8a60821df159",
   "metadata": {
    "tags": []
   },
   "source": [
    "# Zygosity"
   ]
  },
  {
   "cell_type": "markdown",
   "id": "fdf813fc-0f30-4a33-9d16-889cf89e92cf",
   "metadata": {
    "tags": []
   },
   "source": [
    "## Recode files"
   ]
  },
  {
   "cell_type": "code",
   "execution_count": null,
   "id": "e2b31b37-efdc-4dc0-aed5-b7f35f7ed577",
   "metadata": {
    "tags": [],
    "trusted": true
   },
   "outputs": [],
   "source": [
    "for pheno_ancestry_combo in pheno_ancestry_combos:\n",
    "    pheno = pheno_ancestry_combo[0]\n",
    "    ancestry = pheno_ancestry_combo[1]\n",
    "\n",
    "    cmd = f\"dx run swiss-army-knife \"\n",
    "    cmd += f\"-iin='{results_dir}/04_plink/{pheno}_{ancestry}.pgen' \"\n",
    "    cmd += f\"-iin='{results_dir}/04_plink/{pheno}_{ancestry}.pvar' \"\n",
    "    cmd += f\"-iin='{results_dir}/04_plink/{pheno}_{ancestry}.psam' \"\n",
    "    cmd += f\"-iin='{results_dir}/06_frequencies/{pheno}_{ancestry}.afreq' \"\n",
    "    cmd += f\"-icmd='plink2 --pfile {pheno}_{ancestry} --read-freq {pheno}_{ancestry}.afreq --export A --out {pheno}_{ancestry}' \"\n",
    "    cmd += f\"--instance-type mem2_ssd1_v2_x4 \"\n",
    "    cmd += f\"--destination '{projectid}:{results_dir}/07_zygosity'\"\n",
    "\n",
    "    result = subprocess.run(\n",
    "        cmd, \n",
    "        shell=True, \n",
    "        stdout=subprocess.PIPE,\n",
    "        stderr=subprocess.PIPE,\n",
    "    )\n",
    "\n",
    "    if result.returncode != 0:\n",
    "        print(f\"Error running command:\")\n",
    "        print(result.stderr.decode(\"utf-8\"))\n"
   ]
  },
  {
   "cell_type": "markdown",
   "id": "fd7d93a4-0409-4efc-9c57-2869c2f58709",
   "metadata": {
    "tags": []
   },
   "source": [
    "## Find homozygous/heterozygous counts"
   ]
  },
  {
   "cell_type": "code",
   "execution_count": null,
   "id": "34d02dd5-2b2a-4ea2-a769-1d387758f4ab",
   "metadata": {
    "tags": [],
    "trusted": true
   },
   "outputs": [],
   "source": [
    "%%bash\n",
    "\n",
    "for pheno in {\"ad\",\"rd\",\"control\"};\n",
    "do\n",
    "    for ancestry in {\"AAC\",\"AFR\",\"AJ\",\"AMR\",\"CAH\",\"CAS\",\"EAS\",\"EUR\",\"FIN\",\"MDE\",\"SAS\"};\n",
    "    do\n",
    "        dx download /results/dementia_project/07_zygosity/${pheno}_${ancestry}.raw --overwrite || \n",
    "        { \n",
    "            echo \"No file found at /results/dementia_project/07_zygosity/${pheno}_${ancestry}.raw\"; continue; \n",
    "        }\n",
    "        \n",
    "        output_file=\"counts_${pheno}_${ancestry}.txt\"\n",
    "        temp_output=\"temp_${pheno}_${ancestry}.txt\"\n",
    "\n",
    "        > $output_file\n",
    "\n",
    "        input_file=\"cut.raw\"\n",
    "        grep \"FID\" ${pheno}_${ancestry}.raw | cut -d$'\\t' -f7- > header.tmp\n",
    "        cut -d$'\\t' -f7- \"${pheno}_${ancestry}.raw\" > $input_file\n",
    "\n",
    "        declare -A count_2\n",
    "        declare -A count_1\n",
    "        declare -A count_0\n",
    "\n",
    "        awk -F'\\t' '\n",
    "        {\n",
    "            for (i=1; i<=NF; i++) {\n",
    "                if ($i == 2) count_2[i]++;\n",
    "                else if ($i == 1) count_1[i]++;\n",
    "                else if ($i == 0) count_0[i]++;\n",
    "            }\n",
    "        }\n",
    "        END {\n",
    "            for (i=1; i<=NF; i++) {\n",
    "                printf(\"%d\", count_2[i]);\n",
    "                if (i<NF) printf(\"\\t\");\n",
    "            }\n",
    "            print \"\";\n",
    "\n",
    "            for (i=1; i<=NF; i++) {\n",
    "                printf(\"%d\", count_1[i]);\n",
    "                if (i<NF) printf(\"\\t\");\n",
    "            }\n",
    "            print \"\";\n",
    "\n",
    "            for (i=1; i<=NF; i++) {\n",
    "                printf(\"%d\", count_0[i]);\n",
    "                if (i<NF) printf(\"\\t\");\n",
    "            }\n",
    "            print \"\";\n",
    "        }' $input_file > count.tmp\n",
    "\n",
    "        cat header.tmp count.tmp > $output_file\n",
    "        rm $input_file count.tmp header.tmp ${pheno}_${ancestry}.raw\n",
    "        echo \"Counts have been appended to $output_file\"\n",
    "    done\n",
    "done\n"
   ]
  },
  {
   "cell_type": "code",
   "execution_count": null,
   "id": "e61f36d4-bc19-481b-80fe-adcde5d61825",
   "metadata": {
    "tags": [],
    "trusted": true
   },
   "outputs": [],
   "source": [
    "for pheno_ancestry_combo in pheno_ancestry_combos:\n",
    "    pheno = pheno_ancestry_combo[0]\n",
    "    ancestry = pheno_ancestry_combo[1]\n",
    "    ! dx upload counts_{pheno}_{ancestry}.txt --path {results_dir}/07_zygosity/counts_{pheno}_{ancestry}.txt\n"
   ]
  },
  {
   "cell_type": "code",
   "execution_count": null,
   "id": "ebd4f920-921e-4669-a5e5-06fd199da02d",
   "metadata": {
    "tags": [],
    "trusted": true
   },
   "outputs": [],
   "source": [
    "for pheno in [\"ad\",\"rd\",\"control\"]:\n",
    "    zyg_pheno = []\n",
    "    for ancestry in [\"AAC\",\"AFR\",\"AJ\",\"AMR\",\"CAH\",\"CAS\",\"EAS\",\"EUR\",\"FIN\",\"MDE\",\"SAS\"]:\n",
    "        try:\n",
    "            df = pd.read_csv(f\"counts_{pheno}_{ancestry}.txt\", sep=\"\\t\")\n",
    "            variant_ids = df.columns.values\n",
    "            rename_dict = {}\n",
    "            for vid in variant_ids:\n",
    "                rename_dict[vid] = vid.split(\"_\")[0]\n",
    "            df.rename(rename_dict, axis=1, inplace=True)\n",
    "            zyg_pheno.append(df)\n",
    "        except:\n",
    "            print(f\"No data found at counts_{pheno}_{ancestry}.txt\")\n",
    "    result_zyg = reduce(lambda x, y: x + y, zyg_pheno)\n",
    "    result_zyg.to_csv(f\"{pheno}_counts.txt\", index=False, sep=\"\\t\")\n",
    "    ! dx upload {pheno}_counts.txt --path {results_dir}/07_zygosity/{pheno}_counts.txt\n"
   ]
  },
  {
   "cell_type": "code",
   "execution_count": null,
   "id": "bb0ad7ac-fa4a-4853-870f-133bb3036d2b",
   "metadata": {
    "tags": [],
    "trusted": true
   },
   "outputs": [],
   "source": [
    "! dx download {results_dir}/07_zygosity/ad_counts.txt\n",
    "! dx download {results_dir}/07_zygosity/rd_counts.txt\n",
    "! dx download {results_dir}/07_zygosity/control_counts.txt\n"
   ]
  },
  {
   "cell_type": "code",
   "execution_count": null,
   "id": "658c9859-1990-4de1-8769-3aaaf431f1e5",
   "metadata": {
    "tags": [],
    "trusted": true
   },
   "outputs": [],
   "source": [
    "ad_zyg = pd.read_csv(f\"ad_counts.txt\", sep=\"\\t\")\n",
    "rd_zyg = pd.read_csv(f\"rd_counts.txt\", sep=\"\\t\")\n",
    "control_zyg = pd.read_csv(f\"control_counts.txt\", sep=\"\\t\")\n",
    "\n",
    "ad_zyg = ad_zyg.T\n",
    "rd_zyg = rd_zyg.T\n",
    "control_zyg = control_zyg.T\n",
    "\n",
    "ad_zyg = ad_zyg.reset_index()\n",
    "rd_zyg = rd_zyg.reset_index()\n",
    "control_zyg = control_zyg.reset_index()\n",
    "\n",
    "ad_zyg.rename(columns={'index': 'ID', 0: 'AD_Homozygous_Ref', 1: 'AD_Heterozygous', 2: 'AD_Homozygous_Alt'}, inplace=True)\n",
    "rd_zyg.rename(columns={'index': 'ID', 0: 'RD_Homozygous_Ref', 1: 'RD_Heterozygous', 2: 'RD_Homozygous_Alt'}, inplace=True)\n",
    "control_zyg.rename(columns={'index': 'ID', 0: 'Control_Homozygous_Ref', 1: 'Control_Heterozygous', 2: 'Control_Homozygous_Alt'}, inplace=True)\n",
    "\n",
    "final_zyg = ad_zyg.merge(rd_zyg, on=\"ID\")\n",
    "final_zyg = final_zyg.merge(control_zyg, on=\"ID\")\n",
    "\n",
    "final_zyg.to_csv(\"zygosity.txt\", index=False, sep=\"\\t\")\n",
    "! dx upload zygosity.txt --path {results_dir}/07_zygosity/zygosity.txt\n"
   ]
  },
  {
   "cell_type": "markdown",
   "id": "5be5d449-7d1c-4f60-87a1-78ab4274d979",
   "metadata": {
    "jp-MarkdownHeadingCollapsed": true,
    "tags": []
   },
   "source": [
    "# Merge annotation, frequency, and zygosity files"
   ]
  },
  {
   "cell_type": "code",
   "execution_count": null,
   "id": "d4a8d13c-5b25-4291-9a5d-e8d27d24bb56",
   "metadata": {
    "tags": [],
    "trusted": true
   },
   "outputs": [],
   "source": [
    "! dx download {results_dir}/05_annotated/annotated.txt --overwrite\n",
    "! dx download {results_dir}/06_frequencies/frequencies.txt --overwrite\n",
    "! dx download {results_dir}/07_zygosity/zygosity.txt --overwrite\n"
   ]
  },
  {
   "cell_type": "code",
   "execution_count": null,
   "id": "d67ff6aa-4a87-4c2b-8ede-857fd596e5c0",
   "metadata": {
    "tags": [],
    "trusted": true
   },
   "outputs": [],
   "source": [
    "df_anno = pd.read_csv(\"annotated.txt\", sep=\"\\t\")\n",
    "df_anno.insert(1, \"ID\", df_anno[[\"Chr\",\"Start\",\"Ref\",\"Alt\"]].astype(str).agg(':'.join, axis=1))\n",
    "df_anno = df_anno[[col for col in df_anno.columns if \"Otherinfo\" not in col]]\n",
    "\n",
    "df_freq = pd.read_csv(\"frequencies.txt\", sep=\"\\t\")\n",
    "df_freq.drop(columns=\"ID\", inplace=True)\n",
    "\n",
    "df_zyg = pd.read_csv(\"zygosity.txt\", sep=\"\\t\")\n",
    "df_zyg.drop(columns=\"ID\", inplace=True)\n",
    "\n",
    "df_merged = pd.concat([df_anno, df_freq, df_zyg], axis=1)\n",
    "df_merged.to_csv(\"merged.txt\", index=False, sep=\"\\t\")\n",
    "! dx upload merged.txt --path {results_dir}/08_merged/merged.txt\n"
   ]
  },
  {
   "cell_type": "markdown",
   "id": "19453f4a-17aa-49e8-bc2b-7177b60638fc",
   "metadata": {
    "jp-MarkdownHeadingCollapsed": true,
    "tags": []
   },
   "source": [
    "# Filter variants"
   ]
  },
  {
   "cell_type": "markdown",
   "id": "55396c5e-1001-4f5c-8f40-e5867d02d11b",
   "metadata": {
    "jp-MarkdownHeadingCollapsed": true,
    "tags": []
   },
   "source": [
    "## Only include exonic/splicing variants present in cases"
   ]
  },
  {
   "cell_type": "code",
   "execution_count": null,
   "id": "05d217ad-2574-4bb6-87b6-b5b7c406cc3c",
   "metadata": {
    "tags": [],
    "trusted": true
   },
   "outputs": [],
   "source": [
    "df_filtered = df_merged[df_merged[\"Func.refGene\"].isin([\"exonic\", \"splicing\"])]\n",
    "\n",
    "ctrl_col_names = [f\"ALT_FREQS_{ancestry}_CONTROL\" for ancestry in ancestries if f\"ALT_FREQS_{ancestry}_CONTROL\" in df_filtered.columns.values]\n",
    "ad_col_names = [f\"ALT_FREQS_{ancestry}_AD\" for ancestry in ancestries if f\"ALT_FREQS_{ancestry}_AD\" in df_filtered.columns.values]\n",
    "rd_col_names = [f\"ALT_FREQS_{ancestry}_RD\" for ancestry in ancestries if f\"ALT_FREQS_{ancestry}_RD\" in df_filtered.columns.values]\n",
    "\n",
    "df_filtered = df_filtered[(df_filtered[ad_col_names + rd_col_names]>0).any(axis=1)]\n",
    "df_filtered[\"Disease\"] = \"\"\n",
    "df_filtered.loc[(df_filtered[ad_col_names]>0).any(axis=1), \"Disease\"] = \"AD\"\n",
    "df_filtered.loc[(df_filtered[rd_col_names]>0).any(axis=1), \"Disease\"] = \"RD\"\n",
    "df_filtered.loc[(df_filtered[ad_col_names]>0).any(axis=1) & (df_filtered[rd_col_names]>0).any(axis=1), \"Disease\"] = \"Both\"\n",
    "display(df_filtered)\n",
    "\n",
    "df_filtered.to_csv(\"variants_in_cases.txt\", index=False, sep=\"\\t\")\n",
    "! dx upload variants_in_cases.txt --path {results_dir}/08_merged/variants_in_cases.txt\n"
   ]
  },
  {
   "cell_type": "markdown",
   "id": "f00b768e-f877-4f5e-bfbd-89cfac58f27d",
   "metadata": {
    "jp-MarkdownHeadingCollapsed": true,
    "tags": []
   },
   "source": [
    "## Remove variants expressed in controls"
   ]
  },
  {
   "cell_type": "code",
   "execution_count": null,
   "id": "62b093b0-a4e1-4475-9c92-d975b7d0cf35",
   "metadata": {
    "tags": [],
    "trusted": true
   },
   "outputs": [],
   "source": [
    "df_filtered = df_filtered[(df_filtered[\"Control_Heterozygous\"] == 0) & (df_filtered[\"Control_Homozygous_Alt\"] == 0)]\n",
    "df_filtered.to_csv(\"variants_in_cases_nocontrols.txt\", index=False, sep=\"\\t\")\n",
    "! dx upload variants_in_cases_nocontrols.txt --path {results_dir}/08_merged/variants_in_cases_nocontrols.txt\n"
   ]
  },
  {
   "cell_type": "markdown",
   "id": "56bbd159-3c9f-420e-bca9-496a13e5f935",
   "metadata": {
    "jp-MarkdownHeadingCollapsed": true,
    "tags": []
   },
   "source": [
    "# APOE Genotyping"
   ]
  },
  {
   "cell_type": "code",
   "execution_count": null,
   "id": "0ad98333-792f-4907-a79b-1373d3ed1465",
   "metadata": {
    "tags": [],
    "trusted": true
   },
   "outputs": [],
   "source": [
    "for pheno_ancestry_combo in pheno_ancestry_combos:\n",
    "    pheno = pheno_ancestry_combo[0]\n",
    "    ancestry = pheno_ancestry_combo[1]\n",
    "\n",
    "    cmd = f\"dx run swiss-army-knife \"\n",
    "    cmd += f\"-iin='{results_dir}/04_plink/{pheno}_{ancestry}.pvar' \"\n",
    "    cmd += f\"-iin='{results_dir}/04_plink/{pheno}_{ancestry}.psam' \"\n",
    "    cmd += f\"-iin='{results_dir}/04_plink/{pheno}_{ancestry}.pgen' \"\n",
    "    cmd += f\"-iin='/data/apoe_variants.txt' \"\n",
    "    cmd += f\"-icmd='plink2 --pfile {pheno}_{ancestry} --extract apoe_variants.txt --make-bed --export compound-genotypes --out apoe_snps_{pheno}_{ancestry}' \"\n",
    "    cmd += f\"--instance-type mem2_ssd1_v2_x4 \"\n",
    "    cmd += f\"--destination '{projectid}:{results_dir}/09_apoe_genotyping'\"\n",
    "\n",
    "    result = subprocess.run(\n",
    "        cmd,\n",
    "        shell=True,\n",
    "        stdout=subprocess.PIPE,\n",
    "        stderr=subprocess.PIPE,\n",
    "    )\n",
    "\n",
    "    if result.returncode != 0:\n",
    "        print(f\"Error running command:\")\n",
    "        print(result.stderr.decode(\"utf-8\"))\n"
   ]
  },
  {
   "cell_type": "code",
   "execution_count": null,
   "id": "aaf00eea-554a-4147-970e-c40f0f544d80",
   "metadata": {},
   "outputs": [],
   "source": [
    "\"\"\"\n",
    "------------------------------------------------------------------------------------------------------\n",
    "------------------------------------------------------------------------------------------------------\n",
    "------------------------------------------------------------------------------------------------------\n",
    "------------------------------ PAUSE HERE UNTIL PREVIOUS STEP COMPLETES ------------------------------\n",
    "------------------------------------------------------------------------------------------------------\n",
    "------------------------------------------------------------------------------------------------------\n",
    "------------------------------------------------------------------------------------------------------\n",
    "\"\"\""
   ]
  },
  {
   "cell_type": "code",
   "execution_count": null,
   "id": "bda6222a-b673-474c-8958-da4d667cd2ba",
   "metadata": {
    "tags": [],
    "trusted": true
   },
   "outputs": [],
   "source": [
    "! dx download /data/APOE_genotypes_PLINK_ped.py --overwrite\n",
    "for pheno_ancestry_combo in pheno_ancestry_combos:\n",
    "    pheno = pheno_ancestry_combo[0]\n",
    "    ancestry = pheno_ancestry_combo[1]\n",
    "    ! dx download {results_dir}/09_apoe_genotyping/apoe_snps_{pheno}_{ancestry}.ped --overwrite\n",
    "    ! python APOE_genotypes_PLINK_ped.py -i apoe_snps_{pheno}_{ancestry}.ped -o apoe_final_{pheno}_{ancestry}\n",
    "    ! dx upload apoe_final_{pheno}_{ancestry}.APOE_GENOTYPES.csv --path {results_dir}/09_apoe_genotyping/apoe_final_{pheno}_{ancestry}.APOE_GENOTYPES.csv\n",
    "    ! rm apoe_snps_{pheno}_{ancestry}.ped\n",
    "    "
   ]
  },
  {
   "cell_type": "code",
   "execution_count": null,
   "id": "c3d13a32-b0d6-4832-8027-a0caa35d945f",
   "metadata": {
    "tags": [],
    "trusted": true
   },
   "outputs": [],
   "source": [
    "arr_pheno_ancestry = np.array(pheno_ancestry_combos)\n",
    "for pheno in [\"ad\",\"rd\",\"control\"]:\n",
    "    ancestries = arr_pheno_ancestry[arr_pheno_ancestry[:,0] == pheno, 1]\n",
    "    pheno_counts = []\n",
    "\n",
    "    for ancestry in ancestries:\n",
    "        apoe_geno = pd.read_csv(f\"apoe_final_{pheno}_{ancestry}.APOE_GENOTYPES.csv\")\n",
    "        display(apoe_geno)\n",
    "        counts = apoe_geno['APOE_GENOTYPE'].value_counts()\n",
    "        counts = counts.reindex([\"e1/e1\", \"e1/e2\", \"e1/e4\", \"e2/e2\", \"e2/e3\", \"e2/e4 or e1/e3\", \"e3/e3\", \"e3/e4\", \"e4/e4\"], fill_value=0)\n",
    "        counts = counts.rename(ancestry)\n",
    "        counts = pd.concat([counts, pd.Series([counts.sum()], index=['total'])])\n",
    "        pheno_counts.append(counts)\n",
    "\n",
    "    pheno_counts = pd.concat(pheno_counts, axis=1)\n",
    "    pheno_counts.columns = ancestries\n",
    "\n",
    "    pheno_percentages = pheno_counts.div(pheno_counts.loc[\"total\"], axis=1) * 100\n",
    "    pheno_percentages.loc[\"total\"] = pheno_counts.loc[\"total\"]\n",
    "\n",
    "    pheno_combined = pheno_counts.applymap(str) + ' (' + pheno_percentages.map(lambda x: f'{x:.2f}%') + ')'\n",
    "    pheno_combined.loc[\"total\"] = pheno_counts.loc[\"total\"]\n",
    "\n",
    "    pheno_counts.to_csv(f\"{pheno}_apoe_genotype_counts.txt\", sep=\"\\t\")\n",
    "    pheno_percentages.to_csv(f\"{pheno}_apoe_genotype_percentages.txt\", sep=\"\\t\")\n",
    "    pheno_combined.to_csv(f\"{pheno}_apoe_genotype_combined.txt\", sep=\"\\t\")\n",
    "\n",
    "    ! dx upload {pheno}_apoe_genotype_counts.txt --path {results_dir}/09_apoe_genotyping/{pheno}_apoe_genotype_counts.txt\n",
    "    ! dx upload {pheno}_apoe_genotype_percentages.txt --path {results_dir}/09_apoe_genotyping/{pheno}_apoe_genotype_percentages.txt\n",
    "    ! dx upload {pheno}_apoe_genotype_combined.txt --path {results_dir}/09_apoe_genotyping/{pheno}_apoe_genotype_combined.txt\n"
   ]
  },
  {
   "cell_type": "markdown",
   "id": "5cd28104-ad75-4628-aca0-dc5794c3e262",
   "metadata": {
    "jp-MarkdownHeadingCollapsed": true,
    "tags": []
   },
   "source": [
    "# Find number of controls with pathogenic variants"
   ]
  },
  {
   "cell_type": "code",
   "execution_count": null,
   "id": "c24aeeb1-21e6-41a7-8e32-f4f34a6d51f2",
   "metadata": {
    "tags": [],
    "trusted": true
   },
   "outputs": [],
   "source": [
    "pathogenic_vars = [\n",
    "    \"chr1:155235196:G:A\",\n",
    "    \"chr1:155235217:C:G\",\n",
    "    \"chr1:155235252:A:G\",\n",
    "    \"chr1:155235727:C:G\",\n",
    "    \"chr1:155235790:C:T\",\n",
    "    \"chr1:155235823:C:T\",\n",
    "    \"chr1:155235843:T:C\",\n",
    "    \"chr1:155236277:G:A\",\n",
    "    \"chr1:155237453:C:T\",\n",
    "    \"chr1:155238174:C:T\",\n",
    "    \"chr1:155238215:T:C\",\n",
    "    \"chr1:155238260:G:C\",\n",
    "    \"chr1:155238630:G:A\",\n",
    "    \"chr1:155240629:C:T\",\n",
    "    \"chr17:44350262:TAGTC:T\",\n",
    "    \"chr17:44350800:CGTGA:C\",\n",
    "    \"chr17:44351409:T:C\",\n",
    "    \"chr4:89828156:A:C\",\n",
    "]\n"
   ]
  },
  {
   "cell_type": "code",
   "execution_count": null,
   "id": "be45b744-0cbe-4d73-8678-dac9fd79ce87",
   "metadata": {
    "tags": [],
    "trusted": true
   },
   "outputs": [],
   "source": [
    "arr_pheno_ancestry = np.array(pheno_ancestry_combos)\n",
    "ancestries = arr_pheno_ancestry[arr_pheno_ancestry[:,0] == \"control\", 1]\n",
    "control_zyg = []\n",
    "\n",
    "for ancestry in ancestries:\n",
    "    ! dx download {results_dir}/07_zygosity/counts_control_{ancestry}.txt --overwrite\n",
    "    \n",
    "    df = pd.read_csv(f\"counts_control_{ancestry}.txt\", sep=\"\\t\")\n",
    "    variant_ids = df.columns.values\n",
    "    rename_dict = {}\n",
    "    for vid in variant_ids:\n",
    "        rename_dict[vid] = vid.split(\"_\")[0]\n",
    "    df.rename(rename_dict, axis=1, inplace=True)\n",
    "    df = df.T\n",
    "    df = df.reset_index()\n",
    "    df.rename(columns={'index': 'ID', 0: f'{ancestry}_Homozygous_Ref', 1: f'{ancestry}_Heterozygous', 2: f'{ancestry}_Homozygous_Alt'}, inplace=True)\n",
    "    df = df[df['ID'].str.startswith(tuple(pathogenic_vars))]\n",
    "    df[ancestry] = df[f'{ancestry}_Heterozygous'] + df[f'{ancestry}_Homozygous_Alt']\n",
    "    df = df[[\"ID\",ancestry]]\n",
    "    control_zyg.append(df)\n",
    "    \n",
    "    ! rm counts_control_{ancestry}.txt\n",
    "\n",
    "control_zyg_merged = reduce(lambda left, right: pd.merge(left, right, on=\"ID\"), control_zyg)\n"
   ]
  },
  {
   "cell_type": "code",
   "execution_count": null,
   "id": "815c6b5f-1cd7-404d-9aba-4fcbbe89fc1f",
   "metadata": {
    "tags": [],
    "trusted": true
   },
   "outputs": [],
   "source": [
    "control_zyg_merged\n"
   ]
  },
  {
   "cell_type": "code",
   "execution_count": null,
   "id": "4e462420-1774-43e3-a3b2-5432ade106ea",
   "metadata": {
    "tags": [],
    "trusted": true
   },
   "outputs": [],
   "source": [
    "control_zyg_merged.to_csv(\"filtered_control_var_counts.txt\", index=False, sep=\"\\t\")\n",
    "! dx upload filtered_control_var_counts.txt --path {results_dir}/10_pathogenic_variants/filtered_control_var_counts.txt\n"
   ]
  },
  {
   "cell_type": "markdown",
   "id": "b7bb6f81-b732-4c19-8e98-3f8e4bfbf4f9",
   "metadata": {},
   "source": [
    "# Phenotypic characteristics"
   ]
  },
  {
   "cell_type": "markdown",
   "id": "c92daa4f-56f4-493c-ad8d-a33cdb158d68",
   "metadata": {
    "tags": []
   },
   "source": [
    "## Download data tables"
   ]
  },
  {
   "cell_type": "code",
   "execution_count": null,
   "id": "89b84f6f-9eb1-4af9-abc3-e44767ac5892",
   "metadata": {
    "tags": [],
    "trusted": true
   },
   "outputs": [],
   "source": [
    "! dx download {results_dir}/08_merged/variants_in_cases_nocontrols.txt --overwrite\n",
    "! dx download {results_dir}/08_merged/merged.txt --overwrite\n",
    "! dx download {results_dir}/06_frequencies/control_EUR.afreq --overwrite\n",
    "! dx download /data/protein_var_map.txt --overwrite\n",
    "! dx download {results_dir}/ad_cases.txt --overwrite\n",
    "! dx download {results_dir}/rd_cases.txt --overwrite\n"
   ]
  },
  {
   "cell_type": "markdown",
   "id": "cb347f2d-7d81-46b2-a8a3-495b65c325ce",
   "metadata": {},
   "source": [
    "## Generate mapping between ID format from VCFs to Annovar"
   ]
  },
  {
   "cell_type": "code",
   "execution_count": null,
   "id": "a05720cb-8aa7-48bc-b6d0-abfc9f342684",
   "metadata": {},
   "outputs": [],
   "source": [
    "\"\"\"\n",
    "------------------------------------------------------------------------------------------------------\n",
    "------------------------------------------------------------------------------------------------------\n",
    "------------------------------------------------------------------------------------------------------\n",
    "------------------------------ PAUSE HERE UNTIL PREVIOUS STEP COMPLETES ------------------------------\n",
    "------------------------------------------------------------------------------------------------------\n",
    "------------------------------------------------------------------------------------------------------\n",
    "------------------------------------------------------------------------------------------------------\n",
    "\"\"\""
   ]
  },
  {
   "cell_type": "code",
   "execution_count": null,
   "id": "c9880464-d38c-4ee8-8a17-3ae3a9d7f238",
   "metadata": {
    "tags": [],
    "trusted": true
   },
   "outputs": [],
   "source": [
    "df_freq = pd.read_csv(\"control_EUR.afreq\", sep=\"\\t\")\n",
    "vcf_ids = list(df_freq[\"ID\"])\n",
    "\n",
    "annovar_ids = list(pd.read_csv(\"merged.txt\", sep=\"\\t\")[\"ID\"])\n",
    "\n",
    "id_mapping = pd.DataFrame({\"vcf_ids\": vcf_ids, \"annovar_ids\": annovar_ids})\n",
    "ids_filtered = pd.read_csv(\"variants_in_cases_nocontrols.txt\", sep=\"\\t\")[[\"ID\"]]\n",
    "ids_filtered.rename(columns={\"ID\":\"annovar_ids\"}, inplace=True)\n",
    "\n",
    "id_mapping = id_mapping.merge(ids_filtered, on=\"annovar_ids\")\n",
    "id_mapping[[\"vcf_ids\"]].to_csv(\"variants_to_keep.txt\", header=None, index=None)\n",
    "! dx upload variants_to_keep.txt --path {results_dir}/11_phenotypic_data/variant_ids.txt\n",
    "id_mapping = id_mapping.set_index(\"vcf_ids\")[\"annovar_ids\"].to_dict()\n"
   ]
  },
  {
   "cell_type": "markdown",
   "id": "eddddcd3-9b6a-4249-a171-5d62e93507ca",
   "metadata": {
    "tags": []
   },
   "source": [
    "## Fetch raw files for variants exclusively in cases"
   ]
  },
  {
   "cell_type": "code",
   "execution_count": null,
   "id": "6e8bbbff-f96a-454e-bf5b-a0acb5e2c195",
   "metadata": {},
   "outputs": [],
   "source": [
    "\"\"\"\n",
    "------------------------------------------------------------------------------------------------------\n",
    "------------------------------------------------------------------------------------------------------\n",
    "------------------------------------------------------------------------------------------------------\n",
    "------------------------------ PAUSE HERE UNTIL PREVIOUS STEP COMPLETES ------------------------------\n",
    "------------------------------------------------------------------------------------------------------\n",
    "------------------------------------------------------------------------------------------------------\n",
    "------------------------------------------------------------------------------------------------------\n",
    "\"\"\""
   ]
  },
  {
   "cell_type": "code",
   "execution_count": null,
   "id": "fcf9fc3c-f6ba-4afc-af06-e4ad583d8b16",
   "metadata": {
    "tags": [],
    "trusted": true
   },
   "outputs": [],
   "source": [
    "cmd = f\"dx run swiss-army-knife \"\n",
    "cmd += f\"-iin='{results_dir}/03_pvcf_normalized/normalized.vcf.gz' \"\n",
    "cmd += f\"-iin='{results_dir}/11_phenotypic_data/variant_ids.txt' \"\n",
    "cmd += f\"-icmd='plink2 --vcf normalized.vcf.gz --set-all-var-ids \\\"chr@:#:\\\\$r:\\\\$a\\\" --new-id-max-allele-len 999 --extract variant_ids.txt --freq --out full_cohort' \"\n",
    "cmd += f\"--instance-type mem2_ssd1_v2_x4 \"\n",
    "cmd += f\"--destination '{projectid}:{results_dir}/11_phenotypic_data'\"\n",
    "\n",
    "result = subprocess.run(\n",
    "    cmd, \n",
    "    shell=True, \n",
    "    stdout=subprocess.PIPE,\n",
    "    stderr=subprocess.PIPE,\n",
    ")\n",
    "\n",
    "if result.returncode != 0:\n",
    "    print(f\"Error running command:\")\n",
    "    print(result.stderr.decode(\"utf-8\"))\n"
   ]
  },
  {
   "cell_type": "code",
   "execution_count": null,
   "id": "54d933da-b2a3-4083-9b70-8f178fea9e6a",
   "metadata": {
    "tags": [],
    "trusted": true
   },
   "outputs": [],
   "source": [
    "cmd = f\"dx run swiss-army-knife \"\n",
    "cmd += f\"-iin='{results_dir}/03_pvcf_normalized/normalized.vcf.gz' \"\n",
    "cmd += f\"-iin='{results_dir}/11_phenotypic_data/variant_ids.txt' \"\n",
    "cmd += f\"-iin='{results_dir}/11_phenotypic_data/full_cohort.afreq' \"\n",
    "cmd += f\"-icmd='plink2 --vcf normalized.vcf.gz --set-all-var-ids \\\"chr@:#:\\\\$r:\\\\$a\\\" --new-id-max-allele-len 999 --extract variant_ids.txt --read-freq full_cohort.afreq --export A --het --out full_cohort' \"\n",
    "cmd += f\"--instance-type mem2_ssd1_v2_x4 \"\n",
    "cmd += f\"--destination '{projectid}:{results_dir}/11_phenotypic_data'\"\n",
    "\n",
    "result = subprocess.run(\n",
    "    cmd, \n",
    "    shell=True, \n",
    "    stdout=subprocess.PIPE,\n",
    "    stderr=subprocess.PIPE,\n",
    ")\n",
    "\n",
    "if result.returncode != 0:\n",
    "    print(f\"Error running command:\")\n",
    "    print(result.stderr.decode(\"utf-8\"))\n"
   ]
  },
  {
   "cell_type": "code",
   "execution_count": null,
   "id": "8aad2ada-abb0-4c52-bed1-197c334fabca",
   "metadata": {
    "tags": [],
    "trusted": true
   },
   "outputs": [],
   "source": [
    "! dx download {results_dir}/11_phenotypic_data/full_cohort.raw --overwrite\n"
   ]
  },
  {
   "cell_type": "markdown",
   "id": "2ea52617-900f-43d7-a089-f07aadd2c0a6",
   "metadata": {},
   "source": [
    "## Reformat variant IDs and fill NA values"
   ]
  },
  {
   "cell_type": "code",
   "execution_count": null,
   "id": "2796ad08-1b7f-4d72-a331-fc39788599fb",
   "metadata": {
    "tags": [],
    "trusted": true
   },
   "outputs": [],
   "source": [
    "df_raw = pd.read_csv(\"full_cohort.raw\", sep=\"\\t\")\n",
    "variant_ids = df_raw.columns.values\n",
    "rename_dict = {}\n",
    "for vid in variant_ids:\n",
    "    rename_dict[vid] = vid.split(\"_\")[0]\n",
    "df_raw.rename(rename_dict, axis=1, inplace=True)\n",
    "df_raw.drop(columns=[\"FID\",\"PAT\",\"MAT\",\"SEX\",\"PHENOTYPE\"], inplace=True)\n",
    "df_raw.fillna(2, inplace=True)\n"
   ]
  },
  {
   "cell_type": "markdown",
   "id": "fc696bc2-e244-4878-ad01-5ac58316d660",
   "metadata": {},
   "source": [
    "## Keep track of participants with each variant"
   ]
  },
  {
   "cell_type": "code",
   "execution_count": null,
   "id": "361f737c-a29b-4371-87aa-2b66d5a49952",
   "metadata": {
    "tags": [],
    "trusted": true
   },
   "outputs": [],
   "source": [
    "list_vars = []\n",
    "list_ids = []\n",
    "for variant in df_raw.columns[1:]:\n",
    "    var_ids = df_raw[df_raw[variant] != 2]['IID'].tolist()\n",
    "    for iid in var_ids:\n",
    "        list_vars.append(variant)\n",
    "        list_ids.append(iid)\n",
    "    "
   ]
  },
  {
   "cell_type": "code",
   "execution_count": null,
   "id": "e0a7f86c-3636-4820-97e1-3f2411b418e1",
   "metadata": {
    "tags": [],
    "trusted": true
   },
   "outputs": [],
   "source": [
    "df_pheno = pd.DataFrame({\n",
    "    \"variant_id_full\":list_vars,\n",
    "    \"participant_id\":list_ids,\n",
    "})\n",
    "df_pheno[\"variant_id_full\"] = df_pheno[\"variant_id_full\"].map(id_mapping)\n",
    "df_pheno[\"variant_id\"] = df_pheno[\"variant_id_full\"].map(lambda x: \":\".join(x.split(\":\")[:2]))\n",
    "\n",
    "protein_var_map = pd.read_csv(\"protein_var_map.txt\", sep=\"\\t\")\n",
    "df_pheno = df_pheno.merge(protein_var_map, on=\"variant_id\")\n"
   ]
  },
  {
   "cell_type": "markdown",
   "id": "3213200b-c3ce-4d22-a8b1-689588e7ddfa",
   "metadata": {},
   "source": [
    "## Fetch and save phenotypic data"
   ]
  },
  {
   "cell_type": "code",
   "execution_count": null,
   "id": "c1e6c228-a6cd-4f35-8060-8c009ebfa528",
   "metadata": {
    "tags": [],
    "trusted": true
   },
   "outputs": [],
   "source": [
    "df_ad = pd.read_csv(\"ad_cases.txt\", sep=\"\\t\")\n",
    "df_rd = pd.read_csv(\"rd_cases.txt\", sep=\"\\t\")\n",
    "\n",
    "df_ad.rename({\"AD_DATE\":\"DATE_OF_ONSET\", \"ID\":\"participant_id\"}, inplace=True, axis=1)\n",
    "df_rd.rename({\"DEM_DATE\":\"DATE_OF_ONSET\", \"ID\":\"participant_id\"}, inplace=True, axis=1)\n",
    "\n",
    "df_dem = pd.concat([df_ad, df_rd], axis=0)\n",
    "df_dem.reset_index(inplace=True, drop=True)\n"
   ]
  },
  {
   "cell_type": "code",
   "execution_count": null,
   "id": "ca9d92b3-c56b-4e26-a044-e11ad7cea3cd",
   "metadata": {
    "tags": [],
    "trusted": true
   },
   "outputs": [],
   "source": [
    "most_recent_disease_date = pd.to_datetime(df_dem[\"DATE_OF_ONSET\"]).max()\n",
    "\n",
    "df_dem[\"AGE_AT_ONSET\"] = (pd.to_datetime(df_dem['DATE_OF_ONSET']) - pd.to_datetime(df_dem[\"BIRTH_YEAR\"], format='%Y')).dt.days // 365.242374\n",
    "df_dem[\"DAYS_SINCE_ONSET\"] = (pd.to_datetime(df_dem['DATE_OF_DEATH'].fillna(most_recent_disease_date)) - pd.to_datetime(df_dem['DATE_OF_ONSET'])).dt.days\n",
    "df_dem[\"AGE\"] = (pd.to_datetime(df_dem['DATE_OF_DEATH'].fillna(most_recent_disease_date)) - pd.to_datetime(df_dem['BIRTH_YEAR'], format='%Y')).dt.days // 365.242374\n"
   ]
  },
  {
   "cell_type": "code",
   "execution_count": null,
   "id": "ee3b6196-714b-4a4b-b89e-02483599b740",
   "metadata": {
    "tags": [],
    "trusted": true
   },
   "outputs": [],
   "source": [
    "df_pheno = df_pheno.merge(df_dem[[\n",
    "    \"participant_id\",\n",
    "    \"GENETIC_SEX\",\n",
    "    \"AGE\",\n",
    "    \"DATE_OF_ONSET\",\n",
    "    \"DATE_OF_DEATH\",\n",
    "    \"AGE_AT_ONSET\",\n",
    "    \"DAYS_SINCE_ONSET\",\n",
    "    \"ancestry\",\n",
    "    \"COGNITIVE_SYMPTOMS_SEVERITY_PAST_WEEK\", \n",
    "]], on=\"participant_id\", how=\"inner\")\n"
   ]
  },
  {
   "cell_type": "code",
   "execution_count": null,
   "id": "c198b002-1cd4-43b9-84ef-06e575007282",
   "metadata": {
    "tags": [],
    "trusted": true
   },
   "outputs": [],
   "source": [
    "display(df_pheno)\n",
    "df_pheno.to_csv(\"pheno.txt\", sep=\"\\t\")\n",
    "! dx upload pheno.txt --path {results_dir}/11_phenotypic_data/pheno.txt\n"
   ]
  },
  {
   "cell_type": "code",
   "execution_count": null,
   "id": "02f2310a-3dd9-44e8-9828-bf931aa547f8",
   "metadata": {},
   "outputs": [],
   "source": []
  }
 ],
 "metadata": {
  "kernelspec": {
   "display_name": "Python 3 (ipykernel)",
   "language": "python",
   "name": "python3"
  },
  "language_info": {
   "codemirror_mode": {
    "name": "ipython",
    "version": 3
   },
   "file_extension": ".py",
   "mimetype": "text/x-python",
   "name": "python",
   "nbconvert_exporter": "python",
   "pygments_lexer": "ipython3",
   "version": "3.11.5"
  }
 },
 "nbformat": 4,
 "nbformat_minor": 5
}
