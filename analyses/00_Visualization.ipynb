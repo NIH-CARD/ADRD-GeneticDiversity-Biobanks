{
 "cells": [
  {
   "cell_type": "markdown",
   "id": "904cadb1",
   "metadata": {},
   "source": [
    "# Using a Heatmap to Visualize Protective/Resilient Variants\n",
    "\n",
    "* **Project:** ADRD Genetic Diversity in Biobanks\n",
    "* **Version:** Python/3.10\n",
    "* **Last Updated:** 29-August-2024\n",
    "\n",
    "## Notebook Overview\n",
    "Visualizing the results of protective/resilience variants using a heatmap"
   ]
  },
  {
   "cell_type": "markdown",
   "id": "271dcccf",
   "metadata": {},
   "source": [
    "## Variables used \n",
    "`${COHORT}` = AD, Dementia, Control"
   ]
  },
  {
   "cell_type": "code",
   "execution_count": null,
   "id": "889b4026",
   "metadata": {},
   "outputs": [],
   "source": [
    "df_z = pd.read_csv(\"Heatmap_protective_${COHORT}.csv\")\n",
    "df_z.head()"
   ]
  },
  {
   "cell_type": "code",
   "execution_count": null,
   "id": "3bc3eae0-fa1b-4580-99eb-c5d4659f1d40",
   "metadata": {},
   "outputs": [],
   "source": [
    "import pandas as pd\n",
    "\n",
    "# Load the CSV file\n",
    "df_z = pd.read_csv('Heatmap_protective_${COHORT}.csv')\n",
    "\n",
    "# Filter out rows where the 'Variants' column is empty\n",
    "df_z = df_z[df_z['Variants'].notna()]\n",
    "\n",
    "# Find the maximum value in the numeric columns\n",
    "max_value = df_z.iloc[:, 1:].max().max()\n",
    "\n",
    "# Print the maximum value\n",
    "print(\"The maximum value in the dataset is:\", max_value)\n"
   ]
  },
  {
   "cell_type": "code",
   "execution_count": null,
   "id": "6774af45-7d0c-4e94-82cc-1d550885870e",
   "metadata": {},
   "outputs": [],
   "source": [
    "import seaborn as sns\n",
    "import matplotlib.pyplot as plt\n",
    "from matplotlib.colors import Normalize\n",
    "import pandas as pd\n",
    "import matplotlib as mpl\n",
    "from matplotlib import gridspec\n",
    "\n",
    "# Create a figure with three subplots (one row, three columns)\n",
    "fig, axs = plt.subplots(1, 3, figsize=(30, 12))  # Adjust width as needed\n",
    "\n",
    "# Define file names, titles, and norms for each heatmap\n",
    "file_names = ['Heatmap_protective_AD.csv', 'Heatmap_protective_Dementia.csv', 'Heatmap_protective_Controls.csv']\n",
    "titles = ['AD_e4/e4', 'Related Dementia_e4/e4', 'Controls_e4/e4']\n",
    "norms = [Normalize(vmin=0, vmax=27.27), Normalize(vmin=0, vmax=6.76), Normalize(vmin=0, vmax=2.84)]\n",
    "text_positions = [0.5, 2.3, 1.2]  # Text positions for AD, Related Dementia, Controls\n",
    "\n",
    "# Iterate over the files, titles, and subplots to create each heatmap\n",
    "for i, (file_name, title, norm, text_position) in enumerate(zip(file_names, titles, norms, text_positions)):\n",
    "    # Load the data\n",
    "    df_z = pd.read_csv(file_name)\n",
    "    df_z = df_z[df_z['Variants'].notna()]\n",
    "\n",
    "    # List of ancestry columns (all columns except the first one)\n",
    "    cols = list(df_z.columns)[1:]\n",
    "\n",
    "    # Create a continuous colormap\n",
    "    cmap = sns.color_palette(\"Spectral_r\", as_cmap=True)\n",
    "\n",
    "    # Create heatmap with continuous color palette\n",
    "    sns.heatmap(df_z[cols], cmap=cmap, norm=norm, cbar_kws={\"shrink\": 0.8}, ax=axs[i])\n",
    "\n",
    "    # Set axis labels\n",
    "    axs[i].set_ylabel('SNPs', fontsize=13, fontweight='bold')\n",
    "    axs[i].set_xlabel('Ancestry', fontsize=13, fontweight='bold')\n",
    "\n",
    "    # Correctly set y-ticks and y-tick labels to match the number of SNPs\n",
    "    axs[i].set_yticks(range(len(df_z)))\n",
    "    axs[i].set_yticklabels(df_z['Variants'], rotation=0, fontsize=13, ha='right')\n",
    "\n",
    "    # Rotate x-axis labels for better readability\n",
    "    axs[i].set_xticklabels(axs[i].get_xticklabels(), rotation=45, ha='right', fontsize=11)\n",
    "\n",
    "    # Get the colorbar from the heatmap\n",
    "    colorbar = axs[i].collections[0].colorbar\n",
    "\n",
    "    # Adjust colorbar tick label size\n",
    "    colorbar.ax.tick_params(labelsize=13)\n",
    "\n",
    "    # Adjust text label position above the colorbar\n",
    "    colorbar.ax.text(text_position, 1.05, title, ha='center', va='center', fontsize=13, fontweight='bold', transform=colorbar.ax.transAxes)\n",
    "\n",
    "    # Add a label to the colorbar to indicate percentage\n",
    "    colorbar.ax.set_ylabel('Percentage', fontsize=12)\n",
    "\n",
    "# Adjust layout to prevent overlap\n",
    "plt.tight_layout()\n",
    "\n",
    "# Save the combined plot\n",
    "plt.savefig('combined_heatmap.png', dpi=300, bbox_inches='tight')\n",
    "plt.show()\n"
   ]
  }
 ],
 "metadata": {
  "kernelspec": {
   "display_name": "python/3.10",
   "language": "python",
   "name": "py3.10"
  },
  "language_info": {
   "codemirror_mode": {
    "name": "ipython",
    "version": 3
   },
   "file_extension": ".py",
   "mimetype": "text/x-python",
   "name": "python",
   "nbconvert_exporter": "python",
   "pygments_lexer": "ipython3",
   "version": "3.10.8"
  }
 },
 "nbformat": 4,
 "nbformat_minor": 5
}
